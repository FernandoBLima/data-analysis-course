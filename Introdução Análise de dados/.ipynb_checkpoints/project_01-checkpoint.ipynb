{
 "cells": [
  {
   "cell_type": "markdown",
   "metadata": {},
   "source": [
    "<h1><center><font size=\"6\"> Projeto - Introdução à Ciência dos Dados </font></center></h1>"
   ]
  },
  {
   "cell_type": "markdown",
   "metadata": {},
   "source": [
    "<h1><center><font size=\"5\"> Acidentes de Trânsito com e sem vitimas </font></center></h1>\n",
    "\n",
    "<img src=\"https://brasil.elpais.com/resizer/AohmoYDkUcN_FZ5aoVwYJ9Fh2ds=/768x0/smart/arc-anglerfish-eu-central-1-prod-prisa.s3.amazonaws.com/public/AGDAMTSIRT55ZWQKQL2UNJ5LEA.jpg\" width=\"500\"></img>\n",
    "\n",
    "<br>\n",
    "<h3><right>Aluno: Fernando Baptistella de Lima (limabfernando@gmail.com)</right></h3>\n",
    "<h3><right>Curso: Análise e Engenharia de Dados - Cesar School/Cin UFPE</right></h3>\n",
    "<h3><right>Professor: Luciano Barbosa</right></h3>\n",
    "\n",
    "<br>\n",
    "\n",
    "## <a id='0'>Conteúdo</a>\n",
    "\n",
    "- <a href='#1'>Introdução</a>  \n",
    "- <a href='#2'>Importando bibliotecas úteis</a>   \n",
    "- <a href='#3'>Transformação de Dados e Análise Exploratória de Dados</a>\n",
    " - <a href='#31'>Carregar o dataset</a>   \n",
    "     - <a href='#311'>Detalhes das colunas</a>   \n",
    " - <a href='#32'>Verificando dados duplicados e nulos</a> \n",
    " - <a href='#33'>Limpando os dados da base e Alternado os Tipos</a>   \n",
    " - <a href='#34'>Adicionando novas colunas</a>   \n",
    " - <a href='#35'>Renomeando as colunas</a>     \n",
    " - <a href='#36'>Removendo uma colunas</a>     \n",
    "- <a href='#4'>Explorando e visualizando os dados</a>\n",
    " - <a href='#41'>Análisando variáveis numéricas</a>\n",
    "     - <a href='#411'>Variável auto</a>\n",
    "     - <a href='#412'>Variável vítimas</a>\n",
    "     - <a href='#413'>Variável vítimas fatais</a>\n",
    " - <a href='#42'>Analisando variáveis categóricas</a>\n",
    "     - <a href='#421'>Variável tipo</a>\n",
    "     - <a href='#422'>Variável situacao</a>\n",
    "     - <a href='#423'>Variável natureza</a>\n",
    "     - <a href='#424'>Variável periodo</a>\n",
    " - <a href='#43'>Observando um caso específico</a>\n",
    " - <a href='#44'>Análise univariada </a>\n",
    "     - <a href='#441'>Quantidade de acidentes por bairro </a>\n",
    "     - <a href='#442'>Os 10 bairros que possuem mais acidentes</a>\n",
    "     - <a href='#443'>Relação vítimas fatais por bairro</a>\n",
    "     - <a href='#444'>Os 10 bairros que possuem mais vítimas fatais</a>\n",
    "     - <a href='#445'>Quantidade de acidentes por tipo</a>\n",
    "     - <a href='#446'>Quantidade de acidentes por mês</a>\n",
    "     - <a href='#447'>Quantidade de acidentes por período</a>\n",
    " - <a href='#45'>Análise bivariada </a>\n",
    "     - <a href='#451'>Relação acidentes por mês entre 2017 e 2018 </a>\n",
    "     - <a href='#452'>Relação acidentes por ano</a>\n",
    "     - <a href='#453'>Relação vitimas fatais durante o ano</a>\n",
    "     - <a href='#454'>Relação vitimas fatais por ano</a>\n",
    "     - <a href='#455'>Relação vitimas por bairro/ano</a>\n",
    " - <a href='#46'>Análises mais apronfundada nos dados</a>\n",
    "- <a href='#5'>Normalização</a>\n",
    "- <a href='#6'>Covariância</a>\n",
    "- <a href='#7'>Correlação</a>\n",
    " - <a href='#71'>Correlação de Pearson </a>\n",
    " - <a href='#72'>Correlação de Spearman </a>\n",
    "- <a href='#8'>Distribuição de Poisson </a>\n",
    "\n",
    "\n"
   ]
  },
  {
   "cell_type": "markdown",
   "metadata": {},
   "source": [
    "## <a id='1'>Introdução</a>  \n",
    "\n",
    "Este notebook tem como intuito realizar uma análise estatística dos acidentes com e sem vítimas do trânsito de Recife, disponibilizados pela CTTU. O conjunto de dados foi obtido no portal de Dados Abertos da Prefeitura de Recife que disponibiliza de forma pública os dados gerados pelas secretarias e órgãos da gestão municipal. \n",
    "\n",
    "A publicação dos dados está em formato aberto permitindo o acesso e visualizações. Os dados são publicados em formato bruto, para que haja muita informação para extrair e os dados estão disponíveis no formato csv, separados por ano. Estão disponibilizados no site dados desde 2015, contudo, serão utilizados os dados apenas do perído entre 2017 e 2018 pelo fato de existir uma padronização dos dados.\n",
    "\n",
    "Os dados estão dispníveis no link a seguir: \n",
    "\n",
    "Link: http://dados.recife.pe.gov.br/dataset/acidentes-de-transito-com-e-sem-vitimas\n",
    "\n",
    "Foram defenidos os seguintes passos para o projeto: \n",
    " 1. Coletar dados\n",
    " 2. Realizar pré-processamento dos dados\n",
    "\t - Definição de tipos\n",
    "\t - Tratamento de dados ausentes\n",
    "     - Normalização e discretização\n",
    "\t - Limpeza de dados\n",
    " 3. Apresentar estatísticas descritivas dos dados com visualizações\n",
    "\n",
    "#### Agenda\n",
    "- 30/11/2019 - Início do projeto\n",
    "- 15/12/2019 - Deadline"
   ]
  },
  {
   "cell_type": "markdown",
   "metadata": {},
   "source": [
    "## <a id='2'>Importando bibliotecas úteis</a>  \n",
    "Carregando pacotes  usados além do Python base."
   ]
  },
  {
   "cell_type": "code",
   "execution_count": 1,
   "metadata": {},
   "outputs": [],
   "source": [
    "import pandas as pd\n",
    "import numpy as np\n",
    "import datetime\n",
    "import seaborn as sns\n",
    "import matplotlib.pyplot as plt"
   ]
  },
  {
   "cell_type": "markdown",
   "metadata": {},
   "source": [
    "## <a id='3'>Transformação de Dados e Análise Exploratória de Dados</a>   \n",
    " Nesta seção será utilizado métodos para realizar uma análise exploratória descritiva do conjunto de dados referentes aos acidentes de Recife. Sendo necessário carregar e preparar a base de dados, conforme poderá ser vistos nos itens a seguir:\n",
    "\n",
    "\n",
    "### <a id='31'>Carregar o dataset</a>   "
   ]
  },
  {
   "cell_type": "code",
   "execution_count": 2,
   "metadata": {},
   "outputs": [],
   "source": [
    "dataframe2018 = pd.read_csv('acidentes2018.csv', error_bad_lines=False, sep=';')\n",
    "dataframe2017 = pd.read_csv(\"acidentes2017.csv\", error_bad_lines=False, sep=';')\n",
    "\n",
    "pd.set_option('display.max_columns', 500)"
   ]
  },
  {
   "cell_type": "markdown",
   "metadata": {},
   "source": [
    "Pelo fato de juntar dois conjuntos de dados de anos diferentes, será adicionado uma nova coluna referente ao ano de cada planilha."
   ]
  },
  {
   "cell_type": "code",
   "execution_count": 3,
   "metadata": {},
   "outputs": [],
   "source": [
    "dataframe2017['ano'] = 2017\n",
    "dataframe2018['ano'] = 2018"
   ]
  },
  {
   "cell_type": "code",
   "execution_count": 4,
   "metadata": {},
   "outputs": [],
   "source": [
    "frames = [dataframe2017, dataframe2018]\n",
    "dataset = pd.concat(frames,ignore_index=True, sort=False)"
   ]
  },
  {
   "cell_type": "code",
   "execution_count": 5,
   "metadata": {
    "scrolled": true
   },
   "outputs": [
    {
     "data": {
      "text/html": [
       "<div>\n",
       "<style scoped>\n",
       "    .dataframe tbody tr th:only-of-type {\n",
       "        vertical-align: middle;\n",
       "    }\n",
       "\n",
       "    .dataframe tbody tr th {\n",
       "        vertical-align: top;\n",
       "    }\n",
       "\n",
       "    .dataframe thead th {\n",
       "        text-align: right;\n",
       "    }\n",
       "</style>\n",
       "<table border=\"1\" class=\"dataframe\">\n",
       "  <thead>\n",
       "    <tr style=\"text-align: right;\">\n",
       "      <th></th>\n",
       "      <th>tipo</th>\n",
       "      <th>situacao</th>\n",
       "      <th>data</th>\n",
       "      <th>hora</th>\n",
       "      <th>bairro</th>\n",
       "      <th>endereco</th>\n",
       "      <th>numero</th>\n",
       "      <th>complemento</th>\n",
       "      <th>natureza</th>\n",
       "      <th>descricao</th>\n",
       "      <th>auto</th>\n",
       "      <th>moto</th>\n",
       "      <th>ciclom</th>\n",
       "      <th>ciclista</th>\n",
       "      <th>pedestre</th>\n",
       "      <th>onibus</th>\n",
       "      <th>caminhao</th>\n",
       "      <th>viatura</th>\n",
       "      <th>outros</th>\n",
       "      <th>vitimas</th>\n",
       "      <th>vitimasfatais</th>\n",
       "      <th>ano</th>\n",
       "    </tr>\n",
       "  </thead>\n",
       "  <tbody>\n",
       "    <tr>\n",
       "      <td>0</td>\n",
       "      <td>SEM VÍTIMA</td>\n",
       "      <td>CANCELADA</td>\n",
       "      <td>2017-01-01</td>\n",
       "      <td>02:55</td>\n",
       "      <td>CABANGA</td>\n",
       "      <td>AV SUL</td>\n",
       "      <td>NaN</td>\n",
       "      <td>SEMAFORO 260</td>\n",
       "      <td>COLISÃO</td>\n",
       "      <td>COLISÃO ENTRE AUTO E ONIBUS, ONIBUS EVADIU DO ...</td>\n",
       "      <td>1</td>\n",
       "      <td>NaN</td>\n",
       "      <td>NaN</td>\n",
       "      <td>NaN</td>\n",
       "      <td>NaN</td>\n",
       "      <td>1.0</td>\n",
       "      <td>NaN</td>\n",
       "      <td>NaN</td>\n",
       "      <td>NaN</td>\n",
       "      <td>0</td>\n",
       "      <td>0.0</td>\n",
       "      <td>2017</td>\n",
       "    </tr>\n",
       "    <tr>\n",
       "      <td>1</td>\n",
       "      <td>SEM VÍTIMA</td>\n",
       "      <td>FINALIZADA</td>\n",
       "      <td>2017-01-01</td>\n",
       "      <td>05:32</td>\n",
       "      <td>SANTO AMARO</td>\n",
       "      <td>RUA BARROS BARRETO</td>\n",
       "      <td>483</td>\n",
       "      <td>PROX DO COLEGIO ESTACIO COIMBRA</td>\n",
       "      <td>CAPOTAMENTO</td>\n",
       "      <td>CARRO BATEU EM DOIS VEICULOS ESTACIONADOS E CA...</td>\n",
       "      <td>3</td>\n",
       "      <td>NaN</td>\n",
       "      <td>NaN</td>\n",
       "      <td>NaN</td>\n",
       "      <td>NaN</td>\n",
       "      <td>NaN</td>\n",
       "      <td>NaN</td>\n",
       "      <td>NaN</td>\n",
       "      <td>NaN</td>\n",
       "      <td>0</td>\n",
       "      <td>0.0</td>\n",
       "      <td>2017</td>\n",
       "    </tr>\n",
       "    <tr>\n",
       "      <td>2</td>\n",
       "      <td>SEM VÍTIMA</td>\n",
       "      <td>FINALIZADA</td>\n",
       "      <td>2017-01-01</td>\n",
       "      <td>06:00</td>\n",
       "      <td>JARDIM SÃO PAULO</td>\n",
       "      <td>AV PIRACICABA</td>\n",
       "      <td>NaN</td>\n",
       "      <td>NO TERMINAL   DOS ONIBUS JARDIM SAO PAULO PIRA...</td>\n",
       "      <td>COLISÃO</td>\n",
       "      <td>CCOL.S//VV</td>\n",
       "      <td>1</td>\n",
       "      <td>NaN</td>\n",
       "      <td>NaN</td>\n",
       "      <td>NaN</td>\n",
       "      <td>NaN</td>\n",
       "      <td>1.0</td>\n",
       "      <td>NaN</td>\n",
       "      <td>NaN</td>\n",
       "      <td>NaN</td>\n",
       "      <td>0</td>\n",
       "      <td>0.0</td>\n",
       "      <td>2017</td>\n",
       "    </tr>\n",
       "    <tr>\n",
       "      <td>3</td>\n",
       "      <td>SEM VÍTIMA</td>\n",
       "      <td>FINALIZADA</td>\n",
       "      <td>2017-01-01</td>\n",
       "      <td>06:24</td>\n",
       "      <td>JARDIM SÃO PAULO</td>\n",
       "      <td>AV SAO PAULO</td>\n",
       "      <td>474</td>\n",
       "      <td>EM  FRENTE AO SHOPPING  JARDIM</td>\n",
       "      <td>COLISÃO</td>\n",
       "      <td>COLISÃO  SEM  VITIMAS</td>\n",
       "      <td>2</td>\n",
       "      <td>NaN</td>\n",
       "      <td>NaN</td>\n",
       "      <td>NaN</td>\n",
       "      <td>NaN</td>\n",
       "      <td>NaN</td>\n",
       "      <td>NaN</td>\n",
       "      <td>NaN</td>\n",
       "      <td>NaN</td>\n",
       "      <td>0</td>\n",
       "      <td>0.0</td>\n",
       "      <td>2017</td>\n",
       "    </tr>\n",
       "    <tr>\n",
       "      <td>4</td>\n",
       "      <td>SEM VÍTIMA</td>\n",
       "      <td>PENDENTE</td>\n",
       "      <td>2017-01-01</td>\n",
       "      <td>06:39</td>\n",
       "      <td>CAXANGÁ</td>\n",
       "      <td>AV CAXANGA</td>\n",
       "      <td>NaN</td>\n",
       "      <td>EM DA INTEGRAÇÃO DA CAXANGÁ</td>\n",
       "      <td>COLISÃO</td>\n",
       "      <td>COL.S/V.SET SUB</td>\n",
       "      <td>NaN</td>\n",
       "      <td>1.0</td>\n",
       "      <td>NaN</td>\n",
       "      <td>NaN</td>\n",
       "      <td>NaN</td>\n",
       "      <td>NaN</td>\n",
       "      <td>NaN</td>\n",
       "      <td>NaN</td>\n",
       "      <td>NaN</td>\n",
       "      <td>0</td>\n",
       "      <td>0.0</td>\n",
       "      <td>2017</td>\n",
       "    </tr>\n",
       "  </tbody>\n",
       "</table>\n",
       "</div>"
      ],
      "text/plain": [
       "         tipo    situacao        data   hora            bairro  \\\n",
       "0  SEM VÍTIMA   CANCELADA  2017-01-01  02:55           CABANGA   \n",
       "1  SEM VÍTIMA  FINALIZADA  2017-01-01  05:32       SANTO AMARO   \n",
       "2  SEM VÍTIMA  FINALIZADA  2017-01-01  06:00  JARDIM SÃO PAULO   \n",
       "3  SEM VÍTIMA  FINALIZADA  2017-01-01  06:24  JARDIM SÃO PAULO   \n",
       "4  SEM VÍTIMA    PENDENTE  2017-01-01  06:39           CAXANGÁ   \n",
       "\n",
       "             endereco numero  \\\n",
       "0              AV SUL    NaN   \n",
       "1  RUA BARROS BARRETO    483   \n",
       "2       AV PIRACICABA    NaN   \n",
       "3        AV SAO PAULO    474   \n",
       "4          AV CAXANGA    NaN   \n",
       "\n",
       "                                         complemento     natureza  \\\n",
       "0                                       SEMAFORO 260      COLISÃO   \n",
       "1                    PROX DO COLEGIO ESTACIO COIMBRA  CAPOTAMENTO   \n",
       "2  NO TERMINAL   DOS ONIBUS JARDIM SAO PAULO PIRA...      COLISÃO   \n",
       "3                     EM  FRENTE AO SHOPPING  JARDIM      COLISÃO   \n",
       "4                        EM DA INTEGRAÇÃO DA CAXANGÁ      COLISÃO   \n",
       "\n",
       "                                           descricao auto  moto  ciclom  \\\n",
       "0  COLISÃO ENTRE AUTO E ONIBUS, ONIBUS EVADIU DO ...    1   NaN     NaN   \n",
       "1  CARRO BATEU EM DOIS VEICULOS ESTACIONADOS E CA...    3   NaN     NaN   \n",
       "2                                         CCOL.S//VV    1   NaN     NaN   \n",
       "3                              COLISÃO  SEM  VITIMAS    2   NaN     NaN   \n",
       "4                                    COL.S/V.SET SUB  NaN   1.0     NaN   \n",
       "\n",
       "   ciclista pedestre  onibus  caminhao viatura outros vitimas  vitimasfatais  \\\n",
       "0       NaN      NaN     1.0       NaN     NaN    NaN       0            0.0   \n",
       "1       NaN      NaN     NaN       NaN     NaN    NaN       0            0.0   \n",
       "2       NaN      NaN     1.0       NaN     NaN    NaN       0            0.0   \n",
       "3       NaN      NaN     NaN       NaN     NaN    NaN       0            0.0   \n",
       "4       NaN      NaN     NaN       NaN     NaN    NaN       0            0.0   \n",
       "\n",
       "    ano  \n",
       "0  2017  \n",
       "1  2017  \n",
       "2  2017  \n",
       "3  2017  \n",
       "4  2017  "
      ]
     },
     "execution_count": 5,
     "metadata": {},
     "output_type": "execute_result"
    }
   ],
   "source": [
    "# Retorna as primeiras 5 linhas do conjunto de dados \n",
    "dataset.head()"
   ]
  },
  {
   "cell_type": "markdown",
   "metadata": {},
   "source": [
    "####  <a id='311'>Detalhes das colunas</a>   \n",
    "\n",
    "A tabela a seguir mostrará as colunas com seu tipo e descriçao, respectivamente."
   ]
  },
  {
   "cell_type": "markdown",
   "metadata": {},
   "source": [
    "|    Coluna        | Tipo               | Descricao |\n",
    "|------------------|--------------------|--------------------|\n",
    "| tipo   | Char               | Tipo do Acidente se foi com ou sem vitimas               |\n",
    "| situacao   | Char               | Situação do atendimento               |\n",
    "| data   | date               | data do atendimento               |\n",
    "| hora   | num               | hora do atendimento              |\n",
    "| bairro | Char               | Bairro do acidente              |\n",
    "| endereco            | Char               | Endereço do acidente            |\n",
    "| numero   | Num               | Número do acidente              |\n",
    "|   complemento               |        Char            |     Complemento do acidente               |\n",
    "|  natureza                |            Char        |           Tipo de Ocorrencia         |\n",
    "|        descricao          |   Char                 |      Descrição do acidente              |\n",
    "|        auto          |   Num                 |      Quantidade de automoveis no acidente              |\n",
    "|        moto          |   Num                 |      Quantidade de motos no acidente              |\n",
    "|        ciclom          |   Num                 |      Quantidade de ciclomotor no acidente              |\n",
    "|        ciclista          |   Num                 |      Quantidade de bicicleta no acidente              |\n",
    "|        pedestre          |   Num                 |      Quantidade de pedestres no acidente             |\n",
    "|        pedestre          |   Num                 |      Quantidade de pedestres no acidente             |\n",
    "|        onibus          |   Num                 |      Quantidade de onibus no acidente             |\n",
    "|        caminhao          |   Num                 |      Quantidade de caminhão no acidente             |\n",
    "|        viatura          |   Num                 |      Quantidade de viaturas no acidente            |\n",
    "|        outros          |   Num                 |      Quantidade de outros veiculos no acidente            |\n",
    "|        vitimas          |   Num                 |      Quantidade de vitimas no acidente.            |\n",
    "|        vitimasfatais          |   Num                 |      Quantidade de vitimas fatais no acidente            |"
   ]
  },
  {
   "cell_type": "markdown",
   "metadata": {},
   "source": [
    "Após finalizar a junção das bases pode-se verificar quantas colunas e linhas esse conjunto possui a partir do comando _shape_ que indicará por meio de uma  tupla o total."
   ]
  },
  {
   "cell_type": "code",
   "execution_count": 6,
   "metadata": {},
   "outputs": [
    {
     "data": {
      "text/plain": [
       "(23114, 22)"
      ]
     },
     "execution_count": 6,
     "metadata": {},
     "output_type": "execute_result"
    }
   ],
   "source": [
    "dataset.shape"
   ]
  },
  {
   "cell_type": "code",
   "execution_count": 7,
   "metadata": {},
   "outputs": [
    {
     "data": {
      "text/plain": [
       "tipo              object\n",
       "situacao          object\n",
       "data              object\n",
       "hora              object\n",
       "bairro            object\n",
       "endereco          object\n",
       "numero            object\n",
       "complemento       object\n",
       "natureza          object\n",
       "descricao         object\n",
       "auto              object\n",
       "moto             float64\n",
       "ciclom           float64\n",
       "ciclista         float64\n",
       "pedestre          object\n",
       "onibus           float64\n",
       "caminhao         float64\n",
       "viatura           object\n",
       "outros            object\n",
       "vitimas           object\n",
       "vitimasfatais    float64\n",
       "ano                int64\n",
       "dtype: object"
      ]
     },
     "execution_count": 7,
     "metadata": {},
     "output_type": "execute_result"
    }
   ],
   "source": [
    "# Verificando o tipo de dado para cada coluna\n",
    "dataset.dtypes"
   ]
  },
  {
   "cell_type": "markdown",
   "metadata": {},
   "source": [
    "### <a id='32'>Verificando dados duplicados e nulos</a>   "
   ]
  },
  {
   "cell_type": "markdown",
   "metadata": {},
   "source": [
    "A seguir será exibido informações sobre o conjunto de dados para verificar se existe valores faltantes por meio da função _info()_\n",
    "\n",
    "Conforme visto no item anterior o conjunto possui 23114 linhas, desta forma, é possível verificar que apenas a coluna _data_ e _ano_ possui a quantidade total de dados preenchida."
   ]
  },
  {
   "cell_type": "code",
   "execution_count": 8,
   "metadata": {},
   "outputs": [
    {
     "name": "stdout",
     "output_type": "stream",
     "text": [
      "<class 'pandas.core.frame.DataFrame'>\n",
      "RangeIndex: 23114 entries, 0 to 23113\n",
      "Data columns (total 22 columns):\n",
      "tipo             23072 non-null object\n",
      "situacao         23112 non-null object\n",
      "data             23114 non-null object\n",
      "hora             23101 non-null object\n",
      "bairro           23063 non-null object\n",
      "endereco         23060 non-null object\n",
      "numero           10629 non-null object\n",
      "complemento      22581 non-null object\n",
      "natureza         23022 non-null object\n",
      "descricao        22647 non-null object\n",
      "auto             20967 non-null object\n",
      "moto             5444 non-null float64\n",
      "ciclom           136 non-null float64\n",
      "ciclista         294 non-null float64\n",
      "pedestre         456 non-null object\n",
      "onibus           3495 non-null float64\n",
      "caminhao         2352 non-null float64\n",
      "viatura          304 non-null object\n",
      "outros           211 non-null object\n",
      "vitimas          23089 non-null object\n",
      "vitimasfatais    11859 non-null float64\n",
      "ano              23114 non-null int64\n",
      "dtypes: float64(6), int64(1), object(15)\n",
      "memory usage: 3.9+ MB\n"
     ]
    }
   ],
   "source": [
    "dataset.info()"
   ]
  },
  {
   "cell_type": "markdown",
   "metadata": {},
   "source": [
    "Uma outra maneira de verificar se existe dados faltantes é utilizando o método _isnull().sum()_ que soma o total de linhas para cada coluna que estão sem dados"
   ]
  },
  {
   "cell_type": "code",
   "execution_count": 9,
   "metadata": {},
   "outputs": [
    {
     "data": {
      "text/plain": [
       "tipo                42\n",
       "situacao             2\n",
       "data                 0\n",
       "hora                13\n",
       "bairro              51\n",
       "endereco            54\n",
       "numero           12485\n",
       "complemento        533\n",
       "natureza            92\n",
       "descricao          467\n",
       "auto              2147\n",
       "moto             17670\n",
       "ciclom           22978\n",
       "ciclista         22820\n",
       "pedestre         22658\n",
       "onibus           19619\n",
       "caminhao         20762\n",
       "viatura          22810\n",
       "outros           22903\n",
       "vitimas             25\n",
       "vitimasfatais    11255\n",
       "ano                  0\n",
       "dtype: int64"
      ]
     },
     "execution_count": 9,
     "metadata": {},
     "output_type": "execute_result"
    }
   ],
   "source": [
    "dataset.isnull().sum()"
   ]
  },
  {
   "cell_type": "markdown",
   "metadata": {},
   "source": [
    "Outra análise importante a ser feita é verificar se existem dados duplicados na análise de dados por meio da função _duplicated()_"
   ]
  },
  {
   "cell_type": "code",
   "execution_count": 10,
   "metadata": {},
   "outputs": [
    {
     "name": "stdout",
     "output_type": "stream",
     "text": [
      "Dados duplicados:  1\n",
      "Existe dados duplicados:  True\n"
     ]
    }
   ],
   "source": [
    "print('Dados duplicados: ', dataset.duplicated().sum())\n",
    "print('Existe dados duplicados: ', any(dataset.duplicated()))"
   ]
  },
  {
   "cell_type": "markdown",
   "metadata": {},
   "source": [
    "Como podemos observar,  existe dados que estão duplicados na base de dados"
   ]
  },
  {
   "cell_type": "code",
   "execution_count": 11,
   "metadata": {},
   "outputs": [
    {
     "data": {
      "text/html": [
       "<div>\n",
       "<style scoped>\n",
       "    .dataframe tbody tr th:only-of-type {\n",
       "        vertical-align: middle;\n",
       "    }\n",
       "\n",
       "    .dataframe tbody tr th {\n",
       "        vertical-align: top;\n",
       "    }\n",
       "\n",
       "    .dataframe thead th {\n",
       "        text-align: right;\n",
       "    }\n",
       "</style>\n",
       "<table border=\"1\" class=\"dataframe\">\n",
       "  <thead>\n",
       "    <tr style=\"text-align: right;\">\n",
       "      <th></th>\n",
       "      <th>tipo</th>\n",
       "      <th>situacao</th>\n",
       "      <th>data</th>\n",
       "      <th>hora</th>\n",
       "      <th>bairro</th>\n",
       "      <th>endereco</th>\n",
       "      <th>numero</th>\n",
       "      <th>complemento</th>\n",
       "      <th>natureza</th>\n",
       "      <th>descricao</th>\n",
       "      <th>auto</th>\n",
       "      <th>moto</th>\n",
       "      <th>ciclom</th>\n",
       "      <th>ciclista</th>\n",
       "      <th>pedestre</th>\n",
       "      <th>onibus</th>\n",
       "      <th>caminhao</th>\n",
       "      <th>viatura</th>\n",
       "      <th>outros</th>\n",
       "      <th>vitimas</th>\n",
       "      <th>vitimasfatais</th>\n",
       "      <th>ano</th>\n",
       "    </tr>\n",
       "  </thead>\n",
       "  <tbody>\n",
       "    <tr>\n",
       "      <td>3561</td>\n",
       "      <td>SEM VÍTIMA</td>\n",
       "      <td>FINALIZADA</td>\n",
       "      <td>2017-04-26</td>\n",
       "      <td>16:29:00</td>\n",
       "      <td>BOA VIAGEM</td>\n",
       "      <td>RUA MINISTRO NELSON HUNGRIA</td>\n",
       "      <td>486</td>\n",
       "      <td>PROX DO COLEGIO SANTA MARIA</td>\n",
       "      <td>COLISÃO</td>\n",
       "      <td>COLISAO DE DOIS AUTOS S/V  CARRO DO TRUIBUNAL</td>\n",
       "      <td>2</td>\n",
       "      <td>NaN</td>\n",
       "      <td>NaN</td>\n",
       "      <td>NaN</td>\n",
       "      <td>NaN</td>\n",
       "      <td>NaN</td>\n",
       "      <td>NaN</td>\n",
       "      <td>NaN</td>\n",
       "      <td>NaN</td>\n",
       "      <td>0</td>\n",
       "      <td>0.0</td>\n",
       "      <td>2017</td>\n",
       "    </tr>\n",
       "  </tbody>\n",
       "</table>\n",
       "</div>"
      ],
      "text/plain": [
       "            tipo    situacao        data      hora      bairro  \\\n",
       "3561  SEM VÍTIMA  FINALIZADA  2017-04-26  16:29:00  BOA VIAGEM   \n",
       "\n",
       "                         endereco numero                  complemento  \\\n",
       "3561  RUA MINISTRO NELSON HUNGRIA    486  PROX DO COLEGIO SANTA MARIA   \n",
       "\n",
       "     natureza                                      descricao auto  moto  \\\n",
       "3561  COLISÃO  COLISAO DE DOIS AUTOS S/V  CARRO DO TRUIBUNAL    2   NaN   \n",
       "\n",
       "      ciclom  ciclista pedestre  onibus  caminhao viatura outros vitimas  \\\n",
       "3561     NaN       NaN      NaN     NaN       NaN     NaN    NaN       0   \n",
       "\n",
       "      vitimasfatais   ano  \n",
       "3561            0.0  2017  "
      ]
     },
     "execution_count": 11,
     "metadata": {},
     "output_type": "execute_result"
    }
   ],
   "source": [
    "dataset[dataset.duplicated()].head()"
   ]
  },
  {
   "cell_type": "code",
   "execution_count": 12,
   "metadata": {},
   "outputs": [
    {
     "name": "stdout",
     "output_type": "stream",
     "text": [
      "Dados duplicados:  0\n",
      "Existe dados duplicados:  False\n"
     ]
    }
   ],
   "source": [
    "dataset = dataset.drop_duplicates()\n",
    "print('Dados duplicados: ', dataset.duplicated().sum())\n",
    "print('Existe dados duplicados: ', any(dataset.duplicated()))"
   ]
  },
  {
   "cell_type": "markdown",
   "metadata": {},
   "source": [
    "### <a id='33'>Limpando os dados da base e Alterando os Tipos</a>   \n",
    "Como podemos observar existem após utilizar o método _dataset.dtypes_  colunas que estão listadas com o tipo errado, como objects por exemplo. Assim, é necesário realizar a alteração dos tipos das colunas."
   ]
  },
  {
   "cell_type": "code",
   "execution_count": 13,
   "metadata": {},
   "outputs": [
    {
     "data": {
      "text/plain": [
       "tipo              object\n",
       "situacao          object\n",
       "data              object\n",
       "hora              object\n",
       "bairro            object\n",
       "endereco          object\n",
       "numero            object\n",
       "complemento       object\n",
       "natureza          object\n",
       "descricao         object\n",
       "auto              object\n",
       "moto             float64\n",
       "ciclom           float64\n",
       "ciclista         float64\n",
       "pedestre          object\n",
       "onibus           float64\n",
       "caminhao         float64\n",
       "viatura           object\n",
       "outros            object\n",
       "vitimas           object\n",
       "vitimasfatais    float64\n",
       "ano                int64\n",
       "dtype: object"
      ]
     },
     "execution_count": 13,
     "metadata": {},
     "output_type": "execute_result"
    }
   ],
   "source": [
    "pd.options.mode.chained_assignment = None\n",
    "dataset.dtypes"
   ]
  },
  {
   "cell_type": "code",
   "execution_count": 14,
   "metadata": {},
   "outputs": [],
   "source": [
    "# converter object por category\n",
    "dataset['tipo'] = dataset['tipo'].astype('category')\n",
    "dataset['situacao'] = dataset['situacao'].astype('category')\n",
    "dataset['bairro'] = dataset['bairro'].astype('category')\n",
    "dataset['endereco'] = dataset['endereco'].astype('category')\n",
    "dataset['complemento'] = dataset['complemento'].astype('category')\n",
    "dataset['natureza'] = dataset['natureza'].astype('category')\n",
    "dataset['descricao'] = dataset['descricao'].astype('category')"
   ]
  },
  {
   "cell_type": "markdown",
   "metadata": {},
   "source": [
    "Contudo, antes de converter é necessário em algumas colunas verificar se está faltando valores ou se existem lixo nas colunas, isto é, valores que não correspondem ao padrão de dados esperados. \n",
    "\n",
    "Além disso, não será possível transformar as colunas _viatura_, _outros_, _vitimas_, _numero_, _auto_ e _pedestre_ no tipo numérico pois contêm valores vazios, NaN, o que impossibilita a conversão. Será considerado os valores que não são numéricos como 0 nessas colunas para facilitar a análise."
   ]
  },
  {
   "cell_type": "code",
   "execution_count": 15,
   "metadata": {},
   "outputs": [
    {
     "name": "stdout",
     "output_type": "stream",
     "text": [
      "[nan 1.0 2.0 '1' '8' '2' ',' ',,']\n"
     ]
    }
   ],
   "source": [
    "# Examplo de lixo nas colunas\n",
    "print(dataset['viatura'].unique())"
   ]
  },
  {
   "cell_type": "code",
   "execution_count": 16,
   "metadata": {},
   "outputs": [],
   "source": [
    "# Substituindo os valores NaN das colunas\n",
    "dataset['viatura'].fillna(0, inplace = True)\n",
    "dataset['outros'].fillna(0, inplace = True)\n",
    "dataset['vitimas'].fillna(0, inplace = True)\n",
    "dataset['auto'].fillna(0, inplace = True)\n",
    "dataset['pedestre'].fillna(0, inplace = True)\n",
    "dataset['ciclista'].fillna(0, inplace = True)\n",
    "dataset['moto'].fillna(0, inplace = True)\n",
    "dataset['ciclom'].fillna(0, inplace = True)\n",
    "dataset['onibus'].fillna(0, inplace = True)\n",
    "dataset['caminhao'].fillna(0, inplace = True)\n",
    "dataset['vitimasfatais'].fillna(0, inplace = True)"
   ]
  },
  {
   "cell_type": "code",
   "execution_count": 17,
   "metadata": {},
   "outputs": [],
   "source": [
    "# Viatura\n",
    "dataset['viatura'].replace(',', 0, inplace=True)\n",
    "dataset['viatura'].replace(',,', 0, inplace=True)\n",
    "dataset['viatura'] = dataset['viatura'].astype('int')\n",
    "# Moto\n",
    "dataset['moto'] = dataset['moto'].astype('int')\n",
    "# ciclom\n",
    "dataset['ciclom'] = dataset['ciclom'].astype('int')\n",
    "# ciclista\n",
    "dataset['ciclista'] = dataset['ciclista'].astype('int')\n",
    "# pedestre\n",
    "dataset['pedestre'].replace('.', 0, inplace=True)\n",
    "dataset['pedestre'] = dataset['pedestre'].astype('int')\n",
    "# onibus\n",
    "dataset['onibus'] = dataset['onibus'].astype('int')\n",
    "# caminhao\n",
    "dataset['caminhao'] = dataset['caminhao'].astype('int')\n",
    "# outros\n",
    "dataset['outros'].replace('X', 0, inplace=True)\n",
    "dataset['outros'].replace('.', 0, inplace=True)\n",
    "dataset['outros'] = dataset['outros'].astype('int')\n",
    "# vitimas\n",
    "dataset['vitimas'].replace(\"0''\", 0, inplace=True)\n",
    "dataset['vitimas'].replace(\"O\", 0, inplace=True)\n",
    "dataset['vitimas'] = dataset['vitimas'].astype('int')\n",
    "# vitimasfatais\n",
    "dataset['vitimasfatais'] = dataset['vitimasfatais'].astype('int')\n",
    "# auto\n",
    "dataset['auto'].replace('X', 0, inplace=True)\n",
    "dataset['auto'].replace('}', 0, inplace=True)\n",
    "dataset['auto'] = dataset['auto'].astype('int')"
   ]
  },
  {
   "cell_type": "code",
   "execution_count": 18,
   "metadata": {},
   "outputs": [
    {
     "data": {
      "text/plain": [
       "tipo             category\n",
       "situacao         category\n",
       "data               object\n",
       "hora               object\n",
       "bairro           category\n",
       "endereco         category\n",
       "numero             object\n",
       "complemento      category\n",
       "natureza         category\n",
       "descricao        category\n",
       "auto                int64\n",
       "moto                int64\n",
       "ciclom              int64\n",
       "ciclista            int64\n",
       "pedestre            int64\n",
       "onibus              int64\n",
       "caminhao            int64\n",
       "viatura             int64\n",
       "outros              int64\n",
       "vitimas             int64\n",
       "vitimasfatais       int64\n",
       "ano                 int64\n",
       "dtype: object"
      ]
     },
     "execution_count": 18,
     "metadata": {},
     "output_type": "execute_result"
    }
   ],
   "source": [
    "dataset.dtypes"
   ]
  },
  {
   "cell_type": "code",
   "execution_count": 19,
   "metadata": {},
   "outputs": [
    {
     "data": {
      "text/plain": [
       "tipo                42\n",
       "situacao             2\n",
       "data                 0\n",
       "hora                13\n",
       "bairro              51\n",
       "endereco            54\n",
       "numero           12485\n",
       "complemento        533\n",
       "natureza            92\n",
       "descricao          467\n",
       "auto                 0\n",
       "moto                 0\n",
       "ciclom               0\n",
       "ciclista             0\n",
       "pedestre             0\n",
       "onibus               0\n",
       "caminhao             0\n",
       "viatura              0\n",
       "outros               0\n",
       "vitimas              0\n",
       "vitimasfatais        0\n",
       "ano                  0\n",
       "dtype: int64"
      ]
     },
     "execution_count": 19,
     "metadata": {},
     "output_type": "execute_result"
    }
   ],
   "source": [
    "dataset.isnull().sum()"
   ]
  },
  {
   "cell_type": "markdown",
   "metadata": {},
   "source": [
    "### <a id='34'>Adicionando novas colunas</a>   \n",
    "\n",
    "Com o intuito de realizar uma análise mais detalhada referente a data e horário que ocorreram os acidentes, surge a necessidade de adicionar novas colunas no conjunto de dados.\n",
    "\n",
    "Desta forma será adicionada a coluna _mês_ que fará referência ao mês em que ocorreu o acidente com base na coluna _hora_. Além disso, a coluna _periodo_ também será inserida no conjunto de dados para indicar qual foi o período em que ocorreu o acidente. \n",
    "\n",
    "Foram definidos quatro períodos, são eles: MANHA, TARDE, NOITE, MADRUGADA. \n",
    "\n",
    "Os períodos foram definidos da seguinte forma:\n",
    "\n",
    " - MANHA: Acidente ocorreu entre 6 da manhã e meio dia.\n",
    " - TARDE: Acidente ocorreu entre meio dia e 6 da tarde.\n",
    " - NOITE: Acidente ocorreu entre 6 da tarde e meia noite.\n",
    " - MADRUGADA: Acidente ocorreu entre meia noite da tarde e 6 da manhã."
   ]
  },
  {
   "cell_type": "code",
   "execution_count": 20,
   "metadata": {},
   "outputs": [],
   "source": [
    "listData = pd.to_datetime(dataset['data'],  errors='coerce')"
   ]
  },
  {
   "cell_type": "code",
   "execution_count": 21,
   "metadata": {},
   "outputs": [],
   "source": [
    "dataset['mes'] = pd.DatetimeIndex(listData).month\n",
    "listFullDate = pd.to_datetime(dataset['hora'],  errors='coerce')"
   ]
  },
  {
   "cell_type": "code",
   "execution_count": 22,
   "metadata": {},
   "outputs": [
    {
     "data": {
      "text/html": [
       "<div>\n",
       "<style scoped>\n",
       "    .dataframe tbody tr th:only-of-type {\n",
       "        vertical-align: middle;\n",
       "    }\n",
       "\n",
       "    .dataframe tbody tr th {\n",
       "        vertical-align: top;\n",
       "    }\n",
       "\n",
       "    .dataframe thead th {\n",
       "        text-align: right;\n",
       "    }\n",
       "</style>\n",
       "<table border=\"1\" class=\"dataframe\">\n",
       "  <thead>\n",
       "    <tr style=\"text-align: right;\">\n",
       "      <th></th>\n",
       "      <th>tipo</th>\n",
       "      <th>situacao</th>\n",
       "      <th>data</th>\n",
       "      <th>hora</th>\n",
       "      <th>bairro</th>\n",
       "      <th>endereco</th>\n",
       "      <th>numero</th>\n",
       "      <th>complemento</th>\n",
       "      <th>natureza</th>\n",
       "      <th>descricao</th>\n",
       "      <th>auto</th>\n",
       "      <th>moto</th>\n",
       "      <th>ciclom</th>\n",
       "      <th>ciclista</th>\n",
       "      <th>pedestre</th>\n",
       "      <th>onibus</th>\n",
       "      <th>caminhao</th>\n",
       "      <th>viatura</th>\n",
       "      <th>outros</th>\n",
       "      <th>vitimas</th>\n",
       "      <th>vitimasfatais</th>\n",
       "      <th>ano</th>\n",
       "      <th>mes</th>\n",
       "      <th>periodo</th>\n",
       "    </tr>\n",
       "  </thead>\n",
       "  <tbody>\n",
       "    <tr>\n",
       "      <td>0</td>\n",
       "      <td>SEM VÍTIMA</td>\n",
       "      <td>CANCELADA</td>\n",
       "      <td>2017-01-01</td>\n",
       "      <td>02:55</td>\n",
       "      <td>CABANGA</td>\n",
       "      <td>AV SUL</td>\n",
       "      <td>NaN</td>\n",
       "      <td>SEMAFORO 260</td>\n",
       "      <td>COLISÃO</td>\n",
       "      <td>COLISÃO ENTRE AUTO E ONIBUS, ONIBUS EVADIU DO ...</td>\n",
       "      <td>1</td>\n",
       "      <td>0</td>\n",
       "      <td>0</td>\n",
       "      <td>0</td>\n",
       "      <td>0</td>\n",
       "      <td>1</td>\n",
       "      <td>0</td>\n",
       "      <td>0</td>\n",
       "      <td>0</td>\n",
       "      <td>0</td>\n",
       "      <td>0</td>\n",
       "      <td>2017</td>\n",
       "      <td>1</td>\n",
       "      <td>MANHA</td>\n",
       "    </tr>\n",
       "    <tr>\n",
       "      <td>1</td>\n",
       "      <td>SEM VÍTIMA</td>\n",
       "      <td>FINALIZADA</td>\n",
       "      <td>2017-01-01</td>\n",
       "      <td>05:32</td>\n",
       "      <td>SANTO AMARO</td>\n",
       "      <td>RUA BARROS BARRETO</td>\n",
       "      <td>483</td>\n",
       "      <td>PROX DO COLEGIO ESTACIO COIMBRA</td>\n",
       "      <td>CAPOTAMENTO</td>\n",
       "      <td>CARRO BATEU EM DOIS VEICULOS ESTACIONADOS E CA...</td>\n",
       "      <td>3</td>\n",
       "      <td>0</td>\n",
       "      <td>0</td>\n",
       "      <td>0</td>\n",
       "      <td>0</td>\n",
       "      <td>0</td>\n",
       "      <td>0</td>\n",
       "      <td>0</td>\n",
       "      <td>0</td>\n",
       "      <td>0</td>\n",
       "      <td>0</td>\n",
       "      <td>2017</td>\n",
       "      <td>1</td>\n",
       "      <td>MANHA</td>\n",
       "    </tr>\n",
       "    <tr>\n",
       "      <td>2</td>\n",
       "      <td>SEM VÍTIMA</td>\n",
       "      <td>FINALIZADA</td>\n",
       "      <td>2017-01-01</td>\n",
       "      <td>06:00</td>\n",
       "      <td>JARDIM SÃO PAULO</td>\n",
       "      <td>AV PIRACICABA</td>\n",
       "      <td>NaN</td>\n",
       "      <td>NO TERMINAL   DOS ONIBUS JARDIM SAO PAULO PIRA...</td>\n",
       "      <td>COLISÃO</td>\n",
       "      <td>CCOL.S//VV</td>\n",
       "      <td>1</td>\n",
       "      <td>0</td>\n",
       "      <td>0</td>\n",
       "      <td>0</td>\n",
       "      <td>0</td>\n",
       "      <td>1</td>\n",
       "      <td>0</td>\n",
       "      <td>0</td>\n",
       "      <td>0</td>\n",
       "      <td>0</td>\n",
       "      <td>0</td>\n",
       "      <td>2017</td>\n",
       "      <td>1</td>\n",
       "      <td>TARDE</td>\n",
       "    </tr>\n",
       "    <tr>\n",
       "      <td>3</td>\n",
       "      <td>SEM VÍTIMA</td>\n",
       "      <td>FINALIZADA</td>\n",
       "      <td>2017-01-01</td>\n",
       "      <td>06:24</td>\n",
       "      <td>JARDIM SÃO PAULO</td>\n",
       "      <td>AV SAO PAULO</td>\n",
       "      <td>474</td>\n",
       "      <td>EM  FRENTE AO SHOPPING  JARDIM</td>\n",
       "      <td>COLISÃO</td>\n",
       "      <td>COLISÃO  SEM  VITIMAS</td>\n",
       "      <td>2</td>\n",
       "      <td>0</td>\n",
       "      <td>0</td>\n",
       "      <td>0</td>\n",
       "      <td>0</td>\n",
       "      <td>0</td>\n",
       "      <td>0</td>\n",
       "      <td>0</td>\n",
       "      <td>0</td>\n",
       "      <td>0</td>\n",
       "      <td>0</td>\n",
       "      <td>2017</td>\n",
       "      <td>1</td>\n",
       "      <td>TARDE</td>\n",
       "    </tr>\n",
       "    <tr>\n",
       "      <td>4</td>\n",
       "      <td>SEM VÍTIMA</td>\n",
       "      <td>PENDENTE</td>\n",
       "      <td>2017-01-01</td>\n",
       "      <td>06:39</td>\n",
       "      <td>CAXANGÁ</td>\n",
       "      <td>AV CAXANGA</td>\n",
       "      <td>NaN</td>\n",
       "      <td>EM DA INTEGRAÇÃO DA CAXANGÁ</td>\n",
       "      <td>COLISÃO</td>\n",
       "      <td>COL.S/V.SET SUB</td>\n",
       "      <td>0</td>\n",
       "      <td>1</td>\n",
       "      <td>0</td>\n",
       "      <td>0</td>\n",
       "      <td>0</td>\n",
       "      <td>0</td>\n",
       "      <td>0</td>\n",
       "      <td>0</td>\n",
       "      <td>0</td>\n",
       "      <td>0</td>\n",
       "      <td>0</td>\n",
       "      <td>2017</td>\n",
       "      <td>1</td>\n",
       "      <td>TARDE</td>\n",
       "    </tr>\n",
       "  </tbody>\n",
       "</table>\n",
       "</div>"
      ],
      "text/plain": [
       "         tipo    situacao        data   hora            bairro  \\\n",
       "0  SEM VÍTIMA   CANCELADA  2017-01-01  02:55           CABANGA   \n",
       "1  SEM VÍTIMA  FINALIZADA  2017-01-01  05:32       SANTO AMARO   \n",
       "2  SEM VÍTIMA  FINALIZADA  2017-01-01  06:00  JARDIM SÃO PAULO   \n",
       "3  SEM VÍTIMA  FINALIZADA  2017-01-01  06:24  JARDIM SÃO PAULO   \n",
       "4  SEM VÍTIMA    PENDENTE  2017-01-01  06:39           CAXANGÁ   \n",
       "\n",
       "             endereco numero  \\\n",
       "0              AV SUL    NaN   \n",
       "1  RUA BARROS BARRETO    483   \n",
       "2       AV PIRACICABA    NaN   \n",
       "3        AV SAO PAULO    474   \n",
       "4          AV CAXANGA    NaN   \n",
       "\n",
       "                                         complemento     natureza  \\\n",
       "0                                       SEMAFORO 260      COLISÃO   \n",
       "1                    PROX DO COLEGIO ESTACIO COIMBRA  CAPOTAMENTO   \n",
       "2  NO TERMINAL   DOS ONIBUS JARDIM SAO PAULO PIRA...      COLISÃO   \n",
       "3                     EM  FRENTE AO SHOPPING  JARDIM      COLISÃO   \n",
       "4                        EM DA INTEGRAÇÃO DA CAXANGÁ      COLISÃO   \n",
       "\n",
       "                                           descricao  auto  moto  ciclom  \\\n",
       "0  COLISÃO ENTRE AUTO E ONIBUS, ONIBUS EVADIU DO ...     1     0       0   \n",
       "1  CARRO BATEU EM DOIS VEICULOS ESTACIONADOS E CA...     3     0       0   \n",
       "2                                         CCOL.S//VV     1     0       0   \n",
       "3                              COLISÃO  SEM  VITIMAS     2     0       0   \n",
       "4                                    COL.S/V.SET SUB     0     1       0   \n",
       "\n",
       "   ciclista  pedestre  onibus  caminhao  viatura  outros  vitimas  \\\n",
       "0         0         0       1         0        0       0        0   \n",
       "1         0         0       0         0        0       0        0   \n",
       "2         0         0       1         0        0       0        0   \n",
       "3         0         0       0         0        0       0        0   \n",
       "4         0         0       0         0        0       0        0   \n",
       "\n",
       "   vitimasfatais   ano  mes periodo  \n",
       "0              0  2017    1   MANHA  \n",
       "1              0  2017    1   MANHA  \n",
       "2              0  2017    1   TARDE  \n",
       "3              0  2017    1   TARDE  \n",
       "4              0  2017    1   TARDE  "
      ]
     },
     "execution_count": 22,
     "metadata": {},
     "output_type": "execute_result"
    }
   ],
   "source": [
    "def convert_period(num): \n",
    "    if num.hour >= 0 and num.hour < 6:\n",
    "        return 'MANHA'\n",
    "    elif num.hour >= 6 and num.hour < 12:\n",
    "        return 'TARDE'\n",
    "    elif num.hour >= 12 and num.hour < 18:\n",
    "        return 'NOITE'\n",
    "    elif num.hour >= 18 and num.hour < 24:\n",
    "        return 'MADRUGADA'\n",
    "    else:\n",
    "        return 'SEM_DATA'\n",
    "\n",
    "dataset['periodo'] = listFullDate.apply(convert_period) \n",
    "dataset['periodo'] = dataset['periodo'].astype('category')\n",
    "dataset.head()"
   ]
  },
  {
   "cell_type": "code",
   "execution_count": 23,
   "metadata": {},
   "outputs": [
    {
     "name": "stdout",
     "output_type": "stream",
     "text": [
      "[MANHA, TARDE, NOITE, MADRUGADA, SEM_DATA]\n",
      "Categories (5, object): [MANHA, TARDE, NOITE, MADRUGADA, SEM_DATA]\n"
     ]
    }
   ],
   "source": [
    "print(dataset['periodo'].unique())"
   ]
  },
  {
   "cell_type": "code",
   "execution_count": 24,
   "metadata": {},
   "outputs": [
    {
     "name": "stdout",
     "output_type": "stream",
     "text": [
      "[CANCELADA, FINALIZADA, PENDENTE, Err:512, EM ATENDIMENTO, EM ABERTO, EQUIPE EM DESLOCAMENTO, EQUIPE NO LOCAL, NaN]\n",
      "Categories (8, object): [CANCELADA, FINALIZADA, PENDENTE, Err:512, EM ATENDIMENTO, EM ABERTO, EQUIPE EM DESLOCAMENTO, EQUIPE NO LOCAL]\n"
     ]
    }
   ],
   "source": [
    "print(dataset['situacao'].unique())"
   ]
  },
  {
   "cell_type": "markdown",
   "metadata": {},
   "source": [
    "Além disso foi observado que a coluna _situacao_ possui um erro de valor não padronizado, conforme visto a seguir. Consequentemente esse valor será removido do conjunto de dados."
   ]
  },
  {
   "cell_type": "code",
   "execution_count": 25,
   "metadata": {},
   "outputs": [
    {
     "data": {
      "text/html": [
       "<div>\n",
       "<style scoped>\n",
       "    .dataframe tbody tr th:only-of-type {\n",
       "        vertical-align: middle;\n",
       "    }\n",
       "\n",
       "    .dataframe tbody tr th {\n",
       "        vertical-align: top;\n",
       "    }\n",
       "\n",
       "    .dataframe thead th {\n",
       "        text-align: right;\n",
       "    }\n",
       "</style>\n",
       "<table border=\"1\" class=\"dataframe\">\n",
       "  <thead>\n",
       "    <tr style=\"text-align: right;\">\n",
       "      <th></th>\n",
       "      <th>tipo</th>\n",
       "      <th>situacao</th>\n",
       "      <th>data</th>\n",
       "      <th>hora</th>\n",
       "      <th>bairro</th>\n",
       "      <th>endereco</th>\n",
       "      <th>numero</th>\n",
       "      <th>complemento</th>\n",
       "      <th>natureza</th>\n",
       "      <th>descricao</th>\n",
       "      <th>auto</th>\n",
       "      <th>moto</th>\n",
       "      <th>ciclom</th>\n",
       "      <th>ciclista</th>\n",
       "      <th>pedestre</th>\n",
       "      <th>onibus</th>\n",
       "      <th>caminhao</th>\n",
       "      <th>viatura</th>\n",
       "      <th>outros</th>\n",
       "      <th>vitimas</th>\n",
       "      <th>vitimasfatais</th>\n",
       "      <th>ano</th>\n",
       "      <th>mes</th>\n",
       "      <th>periodo</th>\n",
       "    </tr>\n",
       "  </thead>\n",
       "  <tbody>\n",
       "    <tr>\n",
       "      <td>211</td>\n",
       "      <td>SEM VÍTIMA</td>\n",
       "      <td>Err:512</td>\n",
       "      <td>2017-01-08</td>\n",
       "      <td>11:14</td>\n",
       "      <td>CAMPO GRANDE</td>\n",
       "      <td>RUA ODORICO MENDES</td>\n",
       "      <td>NaN</td>\n",
       "      <td>EM FRENTE DO CLUBE DAS PAZ</td>\n",
       "      <td>COLISÃO</td>\n",
       "      <td>COL.S/V</td>\n",
       "      <td>2</td>\n",
       "      <td>0</td>\n",
       "      <td>0</td>\n",
       "      <td>0</td>\n",
       "      <td>0</td>\n",
       "      <td>0</td>\n",
       "      <td>0</td>\n",
       "      <td>0</td>\n",
       "      <td>0</td>\n",
       "      <td>0</td>\n",
       "      <td>0</td>\n",
       "      <td>2017</td>\n",
       "      <td>1</td>\n",
       "      <td>TARDE</td>\n",
       "    </tr>\n",
       "  </tbody>\n",
       "</table>\n",
       "</div>"
      ],
      "text/plain": [
       "           tipo situacao        data   hora        bairro            endereco  \\\n",
       "211  SEM VÍTIMA  Err:512  2017-01-08  11:14  CAMPO GRANDE  RUA ODORICO MENDES   \n",
       "\n",
       "    numero                 complemento natureza descricao  auto  moto  ciclom  \\\n",
       "211    NaN  EM FRENTE DO CLUBE DAS PAZ  COLISÃO   COL.S/V     2     0       0   \n",
       "\n",
       "     ciclista  pedestre  onibus  caminhao  viatura  outros  vitimas  \\\n",
       "211         0         0       0         0        0       0        0   \n",
       "\n",
       "     vitimasfatais   ano  mes periodo  \n",
       "211              0  2017    1   TARDE  "
      ]
     },
     "execution_count": 25,
     "metadata": {},
     "output_type": "execute_result"
    }
   ],
   "source": [
    "dataset[dataset['situacao'] == 'Err:512']"
   ]
  },
  {
   "cell_type": "code",
   "execution_count": 26,
   "metadata": {},
   "outputs": [
    {
     "data": {
      "text/html": [
       "<div>\n",
       "<style scoped>\n",
       "    .dataframe tbody tr th:only-of-type {\n",
       "        vertical-align: middle;\n",
       "    }\n",
       "\n",
       "    .dataframe tbody tr th {\n",
       "        vertical-align: top;\n",
       "    }\n",
       "\n",
       "    .dataframe thead th {\n",
       "        text-align: right;\n",
       "    }\n",
       "</style>\n",
       "<table border=\"1\" class=\"dataframe\">\n",
       "  <thead>\n",
       "    <tr style=\"text-align: right;\">\n",
       "      <th></th>\n",
       "      <th>tipo</th>\n",
       "      <th>situacao</th>\n",
       "      <th>data</th>\n",
       "      <th>hora</th>\n",
       "      <th>bairro</th>\n",
       "      <th>endereco</th>\n",
       "      <th>numero</th>\n",
       "      <th>complemento</th>\n",
       "      <th>natureza</th>\n",
       "      <th>descricao</th>\n",
       "      <th>auto</th>\n",
       "      <th>moto</th>\n",
       "      <th>ciclom</th>\n",
       "      <th>ciclista</th>\n",
       "      <th>pedestre</th>\n",
       "      <th>onibus</th>\n",
       "      <th>caminhao</th>\n",
       "      <th>viatura</th>\n",
       "      <th>outros</th>\n",
       "      <th>vitimas</th>\n",
       "      <th>vitimasfatais</th>\n",
       "      <th>ano</th>\n",
       "      <th>mes</th>\n",
       "      <th>periodo</th>\n",
       "    </tr>\n",
       "  </thead>\n",
       "  <tbody>\n",
       "  </tbody>\n",
       "</table>\n",
       "</div>"
      ],
      "text/plain": [
       "Empty DataFrame\n",
       "Columns: [tipo, situacao, data, hora, bairro, endereco, numero, complemento, natureza, descricao, auto, moto, ciclom, ciclista, pedestre, onibus, caminhao, viatura, outros, vitimas, vitimasfatais, ano, mes, periodo]\n",
       "Index: []"
      ]
     },
     "execution_count": 26,
     "metadata": {},
     "output_type": "execute_result"
    }
   ],
   "source": [
    "dataset = dataset.drop(dataset.index[211])\n",
    "dataset[dataset['situacao'] == 'Err:512']"
   ]
  },
  {
   "cell_type": "markdown",
   "metadata": {},
   "source": [
    "### <a>Ajustando a coluna tipo</a>   \n",
    "\n",
    "Pode-se observar que a coluna _tipo_ possui valores semelhantes a coluna _natureza_, os valores que os diferenciam são: SEM VÍTIMA, COM VÍTIMA, VÍTIMA FATAL. Assim, com uma forma de adicionar mais um tipo de informação, a coluna _tipo_ será ajustada com base na coluna _vitimas_ e _vitimasfatais_ da seguinte forma:\n",
    "\n",
    " - SEM VÍTIMA: A coluna _vitimas_ ter o valor zero.\n",
    " - COM VÍTIMA: A coluna _vitimas_ ter o valor maior que zero e a coluna _vitimasfatais_ o valor 0.\n",
    " - VÍTIMA FATAL: As colunas _vitimas_ e _vitimasfatais_ terem os valores maiores que 0.\n"
   ]
  },
  {
   "cell_type": "code",
   "execution_count": 27,
   "metadata": {},
   "outputs": [
    {
     "name": "stdout",
     "output_type": "stream",
     "text": [
      "[SEM VÍTIMA, COM VÍTIMA, VÍTIMA FATAL, ATROPELAMENTO, COLISÃO, ..., COLISÃO TRASEIRA, CHOQUE VEÍCULO PARADO, ABALROAMENTO TRANSVERSAL, COLISÃO FRONTAL, CHOQUE OBJETO FIXO]\n",
      "Length: 21\n",
      "Categories (20, object): [SEM VÍTIMA, COM VÍTIMA, VÍTIMA FATAL, ATROPELAMENTO, ..., CHOQUE VEÍCULO PARADO, ABALROAMENTO TRANSVERSAL, COLISÃO FRONTAL, CHOQUE OBJETO FIXO]\n"
     ]
    }
   ],
   "source": [
    "print(dataset['tipo'].unique())"
   ]
  },
  {
   "cell_type": "code",
   "execution_count": 28,
   "metadata": {},
   "outputs": [
    {
     "name": "stdout",
     "output_type": "stream",
     "text": [
      "[COLISÃO, CAPOTAMENTO, CHOQUE, ENGAVETAMENTO, ATROPELAMENTO, ..., COLISÃO TRASEIRA, CHOQUE VEÍCULO PARADO, ABALROAMENTO TRANSVERSAL, COLISÃO FRONTAL, CHOQUE OBJETO FIXO]\n",
      "Length: 21\n",
      "Categories (20, object): [COLISÃO, CAPOTAMENTO, CHOQUE, ENGAVETAMENTO, ..., CHOQUE VEÍCULO PARADO, ABALROAMENTO TRANSVERSAL, COLISÃO FRONTAL, CHOQUE OBJETO FIXO]\n"
     ]
    }
   ],
   "source": [
    "print(dataset['natureza'].unique())"
   ]
  },
  {
   "cell_type": "code",
   "execution_count": 29,
   "metadata": {},
   "outputs": [],
   "source": [
    "def convert_type(vitimas,vitimasfatais):\n",
    "    if vitimas > 0 and vitimasfatais > 0:\n",
    "        return 'VÍTIMA FATAL'\n",
    "    elif vitimasfatais == 0 and vitimas > 0:\n",
    "        return 'COM VÍTIMA'\n",
    "    else:\n",
    "        return 'SEM VÍTIMA'\n",
    "        \n",
    "dataset['tipo'] = dataset.apply(lambda x: convert_type(x['vitimas'],x['vitimasfatais']),axis=1)\n",
    "dataset['tipo'] = dataset['tipo'].astype('category')"
   ]
  },
  {
   "cell_type": "code",
   "execution_count": 30,
   "metadata": {},
   "outputs": [
    {
     "name": "stdout",
     "output_type": "stream",
     "text": [
      "[SEM VÍTIMA, COM VÍTIMA, VÍTIMA FATAL]\n",
      "Categories (3, object): [SEM VÍTIMA, COM VÍTIMA, VÍTIMA FATAL]\n"
     ]
    }
   ],
   "source": [
    "print(dataset['tipo'].unique())"
   ]
  },
  {
   "cell_type": "markdown",
   "metadata": {},
   "source": [
    "## <a id='35'>Renomeando as colunas</a>   \n",
    "\n",
    "\n",
    "Será listadas todas as colunas da base de dados com o intuito de verificar se existe consistência entre elas."
   ]
  },
  {
   "cell_type": "code",
   "execution_count": 31,
   "metadata": {},
   "outputs": [
    {
     "data": {
      "text/plain": [
       "Index(['tipo', 'situacao', 'data', 'hora', 'bairro', 'endereco', 'numero',\n",
       "       'complemento', 'natureza', 'descricao', 'auto', 'moto', 'ciclom',\n",
       "       'ciclista', 'pedestre', 'onibus', 'caminhao', 'viatura', 'outros',\n",
       "       'vitimas', 'vitimasfatais', 'ano', 'mes', 'periodo'],\n",
       "      dtype='object')"
      ]
     },
     "execution_count": 31,
     "metadata": {},
     "output_type": "execute_result"
    }
   ],
   "source": [
    "dataset.columns"
   ]
  },
  {
   "cell_type": "markdown",
   "metadata": {},
   "source": [
    "Conforme podemos observar, não será necessário nenhuma ação para renomear as colunas"
   ]
  },
  {
   "cell_type": "markdown",
   "metadata": {},
   "source": [
    "## <a id='36'>Removendo uma coluna</a>   \n",
    "\n",
    "A coluna _numero_ será removida do conjunto de dados, pois não será utilizada na análise."
   ]
  },
  {
   "cell_type": "code",
   "execution_count": 32,
   "metadata": {},
   "outputs": [
    {
     "data": {
      "text/html": [
       "<div>\n",
       "<style scoped>\n",
       "    .dataframe tbody tr th:only-of-type {\n",
       "        vertical-align: middle;\n",
       "    }\n",
       "\n",
       "    .dataframe tbody tr th {\n",
       "        vertical-align: top;\n",
       "    }\n",
       "\n",
       "    .dataframe thead th {\n",
       "        text-align: right;\n",
       "    }\n",
       "</style>\n",
       "<table border=\"1\" class=\"dataframe\">\n",
       "  <thead>\n",
       "    <tr style=\"text-align: right;\">\n",
       "      <th></th>\n",
       "      <th>tipo</th>\n",
       "      <th>situacao</th>\n",
       "      <th>data</th>\n",
       "      <th>hora</th>\n",
       "      <th>bairro</th>\n",
       "      <th>endereco</th>\n",
       "      <th>complemento</th>\n",
       "      <th>natureza</th>\n",
       "      <th>descricao</th>\n",
       "      <th>auto</th>\n",
       "      <th>moto</th>\n",
       "      <th>ciclom</th>\n",
       "      <th>ciclista</th>\n",
       "      <th>pedestre</th>\n",
       "      <th>onibus</th>\n",
       "      <th>caminhao</th>\n",
       "      <th>viatura</th>\n",
       "      <th>outros</th>\n",
       "      <th>vitimas</th>\n",
       "      <th>vitimasfatais</th>\n",
       "      <th>ano</th>\n",
       "      <th>mes</th>\n",
       "      <th>periodo</th>\n",
       "    </tr>\n",
       "  </thead>\n",
       "  <tbody>\n",
       "    <tr>\n",
       "      <td>0</td>\n",
       "      <td>SEM VÍTIMA</td>\n",
       "      <td>CANCELADA</td>\n",
       "      <td>2017-01-01</td>\n",
       "      <td>02:55</td>\n",
       "      <td>CABANGA</td>\n",
       "      <td>AV SUL</td>\n",
       "      <td>SEMAFORO 260</td>\n",
       "      <td>COLISÃO</td>\n",
       "      <td>COLISÃO ENTRE AUTO E ONIBUS, ONIBUS EVADIU DO ...</td>\n",
       "      <td>1</td>\n",
       "      <td>0</td>\n",
       "      <td>0</td>\n",
       "      <td>0</td>\n",
       "      <td>0</td>\n",
       "      <td>1</td>\n",
       "      <td>0</td>\n",
       "      <td>0</td>\n",
       "      <td>0</td>\n",
       "      <td>0</td>\n",
       "      <td>0</td>\n",
       "      <td>2017</td>\n",
       "      <td>1</td>\n",
       "      <td>MANHA</td>\n",
       "    </tr>\n",
       "    <tr>\n",
       "      <td>1</td>\n",
       "      <td>SEM VÍTIMA</td>\n",
       "      <td>FINALIZADA</td>\n",
       "      <td>2017-01-01</td>\n",
       "      <td>05:32</td>\n",
       "      <td>SANTO AMARO</td>\n",
       "      <td>RUA BARROS BARRETO</td>\n",
       "      <td>PROX DO COLEGIO ESTACIO COIMBRA</td>\n",
       "      <td>CAPOTAMENTO</td>\n",
       "      <td>CARRO BATEU EM DOIS VEICULOS ESTACIONADOS E CA...</td>\n",
       "      <td>3</td>\n",
       "      <td>0</td>\n",
       "      <td>0</td>\n",
       "      <td>0</td>\n",
       "      <td>0</td>\n",
       "      <td>0</td>\n",
       "      <td>0</td>\n",
       "      <td>0</td>\n",
       "      <td>0</td>\n",
       "      <td>0</td>\n",
       "      <td>0</td>\n",
       "      <td>2017</td>\n",
       "      <td>1</td>\n",
       "      <td>MANHA</td>\n",
       "    </tr>\n",
       "  </tbody>\n",
       "</table>\n",
       "</div>"
      ],
      "text/plain": [
       "         tipo    situacao        data   hora       bairro            endereco  \\\n",
       "0  SEM VÍTIMA   CANCELADA  2017-01-01  02:55      CABANGA              AV SUL   \n",
       "1  SEM VÍTIMA  FINALIZADA  2017-01-01  05:32  SANTO AMARO  RUA BARROS BARRETO   \n",
       "\n",
       "                       complemento     natureza  \\\n",
       "0                     SEMAFORO 260      COLISÃO   \n",
       "1  PROX DO COLEGIO ESTACIO COIMBRA  CAPOTAMENTO   \n",
       "\n",
       "                                           descricao  auto  moto  ciclom  \\\n",
       "0  COLISÃO ENTRE AUTO E ONIBUS, ONIBUS EVADIU DO ...     1     0       0   \n",
       "1  CARRO BATEU EM DOIS VEICULOS ESTACIONADOS E CA...     3     0       0   \n",
       "\n",
       "   ciclista  pedestre  onibus  caminhao  viatura  outros  vitimas  \\\n",
       "0         0         0       1         0        0       0        0   \n",
       "1         0         0       0         0        0       0        0   \n",
       "\n",
       "   vitimasfatais   ano  mes periodo  \n",
       "0              0  2017    1   MANHA  \n",
       "1              0  2017    1   MANHA  "
      ]
     },
     "execution_count": 32,
     "metadata": {},
     "output_type": "execute_result"
    }
   ],
   "source": [
    "dataset = dataset.drop(['numero'], axis=1)\n",
    "dataset.head(2)"
   ]
  },
  {
   "cell_type": "markdown",
   "metadata": {},
   "source": [
    "# <a id='4'>Explorando e visualizando os dados</a>   \n",
    "A seguir será gerado gráficos de histogramas relacionados as variáveis numéricas do conjunto. "
   ]
  },
  {
   "cell_type": "markdown",
   "metadata": {},
   "source": [
    "## <a id='41'>Análisando variáveis numéricas</a>   "
   ]
  },
  {
   "cell_type": "code",
   "execution_count": 33,
   "metadata": {},
   "outputs": [],
   "source": [
    "def variable_summarized(dataframe, x=None, y=None, hue=None,  verbose=True):\n",
    "    if x == None:\n",
    "        column_interested = y\n",
    "    else:\n",
    "        column_interested = x\n",
    "    series = dataframe[column_interested]\n",
    "    print(series.describe())\n",
    "    print('mode: ', series.mode())\n",
    "    if verbose:\n",
    "        print('='*80)\n",
    "        print('Histograma da variável: ', y)\n",
    "        print(series.value_counts())\n",
    "\n",
    "    sns.countplot(x=x, y=y, hue=hue, data=dataframe)\n",
    "    plt.show()"
   ]
  },
  {
   "cell_type": "markdown",
   "metadata": {},
   "source": [
    "### <a id='411'>- Variável auto</a>   "
   ]
  },
  {
   "cell_type": "code",
   "execution_count": 34,
   "metadata": {},
   "outputs": [
    {
     "name": "stdout",
     "output_type": "stream",
     "text": [
      "count    23112.000000\n",
      "mean         1.430512\n",
      "std          0.756733\n",
      "min          0.000000\n",
      "25%          1.000000\n",
      "50%          1.000000\n",
      "75%          2.000000\n",
      "max          6.000000\n",
      "Name: auto, dtype: float64\n",
      "mode:  0    1\n",
      "dtype: int64\n",
      "================================================================================\n",
      "Histograma da variável:  auto\n",
      "1    10144\n",
      "2     9602\n",
      "0     2193\n",
      "3     1005\n",
      "4      142\n",
      "5       25\n",
      "6        1\n",
      "Name: auto, dtype: int64\n"
     ]
    },
    {
     "data": {
      "image/png": "[encoded data removed]",
      "text/plain": [
       "<Figure size 432x288 with 1 Axes>"
      ]
     },
     "metadata": {
      "needs_background": "light"
     },
     "output_type": "display_data"
    }
   ],
   "source": [
    "variable_summarized(dataset, y = 'auto')"
   ]
  },
  {
   "cell_type": "markdown",
   "metadata": {},
   "source": [
    "### <a id='412'>- Variável vítimas</a>   "
   ]
  },
  {
   "cell_type": "code",
   "execution_count": 35,
   "metadata": {},
   "outputs": [
    {
     "name": "stdout",
     "output_type": "stream",
     "text": [
      "count    23112.00000\n",
      "mean         0.21504\n",
      "std          0.53695\n",
      "min          0.00000\n",
      "25%          0.00000\n",
      "50%          0.00000\n",
      "75%          0.00000\n",
      "max         24.00000\n",
      "Name: vitimas, dtype: float64\n",
      "mode:  0    0\n",
      "dtype: int64\n",
      "================================================================================\n",
      "Histograma da variável:  vitimas\n",
      "0     18921\n",
      "1      3579\n",
      "2       517\n",
      "3        71\n",
      "4        14\n",
      "5         5\n",
      "6         2\n",
      "24        1\n",
      "7         1\n",
      "20        1\n",
      "Name: vitimas, dtype: int64\n"
     ]
    },
    {
     "data": {
      "image/png": "[encoded data removed]",
      "text/plain": [
       "<Figure size 432x288 with 1 Axes>"
      ]
     },
     "metadata": {
      "needs_background": "light"
     },
     "output_type": "display_data"
    }
   ],
   "source": [
    "variable_summarized(dataset, y = 'vitimas')"
   ]
  },
  {
   "cell_type": "markdown",
   "metadata": {},
   "source": [
    "### <a id='413'>- Variável vítimas fatais</a>   "
   ]
  },
  {
   "cell_type": "code",
   "execution_count": 36,
   "metadata": {},
   "outputs": [
    {
     "name": "stdout",
     "output_type": "stream",
     "text": [
      "count    23112.000000\n",
      "mean         0.002899\n",
      "std          0.058394\n",
      "min          0.000000\n",
      "25%          0.000000\n",
      "50%          0.000000\n",
      "75%          0.000000\n",
      "max          3.000000\n",
      "Name: vitimasfatais, dtype: float64\n",
      "mode:  0    0\n",
      "dtype: int64\n",
      "================================================================================\n",
      "Histograma da variável:  vitimasfatais\n",
      "0    23050\n",
      "1       58\n",
      "2        3\n",
      "3        1\n",
      "Name: vitimasfatais, dtype: int64\n"
     ]
    },
    {
     "data": {
      "image/png": "[encoded data removed]",
      "text/plain": [
       "<Figure size 432x288 with 1 Axes>"
      ]
     },
     "metadata": {
      "needs_background": "light"
     },
     "output_type": "display_data"
    }
   ],
   "source": [
    "variable_summarized(dataset, y = 'vitimasfatais')"
   ]
  },
  {
   "cell_type": "markdown",
   "metadata": {},
   "source": [
    "## <a id='42'>Analisando varíaveis categóricas</a>   \n",
    "\n",
    "A seguir iremos analisar as variáveis categóricas, as quais os valores são rotulados como categorias, em relação a distribuição e dispersão das variáveis com gráficos de barras.\n",
    "\n",
    "As variáveis existentes no conjunto de dados são: \n",
    "\n",
    "- categorical = ['tipo','situacao','bairro','endereco','complemento','natureza','descricao', 'periodo']\n",
    "\n",
    "Desta forma, serão analisadas as variáveis tipo, situacao, natureza e periodo por serem as mais relevantes no momento."
   ]
  },
  {
   "cell_type": "markdown",
   "metadata": {},
   "source": [
    "### <a id='421'>- Variável tipo</a>   "
   ]
  },
  {
   "cell_type": "code",
   "execution_count": 37,
   "metadata": {},
   "outputs": [
    {
     "name": "stdout",
     "output_type": "stream",
     "text": [
      "count          23112\n",
      "unique             3\n",
      "top       SEM VÍTIMA\n",
      "freq           18921\n",
      "Name: tipo, dtype: object\n",
      "mode:  0    SEM VÍTIMA\n",
      "Name: tipo, dtype: category\n",
      "Categories (3, object): [COM VÍTIMA, SEM VÍTIMA, VÍTIMA FATAL]\n",
      "================================================================================\n",
      "Histograma da variável:  tipo\n",
      "SEM VÍTIMA      18921\n",
      "COM VÍTIMA       4170\n",
      "VÍTIMA FATAL       21\n",
      "Name: tipo, dtype: int64\n"
     ]
    },
    {
     "data": {
      "image/png": "[encoded data removed]",
      "text/plain": [
       "<Figure size 432x288 with 1 Axes>"
      ]
     },
     "metadata": {
      "needs_background": "light"
     },
     "output_type": "display_data"
    }
   ],
   "source": [
    "variable_summarized(dataset, y = 'tipo')"
   ]
  },
  {
   "cell_type": "markdown",
   "metadata": {},
   "source": [
    "### <a id='422'>- Variável situacao</a>   "
   ]
  },
  {
   "cell_type": "code",
   "execution_count": 38,
   "metadata": {},
   "outputs": [
    {
     "name": "stdout",
     "output_type": "stream",
     "text": [
      "count          23110\n",
      "unique             7\n",
      "top       FINALIZADA\n",
      "freq           18863\n",
      "Name: situacao, dtype: object\n",
      "mode:  0    FINALIZADA\n",
      "Name: situacao, dtype: category\n",
      "Categories (8, object): [CANCELADA, EM ABERTO, EM ATENDIMENTO, EQUIPE EM DESLOCAMENTO, EQUIPE NO LOCAL, Err:512, FINALIZADA, PENDENTE]\n",
      "================================================================================\n",
      "Histograma da variável:  situacao\n",
      "FINALIZADA                18863\n",
      "CANCELADA                  3923\n",
      "PENDENTE                    245\n",
      "EM ATENDIMENTO               36\n",
      "EQUIPE EM DESLOCAMENTO       32\n",
      "EQUIPE NO LOCAL               8\n",
      "EM ABERTO                     3\n",
      "Err:512                       0\n",
      "Name: situacao, dtype: int64\n"
     ]
    },
    {
     "data": {
      "image/png": "[encoded data removed]",
      "text/plain": [
       "<Figure size 432x288 with 1 Axes>"
      ]
     },
     "metadata": {
      "needs_background": "light"
     },
     "output_type": "display_data"
    }
   ],
   "source": [
    "variable_summarized(dataset, y = 'situacao')"
   ]
  },
  {
   "cell_type": "markdown",
   "metadata": {},
   "source": [
    "### <a id='423'>- Variável natureza</a>   "
   ]
  },
  {
   "cell_type": "code",
   "execution_count": 39,
   "metadata": {},
   "outputs": [
    {
     "name": "stdout",
     "output_type": "stream",
     "text": [
      "count       23020\n",
      "unique         20\n",
      "top       COLISÃO\n",
      "freq        19384\n",
      "Name: natureza, dtype: object\n",
      "mode:  0    COLISÃO\n",
      "Name: natureza, dtype: category\n",
      "Categories (20, object): [0, ABALROAMENTO LONGITUDINAL, ABALROAMENTO TRANSVERSAL, ACID. DE PERCURSO, ..., FISCALIZAÇAO, NATUREZA, QUEDA DE ÁRVORE, TOMBAMENTO]\n",
      "================================================================================\n",
      "Histograma da variável:  natureza\n",
      "COLISÃO                      19384\n",
      "ABALROAMENTO LONGITUDINAL      704\n",
      "COLISÃO TRASEIRA               524\n",
      "CHOQUE                         469\n",
      "ATROPELAMENTO                  462\n",
      "ABALROAMENTO TRANSVERSAL       381\n",
      "ENGAVETAMENTO                  344\n",
      "COLISÃO COM CICLISTA           283\n",
      "ACID. DE PERCURSO              106\n",
      "QUEDA DE ÁRVORE                 99\n",
      "CHOQUE VEÍCULO PARADO           78\n",
      "COLISÃO FRONTAL                 49\n",
      "CAPOTAMENTO                     49\n",
      "CHOQUE OBJETO FIXO              38\n",
      "ATROPELAMENTO ANIMAL            21\n",
      "TOMBAMENTO                      16\n",
      "COLISAO                          7\n",
      "0                                3\n",
      "FISCALIZAÇAO                     2\n",
      "NATUREZA                         1\n",
      "Name: natureza, dtype: int64\n"
     ]
    },
    {
     "data": {
      "image/png": "[encoded data removed]",
      "text/plain": [
       "<Figure size 432x288 with 1 Axes>"
      ]
     },
     "metadata": {
      "needs_background": "light"
     },
     "output_type": "display_data"
    }
   ],
   "source": [
    "variable_summarized(dataset, y = 'natureza')"
   ]
  },
  {
   "cell_type": "markdown",
   "metadata": {},
   "source": [
    "### <a id='424'> - Variável periodo</a>   "
   ]
  },
  {
   "cell_type": "code",
   "execution_count": 40,
   "metadata": {},
   "outputs": [
    {
     "name": "stdout",
     "output_type": "stream",
     "text": [
      "count     23112\n",
      "unique        5\n",
      "top       NOITE\n",
      "freq       9105\n",
      "Name: periodo, dtype: object\n",
      "mode:  0    NOITE\n",
      "Name: periodo, dtype: category\n",
      "Categories (5, object): [MADRUGADA, MANHA, NOITE, SEM_DATA, TARDE]\n",
      "================================================================================\n",
      "Histograma da variável:  periodo\n",
      "NOITE        9105\n",
      "TARDE        7941\n",
      "MADRUGADA    5098\n",
      "MANHA         952\n",
      "SEM_DATA       16\n",
      "Name: periodo, dtype: int64\n"
     ]
    },
    {
     "data": {
      "image/png": "[encoded data removed]",
      "text/plain": [
       "<Figure size 432x288 with 1 Axes>"
      ]
     },
     "metadata": {
      "needs_background": "light"
     },
     "output_type": "display_data"
    }
   ],
   "source": [
    "variable_summarized(dataset, y = 'periodo')"
   ]
  },
  {
   "cell_type": "markdown",
   "metadata": {},
   "source": [
    "## <a id='43'>Observando um caso específico</a>   "
   ]
  },
  {
   "cell_type": "markdown",
   "metadata": {},
   "source": [
    "É possível realizar algumas observações olhando para o conjunto de dados.\n",
    "\n",
    "Um fato que poderia causar estranhamento seria em relação a coluna _vitimas_ , contudo, foi realizado uma pesquisa na internet onde foi possível encontrar uma notícia referente ao acidente que ocorreu em 2017-10-23 onde 24 pessoas foram feridas em um ônibus sem nenhuma vítima fatal. Conforme pode ser observado no link abaixo:\n",
    "\n",
    "https://www.folhape.com.br/noticias/noticias/cotidiano/2017/10/23/NWS,46142,70,449,NOTICIAS,2190-FOTOS-ONIBUS-BATE-ARVORE-DEIXA-PELO-MENOS-FERIDOS-ESPINHEIRO.aspx\n",
    "\n",
    "Desta forma, esse valor não deve ser comparado com um outlier que deva ser excluído. "
   ]
  },
  {
   "cell_type": "code",
   "execution_count": 41,
   "metadata": {},
   "outputs": [
    {
     "data": {
      "text/html": [
       "<div>\n",
       "<style scoped>\n",
       "    .dataframe tbody tr th:only-of-type {\n",
       "        vertical-align: middle;\n",
       "    }\n",
       "\n",
       "    .dataframe tbody tr th {\n",
       "        vertical-align: top;\n",
       "    }\n",
       "\n",
       "    .dataframe thead th {\n",
       "        text-align: right;\n",
       "    }\n",
       "</style>\n",
       "<table border=\"1\" class=\"dataframe\">\n",
       "  <thead>\n",
       "    <tr style=\"text-align: right;\">\n",
       "      <th></th>\n",
       "      <th>tipo</th>\n",
       "      <th>situacao</th>\n",
       "      <th>data</th>\n",
       "      <th>hora</th>\n",
       "      <th>bairro</th>\n",
       "      <th>endereco</th>\n",
       "      <th>complemento</th>\n",
       "      <th>natureza</th>\n",
       "      <th>descricao</th>\n",
       "      <th>auto</th>\n",
       "      <th>moto</th>\n",
       "      <th>ciclom</th>\n",
       "      <th>ciclista</th>\n",
       "      <th>pedestre</th>\n",
       "      <th>onibus</th>\n",
       "      <th>caminhao</th>\n",
       "      <th>viatura</th>\n",
       "      <th>outros</th>\n",
       "      <th>vitimas</th>\n",
       "      <th>vitimasfatais</th>\n",
       "      <th>ano</th>\n",
       "      <th>mes</th>\n",
       "      <th>periodo</th>\n",
       "    </tr>\n",
       "  </thead>\n",
       "  <tbody>\n",
       "    <tr>\n",
       "      <td>9395</td>\n",
       "      <td>COM VÍTIMA</td>\n",
       "      <td>FINALIZADA</td>\n",
       "      <td>2017-10-23</td>\n",
       "      <td>12:29:00</td>\n",
       "      <td>ESPINHEIRO</td>\n",
       "      <td>RUA CONS PORTELA</td>\n",
       "      <td>PROX. A IGREJA DAS GRASÇAS</td>\n",
       "      <td>CHOQUE</td>\n",
       "      <td>ONIBUS SE CHOCOU COM UMA ARVORE, C/V</td>\n",
       "      <td>0</td>\n",
       "      <td>0</td>\n",
       "      <td>0</td>\n",
       "      <td>0</td>\n",
       "      <td>0</td>\n",
       "      <td>1</td>\n",
       "      <td>0</td>\n",
       "      <td>0</td>\n",
       "      <td>0</td>\n",
       "      <td>24</td>\n",
       "      <td>0</td>\n",
       "      <td>2017</td>\n",
       "      <td>10</td>\n",
       "      <td>NOITE</td>\n",
       "    </tr>\n",
       "  </tbody>\n",
       "</table>\n",
       "</div>"
      ],
      "text/plain": [
       "            tipo    situacao        data      hora      bairro  \\\n",
       "9395  COM VÍTIMA  FINALIZADA  2017-10-23  12:29:00  ESPINHEIRO   \n",
       "\n",
       "              endereco                 complemento natureza  \\\n",
       "9395  RUA CONS PORTELA  PROX. A IGREJA DAS GRASÇAS   CHOQUE   \n",
       "\n",
       "                                 descricao  auto  moto  ciclom  ciclista  \\\n",
       "9395  ONIBUS SE CHOCOU COM UMA ARVORE, C/V     0     0       0         0   \n",
       "\n",
       "      pedestre  onibus  caminhao  viatura  outros  vitimas  vitimasfatais  \\\n",
       "9395         0       1         0        0       0       24              0   \n",
       "\n",
       "       ano  mes periodo  \n",
       "9395  2017   10   NOITE  "
      ]
     },
     "execution_count": 41,
     "metadata": {},
     "output_type": "execute_result"
    }
   ],
   "source": [
    "dataset.loc[(dataset['vitimas'] > 20)]"
   ]
  },
  {
   "cell_type": "code",
   "execution_count": 42,
   "metadata": {},
   "outputs": [
    {
     "data": {
      "text/plain": [
       "<matplotlib.axes._subplots.AxesSubplot at 0x1a1837b550>"
      ]
     },
     "execution_count": 42,
     "metadata": {},
     "output_type": "execute_result"
    },
    {
     "data": {
      "image/png": "[encoded data removed]",
      "text/plain": [
       "<Figure size 432x288 with 1 Axes>"
      ]
     },
     "metadata": {
      "needs_background": "light"
     },
     "output_type": "display_data"
    }
   ],
   "source": [
    "dataset['vitimas'].plot.box()"
   ]
  },
  {
   "cell_type": "code",
   "execution_count": 43,
   "metadata": {},
   "outputs": [
    {
     "data": {
      "text/plain": [
       "count    23112.00000\n",
       "mean         0.21504\n",
       "std          0.53695\n",
       "min          0.00000\n",
       "25%          0.00000\n",
       "50%          0.00000\n",
       "75%          0.00000\n",
       "max         24.00000\n",
       "Name: vitimas, dtype: float64"
      ]
     },
     "execution_count": 43,
     "metadata": {},
     "output_type": "execute_result"
    }
   ],
   "source": [
    "dataset['vitimas'].describe()"
   ]
  },
  {
   "cell_type": "code",
   "execution_count": 44,
   "metadata": {},
   "outputs": [
    {
     "data": {
      "text/plain": [
       "<matplotlib.axes._subplots.AxesSubplot at 0x1a1830cb90>"
      ]
     },
     "execution_count": 44,
     "metadata": {},
     "output_type": "execute_result"
    },
    {
     "data": {
      "image/png": "[encoded data removed]",
      "text/plain": [
       "<Figure size 432x288 with 1 Axes>"
      ]
     },
     "metadata": {
      "needs_background": "light"
     },
     "output_type": "display_data"
    }
   ],
   "source": [
    "dataset['vitimas'].hist()"
   ]
  },
  {
   "cell_type": "markdown",
   "metadata": {},
   "source": [
    "## <a id='44'>Análise univariada </a>   \n",
    "Será realizado uma análise univariada que consiste basicamente em analisar cada uma das variáveis individualmente."
   ]
  },
  {
   "cell_type": "markdown",
   "metadata": {},
   "source": [
    "### <a id='441'>Quantidade de acidentes por bairro </a>   "
   ]
  },
  {
   "cell_type": "code",
   "execution_count": 45,
   "metadata": {},
   "outputs": [
    {
     "data": {
      "image/png": "[encoded data removed]",
      "text/plain": [
       "<Figure size 1440x360 with 1 Axes>"
      ]
     },
     "metadata": {
      "needs_background": "light"
     },
     "output_type": "display_data"
    }
   ],
   "source": [
    "df = dataset['bairro'].value_counts().plot(kind='bar', title='Acidentes por bairro', colormap='jet', figsize=(20,5))"
   ]
  },
  {
   "cell_type": "markdown",
   "metadata": {},
   "source": [
    "### <a id='442'>Os 10 bairros que possuem mais acidentes</a>   "
   ]
  },
  {
   "cell_type": "code",
   "execution_count": 46,
   "metadata": {},
   "outputs": [
    {
     "data": {
      "text/plain": [
       "<matplotlib.axes._subplots.AxesSubplot at 0x1a19153610>"
      ]
     },
     "execution_count": 46,
     "metadata": {},
     "output_type": "execute_result"
    },
    {
     "data": {
      "image/png": "[encoded data removed]",
      "text/plain": [
       "<Figure size 1440x360 with 1 Axes>"
      ]
     },
     "metadata": {
      "needs_background": "light"
     },
     "output_type": "display_data"
    }
   ],
   "source": [
    "top10Type = dataset['bairro'].value_counts()\n",
    "top10Type.sort_values(ascending=False)\n",
    "top10Type = top10Type[:10]\n",
    "top10Type.plot(title='Os 10 bairros que possuem mais acidentes', kind=\"bar\", colormap='jet', figsize=(20,5))"
   ]
  },
  {
   "cell_type": "markdown",
   "metadata": {},
   "source": [
    "### <a id='443'>Relação vítimas fatais por bairro</a>   "
   ]
  },
  {
   "cell_type": "code",
   "execution_count": 47,
   "metadata": {},
   "outputs": [
    {
     "data": {
      "text/plain": [
       "<matplotlib.axes._subplots.AxesSubplot at 0x103440650>"
      ]
     },
     "execution_count": 47,
     "metadata": {},
     "output_type": "execute_result"
    },
    {
     "data": {
      "image/png": "[encoded data removed]",
      "text/plain": [
       "<Figure size 1440x360 with 1 Axes>"
      ]
     },
     "metadata": {
      "needs_background": "light"
     },
     "output_type": "display_data"
    }
   ],
   "source": [
    "listVitimasfatais = dataset.groupby(['bairro']).agg(sum).sort_values(['bairro'])\n",
    "listVitimasfatais['vitimasfatais'].sort_values(ascending=False).plot.bar(title='Relação vítimas fatais por bairro',colormap='jet', figsize=(20,5))"
   ]
  },
  {
   "cell_type": "markdown",
   "metadata": {},
   "source": [
    "### <a id='444'>Os 10 bairros que possuem mais vítimas fatais</a>   "
   ]
  },
  {
   "cell_type": "code",
   "execution_count": 48,
   "metadata": {},
   "outputs": [
    {
     "data": {
      "text/plain": [
       "<matplotlib.axes._subplots.AxesSubplot at 0x1a178d8050>"
      ]
     },
     "execution_count": 48,
     "metadata": {},
     "output_type": "execute_result"
    },
    {
     "data": {
      "image/png": "[encoded data removed]",
      "text/plain": [
       "<Figure size 1440x360 with 1 Axes>"
      ]
     },
     "metadata": {
      "needs_background": "light"
     },
     "output_type": "display_data"
    }
   ],
   "source": [
    "relationship = dataset.groupby(['bairro']).agg(sum).sort_values(['bairro'])\n",
    "top10VitimasFatais = relationship['vitimasfatais'].sort_values(ascending=False)\n",
    "top10VitimasFatais = top10VitimasFatais[:10]\n",
    "top10VitimasFatais.plot(title='Os 10 bairros que possuem mais vítimas fatais', kind=\"bar\", colormap='jet', figsize=(20,5))"
   ]
  },
  {
   "cell_type": "markdown",
   "metadata": {},
   "source": [
    "### <a id='445'>Quantidade de acidentes por tipo</a>   "
   ]
  },
  {
   "cell_type": "code",
   "execution_count": 49,
   "metadata": {
    "scrolled": true
   },
   "outputs": [
    {
     "data": {
      "text/plain": [
       "<matplotlib.axes._subplots.AxesSubplot at 0x1a1751ea10>"
      ]
     },
     "execution_count": 49,
     "metadata": {},
     "output_type": "execute_result"
    },
    {
     "data": {
      "image/png": "[encoded data removed]",
      "text/plain": [
       "<Figure size 1440x360 with 1 Axes>"
      ]
     },
     "metadata": {
      "needs_background": "light"
     },
     "output_type": "display_data"
    }
   ],
   "source": [
    "dataset['tipo'].value_counts().plot.bar(title='Quantidade de acidentes por tipo', colormap='jet', figsize=(20,5))"
   ]
  },
  {
   "cell_type": "markdown",
   "metadata": {},
   "source": [
    "### <a id='446'>Quantidade de acidentes por mês</a>   "
   ]
  },
  {
   "cell_type": "code",
   "execution_count": 50,
   "metadata": {},
   "outputs": [
    {
     "data": {
      "text/plain": [
       "<matplotlib.axes._subplots.AxesSubplot at 0x1a17182ed0>"
      ]
     },
     "execution_count": 50,
     "metadata": {},
     "output_type": "execute_result"
    },
    {
     "data": {
      "image/png": "[encoded data removed]",
      "text/plain": [
       "<Figure size 1440x360 with 1 Axes>"
      ]
     },
     "metadata": {
      "needs_background": "light"
     },
     "output_type": "display_data"
    }
   ],
   "source": [
    "top10Hora = dataset['mes'].value_counts()\n",
    "top10Hora.sort_values(ascending=False)\n",
    "top10Hora.plot(title='Quantidade de acidentes por mês', kind=\"bar\", colormap='jet',figsize=(20,5))"
   ]
  },
  {
   "cell_type": "markdown",
   "metadata": {},
   "source": [
    "### <a id='447'>Quantidade de acidentes por período</a>   "
   ]
  },
  {
   "cell_type": "code",
   "execution_count": 51,
   "metadata": {
    "scrolled": true
   },
   "outputs": [
    {
     "data": {
      "text/plain": [
       "<matplotlib.axes._subplots.AxesSubplot at 0x1a181abc10>"
      ]
     },
     "execution_count": 51,
     "metadata": {},
     "output_type": "execute_result"
    },
    {
     "data": {
      "image/png": "[encoded data removed]",
      "text/plain": [
       "<Figure size 1440x360 with 1 Axes>"
      ]
     },
     "metadata": {
      "needs_background": "light"
     },
     "output_type": "display_data"
    }
   ],
   "source": [
    "top10Hora = dataset['periodo'].value_counts()\n",
    "top10Hora.sort_values(ascending=False)\n",
    "top10Hora.plot(title='Quantidade de acidentes por período' , colormap='jet', kind=\"bar\",figsize=(20,5))"
   ]
  },
  {
   "cell_type": "markdown",
   "metadata": {},
   "source": [
    "## <a id='45'>Análise bivariada </a>   "
   ]
  },
  {
   "cell_type": "markdown",
   "metadata": {},
   "source": [
    "### <a id='451'>Relação acidentes por mês entre 2017 e 2018</a>   "
   ]
  },
  {
   "cell_type": "code",
   "execution_count": 52,
   "metadata": {},
   "outputs": [
    {
     "data": {
      "image/png": "[encoded data removed]",
      "text/plain": [
       "<Figure size 1440x504 with 1 Axes>"
      ]
     },
     "metadata": {
      "needs_background": "light"
     },
     "output_type": "display_data"
    }
   ],
   "source": [
    "data2018 = dataset[dataset['ano'] == 2018]\n",
    "df2018 = pd.DataFrame(data=data2018)\n",
    "gr2018 = df2018.groupby(['mes']).agg(sum)\n",
    "\n",
    "tee2017 = dataset[dataset['ano'] == 2017]\n",
    "df2017 = pd.DataFrame(data=tee2017)\n",
    "gr2017 = df2017.groupby(['mes']).agg(sum)\n",
    "\n",
    "df = pd.DataFrame({'2017': gr2017.vitimas,\n",
    "                   '2018': gr2018.vitimas}, index= dataset['mes'].unique())\n",
    "ax = df.plot.bar(title='Relação acidentes por mês entre 2017 e 2018', figsize=(20,7), rot=0)"
   ]
  },
  {
   "cell_type": "code",
   "execution_count": 53,
   "metadata": {},
   "outputs": [
    {
     "data": {
      "image/png": "[encoded data removed]",
      "text/plain": [
       "<Figure size 1440x360 with 1 Axes>"
      ]
     },
     "metadata": {
      "needs_background": "light"
     },
     "output_type": "display_data"
    }
   ],
   "source": [
    "data2018 = dataset[dataset['ano'] == 2018]\n",
    "df2018 = pd.DataFrame(data=data2018)\n",
    "gr2018 = df2018.groupby(['mes']).agg(sum)\n",
    "\n",
    "tee2017 = dataset[dataset['ano'] == 2017]\n",
    "df2017 = pd.DataFrame(data=tee2017)\n",
    "gr2017 = df2017.groupby(['mes']).agg(sum)\n",
    "\n",
    "df = pd.DataFrame({\"mes\": [1,2,3,4,5,6,7,8,9,10,11,12],\n",
    "                   \"2017\" : gr2017.vitimas,\n",
    "                   \"2018\" : gr2018.vitimas })\n",
    "df.plot(title='Relação acidentes por mês entre 2017 e 2018',marker='o', markerfacecolor='black', markersize=5, x=\"mes\", y=[\"2017\", \"2018\"], figsize=(20,5))\n",
    "plt.show()"
   ]
  },
  {
   "cell_type": "markdown",
   "metadata": {},
   "source": [
    "### <a id='452'>Relação acidentes por ano</a>   "
   ]
  },
  {
   "cell_type": "code",
   "execution_count": 54,
   "metadata": {},
   "outputs": [
    {
     "data": {
      "text/plain": [
       "<matplotlib.axes._subplots.AxesSubplot at 0x1a19f17a50>"
      ]
     },
     "execution_count": 54,
     "metadata": {},
     "output_type": "execute_result"
    },
    {
     "data": {
      "image/png": "[encoded data removed]",
      "text/plain": [
       "<Figure size 1440x360 with 1 Axes>"
      ]
     },
     "metadata": {
      "needs_background": "light"
     },
     "output_type": "display_data"
    }
   ],
   "source": [
    "dataset.groupby(['ano']).agg({'vitimas': [np.sum]}).plot.bar(title='Relação acidentes por ano',colormap='jet', figsize=(20,5))"
   ]
  },
  {
   "cell_type": "markdown",
   "metadata": {},
   "source": [
    "### <a id='453'> Relação vitimas fatais durante o ano</a>   "
   ]
  },
  {
   "cell_type": "code",
   "execution_count": 55,
   "metadata": {},
   "outputs": [
    {
     "data": {
      "image/png": "[encoded data removed]",
      "text/plain": [
       "<Figure size 1440x360 with 1 Axes>"
      ]
     },
     "metadata": {
      "needs_background": "light"
     },
     "output_type": "display_data"
    }
   ],
   "source": [
    "df = pd.DataFrame({\"mes\": [1,2,3,4,5,6,7,8,9,10,11,12],\n",
    "                   \"2017\" : gr2017.vitimasfatais,\n",
    "                   \"2018\" : gr2018.vitimasfatais })\n",
    "df.plot(title='Relação vitimas fatais durante o ano', marker='o', markerfacecolor='black', markersize=5, x=\"mes\", y=[\"2017\", \"2018\"], figsize=(20,5))\n",
    "plt.show()"
   ]
  },
  {
   "cell_type": "markdown",
   "metadata": {},
   "source": [
    "### <a id='454'> Relação vitimas fatais por ano</a>   "
   ]
  },
  {
   "cell_type": "code",
   "execution_count": 56,
   "metadata": {},
   "outputs": [
    {
     "data": {
      "text/plain": [
       "<matplotlib.axes._subplots.AxesSubplot at 0x1a18e500d0>"
      ]
     },
     "execution_count": 56,
     "metadata": {},
     "output_type": "execute_result"
    },
    {
     "data": {
      "image/png": "[encoded data removed]",
      "text/plain": [
       "<Figure size 1440x360 with 1 Axes>"
      ]
     },
     "metadata": {
      "needs_background": "light"
     },
     "output_type": "display_data"
    }
   ],
   "source": [
    "dataset.groupby(['ano']).agg({'vitimasfatais': [np.sum]}).plot.bar(title='Relação vitimas fatais por ano' ,colormap='jet', figsize=(20,5))"
   ]
  },
  {
   "cell_type": "markdown",
   "metadata": {},
   "source": [
    "### <a id='455'> Relação vitimas por bairro/ano</a>   "
   ]
  },
  {
   "cell_type": "code",
   "execution_count": 57,
   "metadata": {},
   "outputs": [
    {
     "data": {
      "image/png": "[encoded data removed]",
      "text/plain": [
       "<Figure size 1440x360 with 1 Axes>"
      ]
     },
     "metadata": {
      "needs_background": "light"
     },
     "output_type": "display_data"
    }
   ],
   "source": [
    "data2018 = dataset[dataset['ano'] == 2018]\n",
    "df2018 = pd.DataFrame(data=data2018)\n",
    "tet2018 = df2018.groupby(['bairro']).agg(sum)\n",
    "\n",
    "tee2017 = dataset[dataset['ano'] == 2017]\n",
    "df2017 = pd.DataFrame(data=tee2017)\n",
    "tet2017 = df2017.groupby(['bairro']).agg(sum)\n",
    "\n",
    "df = pd.DataFrame({'2017': tet2017.vitimas[top10Type.index.values.tolist()],\n",
    "                   '2018': tet2018.vitimas[top10Type.index.values.tolist()]}, index=top10Type.index.values.tolist())\n",
    "ax = df.plot.bar(title='Relação vítimas por bairro/ano' ,figsize=(20,5), rot=0)"
   ]
  },
  {
   "cell_type": "markdown",
   "metadata": {},
   "source": [
    "Podemos observar com os resultados dos gráficos gerados que houve uma diminuição nos números de vítimas e vítimas fatais entre os anos de 2017 e 2018."
   ]
  },
  {
   "cell_type": "markdown",
   "metadata": {},
   "source": [
    "## <a id='46'> Análises mais apronfundadas nos dados</a>   "
   ]
  },
  {
   "cell_type": "markdown",
   "metadata": {},
   "source": [
    "Nesta seção será realizada uma análise com representações dos dados com o relacionamento entre uma variável numérica e uma ou mais variáveis categóricas."
   ]
  },
  {
   "cell_type": "code",
   "execution_count": 58,
   "metadata": {},
   "outputs": [
    {
     "data": {
      "text/plain": [
       "tipo             category\n",
       "situacao         category\n",
       "data               object\n",
       "hora               object\n",
       "bairro           category\n",
       "endereco         category\n",
       "complemento      category\n",
       "natureza         category\n",
       "descricao        category\n",
       "auto                int64\n",
       "moto                int64\n",
       "ciclom              int64\n",
       "ciclista            int64\n",
       "pedestre            int64\n",
       "onibus              int64\n",
       "caminhao            int64\n",
       "viatura             int64\n",
       "outros              int64\n",
       "vitimas             int64\n",
       "vitimasfatais       int64\n",
       "ano                 int64\n",
       "mes                 int64\n",
       "periodo          category\n",
       "dtype: object"
      ]
     },
     "execution_count": 58,
     "metadata": {},
     "output_type": "execute_result"
    }
   ],
   "source": [
    "dataset2 = dataset.copy()\n",
    "dataset2.dtypes"
   ]
  },
  {
   "cell_type": "code",
   "execution_count": 59,
   "metadata": {},
   "outputs": [],
   "source": [
    "# será utilizada a função _cat.codes_ que realizará a representação das variáveis categóricas. \n",
    "dataset2[\"tipo_cat\"] = dataset2[\"tipo\"].cat.codes\n",
    "dataset2[\"situacao_cat\"] = dataset2[\"situacao\"].cat.codes\n",
    "dataset2[\"periodo_cat\"] = dataset2[\"periodo\"].cat.codes\n",
    "dataset2[\"natureza_cat\"] = dataset2[\"natureza\"].cat.codes"
   ]
  },
  {
   "cell_type": "code",
   "execution_count": 60,
   "metadata": {},
   "outputs": [
    {
     "data": {
      "text/html": [
       "<div>\n",
       "<style scoped>\n",
       "    .dataframe tbody tr th:only-of-type {\n",
       "        vertical-align: middle;\n",
       "    }\n",
       "\n",
       "    .dataframe tbody tr th {\n",
       "        vertical-align: top;\n",
       "    }\n",
       "\n",
       "    .dataframe thead th {\n",
       "        text-align: right;\n",
       "    }\n",
       "</style>\n",
       "<table border=\"1\" class=\"dataframe\">\n",
       "  <thead>\n",
       "    <tr style=\"text-align: right;\">\n",
       "      <th></th>\n",
       "      <th>tipo</th>\n",
       "      <th>situacao</th>\n",
       "      <th>data</th>\n",
       "      <th>hora</th>\n",
       "      <th>bairro</th>\n",
       "      <th>endereco</th>\n",
       "      <th>complemento</th>\n",
       "      <th>natureza</th>\n",
       "      <th>descricao</th>\n",
       "      <th>auto</th>\n",
       "      <th>moto</th>\n",
       "      <th>ciclom</th>\n",
       "      <th>ciclista</th>\n",
       "      <th>pedestre</th>\n",
       "      <th>onibus</th>\n",
       "      <th>caminhao</th>\n",
       "      <th>viatura</th>\n",
       "      <th>outros</th>\n",
       "      <th>vitimas</th>\n",
       "      <th>vitimasfatais</th>\n",
       "      <th>ano</th>\n",
       "      <th>mes</th>\n",
       "      <th>periodo</th>\n",
       "      <th>tipo_cat</th>\n",
       "      <th>situacao_cat</th>\n",
       "      <th>periodo_cat</th>\n",
       "      <th>natureza_cat</th>\n",
       "    </tr>\n",
       "  </thead>\n",
       "  <tbody>\n",
       "    <tr>\n",
       "      <td>0</td>\n",
       "      <td>SEM VÍTIMA</td>\n",
       "      <td>CANCELADA</td>\n",
       "      <td>2017-01-01</td>\n",
       "      <td>02:55</td>\n",
       "      <td>CABANGA</td>\n",
       "      <td>AV SUL</td>\n",
       "      <td>SEMAFORO 260</td>\n",
       "      <td>COLISÃO</td>\n",
       "      <td>COLISÃO ENTRE AUTO E ONIBUS, ONIBUS EVADIU DO ...</td>\n",
       "      <td>1</td>\n",
       "      <td>0</td>\n",
       "      <td>0</td>\n",
       "      <td>0</td>\n",
       "      <td>0</td>\n",
       "      <td>1</td>\n",
       "      <td>0</td>\n",
       "      <td>0</td>\n",
       "      <td>0</td>\n",
       "      <td>0</td>\n",
       "      <td>0</td>\n",
       "      <td>2017</td>\n",
       "      <td>1</td>\n",
       "      <td>MANHA</td>\n",
       "      <td>1</td>\n",
       "      <td>0</td>\n",
       "      <td>1</td>\n",
       "      <td>11</td>\n",
       "    </tr>\n",
       "    <tr>\n",
       "      <td>1</td>\n",
       "      <td>SEM VÍTIMA</td>\n",
       "      <td>FINALIZADA</td>\n",
       "      <td>2017-01-01</td>\n",
       "      <td>05:32</td>\n",
       "      <td>SANTO AMARO</td>\n",
       "      <td>RUA BARROS BARRETO</td>\n",
       "      <td>PROX DO COLEGIO ESTACIO COIMBRA</td>\n",
       "      <td>CAPOTAMENTO</td>\n",
       "      <td>CARRO BATEU EM DOIS VEICULOS ESTACIONADOS E CA...</td>\n",
       "      <td>3</td>\n",
       "      <td>0</td>\n",
       "      <td>0</td>\n",
       "      <td>0</td>\n",
       "      <td>0</td>\n",
       "      <td>0</td>\n",
       "      <td>0</td>\n",
       "      <td>0</td>\n",
       "      <td>0</td>\n",
       "      <td>0</td>\n",
       "      <td>0</td>\n",
       "      <td>2017</td>\n",
       "      <td>1</td>\n",
       "      <td>MANHA</td>\n",
       "      <td>1</td>\n",
       "      <td>6</td>\n",
       "      <td>1</td>\n",
       "      <td>6</td>\n",
       "    </tr>\n",
       "  </tbody>\n",
       "</table>\n",
       "</div>"
      ],
      "text/plain": [
       "         tipo    situacao        data   hora       bairro            endereco  \\\n",
       "0  SEM VÍTIMA   CANCELADA  2017-01-01  02:55      CABANGA              AV SUL   \n",
       "1  SEM VÍTIMA  FINALIZADA  2017-01-01  05:32  SANTO AMARO  RUA BARROS BARRETO   \n",
       "\n",
       "                       complemento     natureza  \\\n",
       "0                     SEMAFORO 260      COLISÃO   \n",
       "1  PROX DO COLEGIO ESTACIO COIMBRA  CAPOTAMENTO   \n",
       "\n",
       "                                           descricao  auto  moto  ciclom  \\\n",
       "0  COLISÃO ENTRE AUTO E ONIBUS, ONIBUS EVADIU DO ...     1     0       0   \n",
       "1  CARRO BATEU EM DOIS VEICULOS ESTACIONADOS E CA...     3     0       0   \n",
       "\n",
       "   ciclista  pedestre  onibus  caminhao  viatura  outros  vitimas  \\\n",
       "0         0         0       1         0        0       0        0   \n",
       "1         0         0       0         0        0       0        0   \n",
       "\n",
       "   vitimasfatais   ano  mes periodo  tipo_cat  situacao_cat  periodo_cat  \\\n",
       "0              0  2017    1   MANHA         1             0            1   \n",
       "1              0  2017    1   MANHA         1             6            1   \n",
       "\n",
       "   natureza_cat  \n",
       "0            11  \n",
       "1             6  "
      ]
     },
     "execution_count": 60,
     "metadata": {},
     "output_type": "execute_result"
    }
   ],
   "source": [
    "dataset2.head(2)"
   ]
  },
  {
   "cell_type": "code",
   "execution_count": 61,
   "metadata": {},
   "outputs": [
    {
     "data": {
      "image/png": "[encoded data removed]",
      "text/plain": [
       "<Figure size 1112.25x288 with 5 Axes>"
      ]
     },
     "metadata": {
      "needs_background": "light"
     },
     "output_type": "display_data"
    }
   ],
   "source": [
    "# Representação entre vitimas, tipo e periodo\n",
    "sns.catplot(x=\"vitimas\", hue=\"tipo\", col=\"periodo\",\n",
    "                 data=dataset2, kind=\"count\",\n",
    "                 height=4, aspect=.7);"
   ]
  },
  {
   "cell_type": "code",
   "execution_count": 62,
   "metadata": {},
   "outputs": [
    {
     "data": {
      "image/png": "[encoded data removed]",
      "text/plain": [
       "<Figure size 1112.25x288 with 5 Axes>"
      ]
     },
     "metadata": {
      "needs_background": "light"
     },
     "output_type": "display_data"
    }
   ],
   "source": [
    "# Representação entre vitimasfatais, tipo e periodo\n",
    "sns.catplot(x=\"vitimasfatais\", hue=\"tipo\", col=\"periodo\",\n",
    "                 data=dataset2, kind=\"count\",\n",
    "                 height=4, aspect=.7);"
   ]
  },
  {
   "cell_type": "code",
   "execution_count": 63,
   "metadata": {},
   "outputs": [
    {
     "data": {
      "image/png": "[encoded data removed]",
      "text/plain": [
       "<Figure size 781.8x288 with 3 Axes>"
      ]
     },
     "metadata": {
      "needs_background": "light"
     },
     "output_type": "display_data"
    }
   ],
   "source": [
    "# Representação entre vitimasfatais, situacao e periodo\n",
    "sns.catplot(x=\"vitimasfatais\", hue=\"situacao\", col=\"tipo\",\n",
    "                 data=dataset, kind=\"count\",\n",
    "                 height=4, aspect=.7);"
   ]
  },
  {
   "cell_type": "code",
   "execution_count": 64,
   "metadata": {},
   "outputs": [
    {
     "data": {
      "image/png": "[encoded data removed]",
      "text/plain": [
       "<Figure size 360x360 with 1 Axes>"
      ]
     },
     "metadata": {
      "needs_background": "light"
     },
     "output_type": "display_data"
    }
   ],
   "source": [
    "sns.catplot(x=\"tipo_cat\", y=\"situacao\", kind=\"box\", data=dataset2);"
   ]
  },
  {
   "cell_type": "code",
   "execution_count": 65,
   "metadata": {},
   "outputs": [
    {
     "data": {
      "image/png": "[encoded data removed]",
      "text/plain": [
       "<Figure size 360x360 with 1 Axes>"
      ]
     },
     "metadata": {
      "needs_background": "light"
     },
     "output_type": "display_data"
    }
   ],
   "source": [
    "sns.catplot(x=\"periodo_cat\", y=\"natureza\", kind=\"box\", data=dataset2);"
   ]
  },
  {
   "cell_type": "code",
   "execution_count": 66,
   "metadata": {},
   "outputs": [
    {
     "data": {
      "image/png": "[encoded data removed]",
      "text/plain": [
       "<Figure size 360x360 with 1 Axes>"
      ]
     },
     "metadata": {
      "needs_background": "light"
     },
     "output_type": "display_data"
    }
   ],
   "source": [
    "sns.catplot(x=\"vitimas\", y=\"natureza\", kind=\"box\", data=dataset2);"
   ]
  },
  {
   "cell_type": "code",
   "execution_count": 67,
   "metadata": {},
   "outputs": [
    {
     "data": {
      "image/png": "[encoded data removed]",
      "text/plain": [
       "<Figure size 432x288 with 1 Axes>"
      ]
     },
     "metadata": {
      "needs_background": "light"
     },
     "output_type": "display_data"
    }
   ],
   "source": [
    "sns.scatterplot(x=dataset2['periodo_cat'], y=dataset2['vitimas']);"
   ]
  },
  {
   "cell_type": "code",
   "execution_count": 68,
   "metadata": {},
   "outputs": [
    {
     "data": {
      "image/png": "[encoded data removed]",
      "text/plain": [
       "<Figure size 360x216 with 1 Axes>"
      ]
     },
     "metadata": {
      "needs_background": "light"
     },
     "output_type": "display_data"
    }
   ],
   "source": [
    "ax = plt.figure(figsize=(5, 3))\n",
    "sns.boxplot(x='tipo', y='vitimas', data=dataset2)\n",
    "ax = ax"
   ]
  },
  {
   "cell_type": "code",
   "execution_count": 69,
   "metadata": {},
   "outputs": [
    {
     "data": {
      "image/png": "[encoded data removed]",
      "text/plain": [
       "<Figure size 360x360 with 1 Axes>"
      ]
     },
     "metadata": {
      "needs_background": "light"
     },
     "output_type": "display_data"
    }
   ],
   "source": [
    "sns.catplot(x=\"auto\", y=\"tipo\", kind=\"box\", data=dataset2);"
   ]
  },
  {
   "cell_type": "code",
   "execution_count": 70,
   "metadata": {},
   "outputs": [
    {
     "data": {
      "image/png": "[encoded data removed]",
      "text/plain": [
       "<Figure size 360x216 with 1 Axes>"
      ]
     },
     "metadata": {
      "needs_background": "light"
     },
     "output_type": "display_data"
    }
   ],
   "source": [
    "ax = plt.figure(figsize=(5, 3))\n",
    "ax = plt.title(\"Dsss\")\n",
    "sns.boxplot(x='tipo', y='vitimas', data=dataset2)\n",
    "ax = ax"
   ]
  },
  {
   "cell_type": "code",
   "execution_count": 71,
   "metadata": {},
   "outputs": [
    {
     "data": {
      "text/plain": [
       "<matplotlib.axes._subplots.AxesSubplot at 0x1a1743f9d0>"
      ]
     },
     "execution_count": 71,
     "metadata": {},
     "output_type": "execute_result"
    },
    {
     "data": {
      "image/png": "[encoded data removed]",
      "text/plain": [
       "<Figure size 432x288 with 1 Axes>"
      ]
     },
     "metadata": {
      "needs_background": "light"
     },
     "output_type": "display_data"
    }
   ],
   "source": [
    "dataset2.plot.scatter(x='natureza_cat',y='vitimas')"
   ]
  },
  {
   "cell_type": "code",
   "execution_count": 72,
   "metadata": {},
   "outputs": [
    {
     "data": {
      "text/plain": [
       "<matplotlib.axes._subplots.AxesSubplot at 0x1a1748d0d0>"
      ]
     },
     "execution_count": 72,
     "metadata": {},
     "output_type": "execute_result"
    },
    {
     "data": {
      "image/png": "[encoded data removed]",
      "text/plain": [
       "<Figure size 432x288 with 1 Axes>"
      ]
     },
     "metadata": {
      "needs_background": "light"
     },
     "output_type": "display_data"
    }
   ],
   "source": [
    "dataset2.plot.scatter(x='vitimas',y='vitimasfatais')"
   ]
  },
  {
   "cell_type": "markdown",
   "metadata": {},
   "source": [
    "## <a id='5'> Normalização</a>   "
   ]
  },
  {
   "cell_type": "code",
   "execution_count": 73,
   "metadata": {},
   "outputs": [
    {
     "data": {
      "text/plain": [
       "count    23112.000000\n",
       "mean         0.008960\n",
       "std          0.022373\n",
       "min          0.000000\n",
       "25%          0.000000\n",
       "50%          0.000000\n",
       "75%          0.000000\n",
       "max          1.000000\n",
       "Name: teste, dtype: float64"
      ]
     },
     "execution_count": 73,
     "metadata": {},
     "output_type": "execute_result"
    }
   ],
   "source": [
    "from sklearn.preprocessing import StandardScaler, MinMaxScaler\n",
    "scaler = MinMaxScaler()\n",
    "dataset2['teste'] = scaler.fit_transform(dataset2[['vitimas']])\n",
    "dataset2['teste'].describe()"
   ]
  },
  {
   "cell_type": "markdown",
   "metadata": {},
   "source": [
    "## <a id='6'> Covariância</a>   "
   ]
  },
  {
   "cell_type": "code",
   "execution_count": 74,
   "metadata": {},
   "outputs": [
    {
     "data": {
      "text/html": [
       "<div>\n",
       "<style scoped>\n",
       "    .dataframe tbody tr th:only-of-type {\n",
       "        vertical-align: middle;\n",
       "    }\n",
       "\n",
       "    .dataframe tbody tr th {\n",
       "        vertical-align: top;\n",
       "    }\n",
       "\n",
       "    .dataframe thead th {\n",
       "        text-align: right;\n",
       "    }\n",
       "</style>\n",
       "<table border=\"1\" class=\"dataframe\">\n",
       "  <thead>\n",
       "    <tr style=\"text-align: right;\">\n",
       "      <th></th>\n",
       "      <th>auto</th>\n",
       "      <th>moto</th>\n",
       "      <th>ciclom</th>\n",
       "      <th>ciclista</th>\n",
       "      <th>pedestre</th>\n",
       "      <th>onibus</th>\n",
       "      <th>caminhao</th>\n",
       "      <th>viatura</th>\n",
       "      <th>outros</th>\n",
       "      <th>vitimas</th>\n",
       "      <th>vitimasfatais</th>\n",
       "      <th>ano</th>\n",
       "      <th>mes</th>\n",
       "    </tr>\n",
       "  </thead>\n",
       "  <tbody>\n",
       "    <tr>\n",
       "      <td>auto</td>\n",
       "      <td>0.526650</td>\n",
       "      <td>-0.111518</td>\n",
       "      <td>-0.001387</td>\n",
       "      <td>-0.007014</td>\n",
       "      <td>-0.009393</td>\n",
       "      <td>-0.090427</td>\n",
       "      <td>-0.043262</td>\n",
       "      <td>-0.006668</td>\n",
       "      <td>-0.003207</td>\n",
       "      <td>-0.084183</td>\n",
       "      <td>-0.002208</td>\n",
       "      <td>0.013365</td>\n",
       "      <td>0.054750</td>\n",
       "    </tr>\n",
       "    <tr>\n",
       "      <td>moto</td>\n",
       "      <td>-0.111518</td>\n",
       "      <td>0.148344</td>\n",
       "      <td>-0.000454</td>\n",
       "      <td>-0.000093</td>\n",
       "      <td>-0.000263</td>\n",
       "      <td>-0.018689</td>\n",
       "      <td>-0.006705</td>\n",
       "      <td>-0.000093</td>\n",
       "      <td>-0.000330</td>\n",
       "      <td>0.077309</td>\n",
       "      <td>0.000986</td>\n",
       "      <td>0.002565</td>\n",
       "      <td>0.041539</td>\n",
       "    </tr>\n",
       "    <tr>\n",
       "      <td>ciclom</td>\n",
       "      <td>-0.001387</td>\n",
       "      <td>-0.000454</td>\n",
       "      <td>0.002759</td>\n",
       "      <td>-0.000025</td>\n",
       "      <td>-0.000028</td>\n",
       "      <td>-0.000021</td>\n",
       "      <td>-0.000171</td>\n",
       "      <td>-0.000025</td>\n",
       "      <td>-0.000017</td>\n",
       "      <td>0.000621</td>\n",
       "      <td>-0.000007</td>\n",
       "      <td>-0.000282</td>\n",
       "      <td>0.002081</td>\n",
       "    </tr>\n",
       "    <tr>\n",
       "      <td>ciclista</td>\n",
       "      <td>-0.007014</td>\n",
       "      <td>-0.000093</td>\n",
       "      <td>-0.000025</td>\n",
       "      <td>0.008910</td>\n",
       "      <td>-0.000090</td>\n",
       "      <td>-0.000502</td>\n",
       "      <td>-0.000556</td>\n",
       "      <td>-0.000081</td>\n",
       "      <td>-0.000056</td>\n",
       "      <td>0.006255</td>\n",
       "      <td>-0.000022</td>\n",
       "      <td>-0.000831</td>\n",
       "      <td>-0.008020</td>\n",
       "    </tr>\n",
       "    <tr>\n",
       "      <td>pedestre</td>\n",
       "      <td>-0.009393</td>\n",
       "      <td>-0.000263</td>\n",
       "      <td>-0.000028</td>\n",
       "      <td>-0.000090</td>\n",
       "      <td>0.009927</td>\n",
       "      <td>-0.000639</td>\n",
       "      <td>-0.000620</td>\n",
       "      <td>-0.000090</td>\n",
       "      <td>-0.000062</td>\n",
       "      <td>0.008174</td>\n",
       "      <td>0.000667</td>\n",
       "      <td>-0.000288</td>\n",
       "      <td>-0.007283</td>\n",
       "    </tr>\n",
       "    <tr>\n",
       "      <td>onibus</td>\n",
       "      <td>-0.090427</td>\n",
       "      <td>-0.018689</td>\n",
       "      <td>-0.000021</td>\n",
       "      <td>-0.000502</td>\n",
       "      <td>-0.000639</td>\n",
       "      <td>0.122071</td>\n",
       "      <td>-0.005795</td>\n",
       "      <td>-0.000848</td>\n",
       "      <td>-0.000135</td>\n",
       "      <td>-0.007517</td>\n",
       "      <td>-0.000321</td>\n",
       "      <td>-0.000060</td>\n",
       "      <td>-0.028765</td>\n",
       "    </tr>\n",
       "    <tr>\n",
       "      <td>caminhao</td>\n",
       "      <td>-0.043262</td>\n",
       "      <td>-0.006705</td>\n",
       "      <td>-0.000171</td>\n",
       "      <td>-0.000556</td>\n",
       "      <td>-0.000620</td>\n",
       "      <td>-0.005795</td>\n",
       "      <td>0.060140</td>\n",
       "      <td>-0.000556</td>\n",
       "      <td>0.000652</td>\n",
       "      <td>-0.005503</td>\n",
       "      <td>0.000196</td>\n",
       "      <td>0.001250</td>\n",
       "      <td>-0.001900</td>\n",
       "    </tr>\n",
       "    <tr>\n",
       "      <td>viatura</td>\n",
       "      <td>-0.006668</td>\n",
       "      <td>-0.000093</td>\n",
       "      <td>-0.000025</td>\n",
       "      <td>-0.000081</td>\n",
       "      <td>-0.000090</td>\n",
       "      <td>-0.000848</td>\n",
       "      <td>-0.000556</td>\n",
       "      <td>0.009601</td>\n",
       "      <td>-0.000056</td>\n",
       "      <td>0.001069</td>\n",
       "      <td>-0.000022</td>\n",
       "      <td>0.001590</td>\n",
       "      <td>0.004082</td>\n",
       "    </tr>\n",
       "    <tr>\n",
       "      <td>outros</td>\n",
       "      <td>-0.003207</td>\n",
       "      <td>-0.000330</td>\n",
       "      <td>-0.000017</td>\n",
       "      <td>-0.000056</td>\n",
       "      <td>-0.000062</td>\n",
       "      <td>-0.000135</td>\n",
       "      <td>0.000652</td>\n",
       "      <td>-0.000056</td>\n",
       "      <td>0.006185</td>\n",
       "      <td>-0.000244</td>\n",
       "      <td>-0.000015</td>\n",
       "      <td>0.000835</td>\n",
       "      <td>0.003730</td>\n",
       "    </tr>\n",
       "    <tr>\n",
       "      <td>vitimas</td>\n",
       "      <td>-0.084183</td>\n",
       "      <td>0.077309</td>\n",
       "      <td>0.000621</td>\n",
       "      <td>0.006255</td>\n",
       "      <td>0.008174</td>\n",
       "      <td>-0.007517</td>\n",
       "      <td>-0.005503</td>\n",
       "      <td>0.001069</td>\n",
       "      <td>-0.000244</td>\n",
       "      <td>0.190039</td>\n",
       "      <td>-0.000018</td>\n",
       "      <td>0.005359</td>\n",
       "      <td>0.049808</td>\n",
       "    </tr>\n",
       "    <tr>\n",
       "      <td>vitimasfatais</td>\n",
       "      <td>-0.002208</td>\n",
       "      <td>0.000986</td>\n",
       "      <td>-0.000007</td>\n",
       "      <td>-0.000022</td>\n",
       "      <td>0.000667</td>\n",
       "      <td>-0.000321</td>\n",
       "      <td>0.000196</td>\n",
       "      <td>-0.000022</td>\n",
       "      <td>-0.000015</td>\n",
       "      <td>-0.000018</td>\n",
       "      <td>0.002415</td>\n",
       "      <td>-0.000117</td>\n",
       "      <td>-0.000125</td>\n",
       "    </tr>\n",
       "    <tr>\n",
       "      <td>ano</td>\n",
       "      <td>0.013365</td>\n",
       "      <td>0.002565</td>\n",
       "      <td>-0.000282</td>\n",
       "      <td>-0.000831</td>\n",
       "      <td>-0.000288</td>\n",
       "      <td>-0.000060</td>\n",
       "      <td>0.001250</td>\n",
       "      <td>0.001590</td>\n",
       "      <td>0.000835</td>\n",
       "      <td>0.005359</td>\n",
       "      <td>-0.000117</td>\n",
       "      <td>0.249558</td>\n",
       "      <td>-0.006424</td>\n",
       "    </tr>\n",
       "    <tr>\n",
       "      <td>mes</td>\n",
       "      <td>0.054750</td>\n",
       "      <td>0.041539</td>\n",
       "      <td>0.002081</td>\n",
       "      <td>-0.008020</td>\n",
       "      <td>-0.007283</td>\n",
       "      <td>-0.028765</td>\n",
       "      <td>-0.001900</td>\n",
       "      <td>0.004082</td>\n",
       "      <td>0.003730</td>\n",
       "      <td>0.049808</td>\n",
       "      <td>-0.000125</td>\n",
       "      <td>-0.006424</td>\n",
       "      <td>11.946599</td>\n",
       "    </tr>\n",
       "  </tbody>\n",
       "</table>\n",
       "</div>"
      ],
      "text/plain": [
       "                   auto      moto    ciclom  ciclista  pedestre    onibus  \\\n",
       "auto           0.526650 -0.111518 -0.001387 -0.007014 -0.009393 -0.090427   \n",
       "moto          -0.111518  0.148344 -0.000454 -0.000093 -0.000263 -0.018689   \n",
       "ciclom        -0.001387 -0.000454  0.002759 -0.000025 -0.000028 -0.000021   \n",
       "ciclista      -0.007014 -0.000093 -0.000025  0.008910 -0.000090 -0.000502   \n",
       "pedestre      -0.009393 -0.000263 -0.000028 -0.000090  0.009927 -0.000639   \n",
       "onibus        -0.090427 -0.018689 -0.000021 -0.000502 -0.000639  0.122071   \n",
       "caminhao      -0.043262 -0.006705 -0.000171 -0.000556 -0.000620 -0.005795   \n",
       "viatura       -0.006668 -0.000093 -0.000025 -0.000081 -0.000090 -0.000848   \n",
       "outros        -0.003207 -0.000330 -0.000017 -0.000056 -0.000062 -0.000135   \n",
       "vitimas       -0.084183  0.077309  0.000621  0.006255  0.008174 -0.007517   \n",
       "vitimasfatais -0.002208  0.000986 -0.000007 -0.000022  0.000667 -0.000321   \n",
       "ano            0.013365  0.002565 -0.000282 -0.000831 -0.000288 -0.000060   \n",
       "mes            0.054750  0.041539  0.002081 -0.008020 -0.007283 -0.028765   \n",
       "\n",
       "               caminhao   viatura    outros   vitimas  vitimasfatais  \\\n",
       "auto          -0.043262 -0.006668 -0.003207 -0.084183      -0.002208   \n",
       "moto          -0.006705 -0.000093 -0.000330  0.077309       0.000986   \n",
       "ciclom        -0.000171 -0.000025 -0.000017  0.000621      -0.000007   \n",
       "ciclista      -0.000556 -0.000081 -0.000056  0.006255      -0.000022   \n",
       "pedestre      -0.000620 -0.000090 -0.000062  0.008174       0.000667   \n",
       "onibus        -0.005795 -0.000848 -0.000135 -0.007517      -0.000321   \n",
       "caminhao       0.060140 -0.000556  0.000652 -0.005503       0.000196   \n",
       "viatura       -0.000556  0.009601 -0.000056  0.001069      -0.000022   \n",
       "outros         0.000652 -0.000056  0.006185 -0.000244      -0.000015   \n",
       "vitimas       -0.005503  0.001069 -0.000244  0.190039      -0.000018   \n",
       "vitimasfatais  0.000196 -0.000022 -0.000015 -0.000018       0.002415   \n",
       "ano            0.001250  0.001590  0.000835  0.005359      -0.000117   \n",
       "mes           -0.001900  0.004082  0.003730  0.049808      -0.000125   \n",
       "\n",
       "                    ano        mes  \n",
       "auto           0.013365   0.054750  \n",
       "moto           0.002565   0.041539  \n",
       "ciclom        -0.000282   0.002081  \n",
       "ciclista      -0.000831  -0.008020  \n",
       "pedestre      -0.000288  -0.007283  \n",
       "onibus        -0.000060  -0.028765  \n",
       "caminhao       0.001250  -0.001900  \n",
       "viatura        0.001590   0.004082  \n",
       "outros         0.000835   0.003730  \n",
       "vitimas        0.005359   0.049808  \n",
       "vitimasfatais -0.000117  -0.000125  \n",
       "ano            0.249558  -0.006424  \n",
       "mes           -0.006424  11.946599  "
      ]
     },
     "execution_count": 74,
     "metadata": {},
     "output_type": "execute_result"
    }
   ],
   "source": [
    "dataset[(dataset.bairro=='BOA VIAGEM')].cov()"
   ]
  },
  {
   "cell_type": "code",
   "execution_count": 75,
   "metadata": {},
   "outputs": [
    {
     "data": {
      "text/html": [
       "<div>\n",
       "<style scoped>\n",
       "    .dataframe tbody tr th:only-of-type {\n",
       "        vertical-align: middle;\n",
       "    }\n",
       "\n",
       "    .dataframe tbody tr th {\n",
       "        vertical-align: top;\n",
       "    }\n",
       "\n",
       "    .dataframe thead th {\n",
       "        text-align: right;\n",
       "    }\n",
       "</style>\n",
       "<table border=\"1\" class=\"dataframe\">\n",
       "  <thead>\n",
       "    <tr style=\"text-align: right;\">\n",
       "      <th></th>\n",
       "      <th>auto</th>\n",
       "      <th>moto</th>\n",
       "      <th>ciclom</th>\n",
       "      <th>ciclista</th>\n",
       "      <th>pedestre</th>\n",
       "      <th>onibus</th>\n",
       "      <th>caminhao</th>\n",
       "      <th>viatura</th>\n",
       "      <th>outros</th>\n",
       "      <th>vitimas</th>\n",
       "      <th>vitimasfatais</th>\n",
       "      <th>ano</th>\n",
       "      <th>mes</th>\n",
       "    </tr>\n",
       "  </thead>\n",
       "  <tbody>\n",
       "    <tr>\n",
       "      <td>auto</td>\n",
       "      <td>0.510286</td>\n",
       "      <td>-0.109979</td>\n",
       "      <td>-0.004505</td>\n",
       "      <td>-0.005914</td>\n",
       "      <td>-0.015487</td>\n",
       "      <td>-0.101107</td>\n",
       "      <td>-0.029572</td>\n",
       "      <td>-0.015064</td>\n",
       "      <td>-0.007462</td>\n",
       "      <td>-0.070856</td>\n",
       "      <td>-0.000986</td>\n",
       "      <td>0.006269</td>\n",
       "      <td>0.092673</td>\n",
       "    </tr>\n",
       "    <tr>\n",
       "      <td>moto</td>\n",
       "      <td>-0.109979</td>\n",
       "      <td>0.159904</td>\n",
       "      <td>-0.000790</td>\n",
       "      <td>-0.000031</td>\n",
       "      <td>-0.001347</td>\n",
       "      <td>-0.023485</td>\n",
       "      <td>-0.007895</td>\n",
       "      <td>0.000727</td>\n",
       "      <td>-0.000031</td>\n",
       "      <td>0.079935</td>\n",
       "      <td>-0.000263</td>\n",
       "      <td>0.002500</td>\n",
       "      <td>0.032077</td>\n",
       "    </tr>\n",
       "    <tr>\n",
       "      <td>ciclom</td>\n",
       "      <td>-0.004505</td>\n",
       "      <td>-0.000790</td>\n",
       "      <td>0.004622</td>\n",
       "      <td>-0.000043</td>\n",
       "      <td>-0.000079</td>\n",
       "      <td>0.000823</td>\n",
       "      <td>-0.000215</td>\n",
       "      <td>-0.000065</td>\n",
       "      <td>-0.000043</td>\n",
       "      <td>0.000773</td>\n",
       "      <td>-0.000007</td>\n",
       "      <td>0.000842</td>\n",
       "      <td>0.007025</td>\n",
       "    </tr>\n",
       "    <tr>\n",
       "      <td>ciclista</td>\n",
       "      <td>-0.005914</td>\n",
       "      <td>-0.000031</td>\n",
       "      <td>-0.000043</td>\n",
       "      <td>0.009202</td>\n",
       "      <td>-0.000158</td>\n",
       "      <td>-0.001450</td>\n",
       "      <td>-0.000431</td>\n",
       "      <td>-0.000129</td>\n",
       "      <td>-0.000086</td>\n",
       "      <td>0.006190</td>\n",
       "      <td>-0.000014</td>\n",
       "      <td>-0.001412</td>\n",
       "      <td>0.004761</td>\n",
       "    </tr>\n",
       "    <tr>\n",
       "      <td>pedestre</td>\n",
       "      <td>-0.015487</td>\n",
       "      <td>-0.001347</td>\n",
       "      <td>-0.000079</td>\n",
       "      <td>-0.000158</td>\n",
       "      <td>0.016738</td>\n",
       "      <td>-0.001110</td>\n",
       "      <td>-0.000790</td>\n",
       "      <td>-0.000237</td>\n",
       "      <td>-0.000158</td>\n",
       "      <td>0.012638</td>\n",
       "      <td>0.001522</td>\n",
       "      <td>-0.002072</td>\n",
       "      <td>-0.035647</td>\n",
       "    </tr>\n",
       "    <tr>\n",
       "      <td>onibus</td>\n",
       "      <td>-0.101107</td>\n",
       "      <td>-0.023485</td>\n",
       "      <td>0.000823</td>\n",
       "      <td>-0.001450</td>\n",
       "      <td>-0.001110</td>\n",
       "      <td>0.141228</td>\n",
       "      <td>-0.007249</td>\n",
       "      <td>-0.002175</td>\n",
       "      <td>-0.001450</td>\n",
       "      <td>-0.019906</td>\n",
       "      <td>-0.000242</td>\n",
       "      <td>0.003070</td>\n",
       "      <td>0.001715</td>\n",
       "    </tr>\n",
       "    <tr>\n",
       "      <td>caminhao</td>\n",
       "      <td>-0.029572</td>\n",
       "      <td>-0.007895</td>\n",
       "      <td>-0.000215</td>\n",
       "      <td>-0.000431</td>\n",
       "      <td>-0.000790</td>\n",
       "      <td>-0.007249</td>\n",
       "      <td>0.044286</td>\n",
       "      <td>-0.000646</td>\n",
       "      <td>0.001117</td>\n",
       "      <td>-0.007752</td>\n",
       "      <td>-0.000072</td>\n",
       "      <td>0.000682</td>\n",
       "      <td>-0.024182</td>\n",
       "    </tr>\n",
       "    <tr>\n",
       "      <td>viatura</td>\n",
       "      <td>-0.015064</td>\n",
       "      <td>0.000727</td>\n",
       "      <td>-0.000065</td>\n",
       "      <td>-0.000129</td>\n",
       "      <td>-0.000237</td>\n",
       "      <td>-0.002175</td>\n",
       "      <td>-0.000646</td>\n",
       "      <td>0.016834</td>\n",
       "      <td>-0.000129</td>\n",
       "      <td>-0.002326</td>\n",
       "      <td>-0.000022</td>\n",
       "      <td>-0.000569</td>\n",
       "      <td>-0.008338</td>\n",
       "    </tr>\n",
       "    <tr>\n",
       "      <td>outros</td>\n",
       "      <td>-0.007462</td>\n",
       "      <td>-0.000031</td>\n",
       "      <td>-0.000043</td>\n",
       "      <td>-0.000086</td>\n",
       "      <td>-0.000158</td>\n",
       "      <td>-0.001450</td>\n",
       "      <td>0.001117</td>\n",
       "      <td>-0.000129</td>\n",
       "      <td>0.009202</td>\n",
       "      <td>-0.000002</td>\n",
       "      <td>-0.000014</td>\n",
       "      <td>0.000136</td>\n",
       "      <td>0.031077</td>\n",
       "    </tr>\n",
       "    <tr>\n",
       "      <td>vitimas</td>\n",
       "      <td>-0.070856</td>\n",
       "      <td>0.079935</td>\n",
       "      <td>0.000773</td>\n",
       "      <td>0.006190</td>\n",
       "      <td>0.012638</td>\n",
       "      <td>-0.019906</td>\n",
       "      <td>-0.007752</td>\n",
       "      <td>-0.002326</td>\n",
       "      <td>-0.000002</td>\n",
       "      <td>0.225963</td>\n",
       "      <td>-0.000258</td>\n",
       "      <td>0.007099</td>\n",
       "      <td>0.022234</td>\n",
       "    </tr>\n",
       "    <tr>\n",
       "      <td>vitimasfatais</td>\n",
       "      <td>-0.000986</td>\n",
       "      <td>-0.000263</td>\n",
       "      <td>-0.000007</td>\n",
       "      <td>-0.000014</td>\n",
       "      <td>0.001522</td>\n",
       "      <td>-0.000242</td>\n",
       "      <td>-0.000072</td>\n",
       "      <td>-0.000022</td>\n",
       "      <td>-0.000014</td>\n",
       "      <td>-0.000258</td>\n",
       "      <td>0.001546</td>\n",
       "      <td>-0.000751</td>\n",
       "      <td>0.001826</td>\n",
       "    </tr>\n",
       "    <tr>\n",
       "      <td>ano</td>\n",
       "      <td>0.006269</td>\n",
       "      <td>0.002500</td>\n",
       "      <td>0.000842</td>\n",
       "      <td>-0.001412</td>\n",
       "      <td>-0.002072</td>\n",
       "      <td>0.003070</td>\n",
       "      <td>0.000682</td>\n",
       "      <td>-0.000569</td>\n",
       "      <td>0.000136</td>\n",
       "      <td>0.007099</td>\n",
       "      <td>-0.000751</td>\n",
       "      <td>0.250171</td>\n",
       "      <td>0.000459</td>\n",
       "    </tr>\n",
       "    <tr>\n",
       "      <td>mes</td>\n",
       "      <td>0.092673</td>\n",
       "      <td>0.032077</td>\n",
       "      <td>0.007025</td>\n",
       "      <td>0.004761</td>\n",
       "      <td>-0.035647</td>\n",
       "      <td>0.001715</td>\n",
       "      <td>-0.024182</td>\n",
       "      <td>-0.008338</td>\n",
       "      <td>0.031077</td>\n",
       "      <td>0.022234</td>\n",
       "      <td>0.001826</td>\n",
       "      <td>0.000459</td>\n",
       "      <td>11.905886</td>\n",
       "    </tr>\n",
       "  </tbody>\n",
       "</table>\n",
       "</div>"
      ],
      "text/plain": [
       "                   auto      moto    ciclom  ciclista  pedestre    onibus  \\\n",
       "auto           0.510286 -0.109979 -0.004505 -0.005914 -0.015487 -0.101107   \n",
       "moto          -0.109979  0.159904 -0.000790 -0.000031 -0.001347 -0.023485   \n",
       "ciclom        -0.004505 -0.000790  0.004622 -0.000043 -0.000079  0.000823   \n",
       "ciclista      -0.005914 -0.000031 -0.000043  0.009202 -0.000158 -0.001450   \n",
       "pedestre      -0.015487 -0.001347 -0.000079 -0.000158  0.016738 -0.001110   \n",
       "onibus        -0.101107 -0.023485  0.000823 -0.001450 -0.001110  0.141228   \n",
       "caminhao      -0.029572 -0.007895 -0.000215 -0.000431 -0.000790 -0.007249   \n",
       "viatura       -0.015064  0.000727 -0.000065 -0.000129 -0.000237 -0.002175   \n",
       "outros        -0.007462 -0.000031 -0.000043 -0.000086 -0.000158 -0.001450   \n",
       "vitimas       -0.070856  0.079935  0.000773  0.006190  0.012638 -0.019906   \n",
       "vitimasfatais -0.000986 -0.000263 -0.000007 -0.000014  0.001522 -0.000242   \n",
       "ano            0.006269  0.002500  0.000842 -0.001412 -0.002072  0.003070   \n",
       "mes            0.092673  0.032077  0.007025  0.004761 -0.035647  0.001715   \n",
       "\n",
       "               caminhao   viatura    outros   vitimas  vitimasfatais  \\\n",
       "auto          -0.029572 -0.015064 -0.007462 -0.070856      -0.000986   \n",
       "moto          -0.007895  0.000727 -0.000031  0.079935      -0.000263   \n",
       "ciclom        -0.000215 -0.000065 -0.000043  0.000773      -0.000007   \n",
       "ciclista      -0.000431 -0.000129 -0.000086  0.006190      -0.000014   \n",
       "pedestre      -0.000790 -0.000237 -0.000158  0.012638       0.001522   \n",
       "onibus        -0.007249 -0.002175 -0.001450 -0.019906      -0.000242   \n",
       "caminhao       0.044286 -0.000646  0.001117 -0.007752      -0.000072   \n",
       "viatura       -0.000646  0.016834 -0.000129 -0.002326      -0.000022   \n",
       "outros         0.001117 -0.000129  0.009202 -0.000002      -0.000014   \n",
       "vitimas       -0.007752 -0.002326 -0.000002  0.225963      -0.000258   \n",
       "vitimasfatais -0.000072 -0.000022 -0.000014 -0.000258       0.001546   \n",
       "ano            0.000682 -0.000569  0.000136  0.007099      -0.000751   \n",
       "mes           -0.024182 -0.008338  0.031077  0.022234       0.001826   \n",
       "\n",
       "                    ano        mes  \n",
       "auto           0.006269   0.092673  \n",
       "moto           0.002500   0.032077  \n",
       "ciclom         0.000842   0.007025  \n",
       "ciclista      -0.001412   0.004761  \n",
       "pedestre      -0.002072  -0.035647  \n",
       "onibus         0.003070   0.001715  \n",
       "caminhao       0.000682  -0.024182  \n",
       "viatura       -0.000569  -0.008338  \n",
       "outros         0.000136   0.031077  \n",
       "vitimas        0.007099   0.022234  \n",
       "vitimasfatais -0.000751   0.001826  \n",
       "ano            0.250171   0.000459  \n",
       "mes            0.000459  11.905886  "
      ]
     },
     "execution_count": 75,
     "metadata": {},
     "output_type": "execute_result"
    }
   ],
   "source": [
    "dataset[(dataset['bairro'] == 'BOA VIAGEM') & (dataset['periodo']=='MADRUGADA')].cov()"
   ]
  },
  {
   "cell_type": "markdown",
   "metadata": {},
   "source": [
    "## <a id='7'> Correlação</a>   "
   ]
  },
  {
   "cell_type": "code",
   "execution_count": 76,
   "metadata": {},
   "outputs": [
    {
     "data": {
      "text/plain": [
       "<matplotlib.axes._subplots.AxesSubplot at 0x1a17235b10>"
      ]
     },
     "execution_count": 76,
     "metadata": {},
     "output_type": "execute_result"
    },
    {
     "data": {
      "image/png": "[encoded data removed]",
      "text/plain": [
       "<Figure size 720x576 with 2 Axes>"
      ]
     },
     "metadata": {
      "needs_background": "light"
     },
     "output_type": "display_data"
    }
   ],
   "source": [
    "f, ax = plt.subplots(figsize=(10, 8))\n",
    "corr = dataset.corr()\n",
    "sns.heatmap(corr, mask=np.zeros_like(corr, dtype=np.bool), cmap=sns.diverging_palette(220, 10, as_cmap=True),\n",
    "            square=True, ax=ax)"
   ]
  },
  {
   "cell_type": "markdown",
   "metadata": {},
   "source": [
    "### <a id='71'> Correlação de Pearson</a>   "
   ]
  },
  {
   "cell_type": "code",
   "execution_count": 77,
   "metadata": {},
   "outputs": [
    {
     "data": {
      "text/html": [
       "<div>\n",
       "<style scoped>\n",
       "    .dataframe tbody tr th:only-of-type {\n",
       "        vertical-align: middle;\n",
       "    }\n",
       "\n",
       "    .dataframe tbody tr th {\n",
       "        vertical-align: top;\n",
       "    }\n",
       "\n",
       "    .dataframe thead th {\n",
       "        text-align: right;\n",
       "    }\n",
       "</style>\n",
       "<table border=\"1\" class=\"dataframe\">\n",
       "  <thead>\n",
       "    <tr style=\"text-align: right;\">\n",
       "      <th></th>\n",
       "      <th>auto</th>\n",
       "      <th>moto</th>\n",
       "      <th>ciclom</th>\n",
       "      <th>ciclista</th>\n",
       "      <th>pedestre</th>\n",
       "      <th>onibus</th>\n",
       "      <th>caminhao</th>\n",
       "      <th>viatura</th>\n",
       "      <th>outros</th>\n",
       "      <th>vitimas</th>\n",
       "      <th>vitimasfatais</th>\n",
       "      <th>ano</th>\n",
       "      <th>mes</th>\n",
       "    </tr>\n",
       "  </thead>\n",
       "  <tbody>\n",
       "    <tr>\n",
       "      <td>auto</td>\n",
       "      <td>1.000000</td>\n",
       "      <td>-0.385010</td>\n",
       "      <td>-0.092762</td>\n",
       "      <td>-0.086312</td>\n",
       "      <td>-0.167574</td>\n",
       "      <td>-0.376630</td>\n",
       "      <td>-0.196716</td>\n",
       "      <td>-0.162527</td>\n",
       "      <td>-0.108902</td>\n",
       "      <td>-0.208665</td>\n",
       "      <td>-0.035100</td>\n",
       "      <td>0.017544</td>\n",
       "      <td>0.037598</td>\n",
       "    </tr>\n",
       "    <tr>\n",
       "      <td>moto</td>\n",
       "      <td>-0.385010</td>\n",
       "      <td>1.000000</td>\n",
       "      <td>-0.029041</td>\n",
       "      <td>-0.000811</td>\n",
       "      <td>-0.026037</td>\n",
       "      <td>-0.156281</td>\n",
       "      <td>-0.093824</td>\n",
       "      <td>0.014019</td>\n",
       "      <td>-0.000811</td>\n",
       "      <td>0.420524</td>\n",
       "      <td>-0.016741</td>\n",
       "      <td>0.012501</td>\n",
       "      <td>0.023248</td>\n",
       "    </tr>\n",
       "    <tr>\n",
       "      <td>ciclom</td>\n",
       "      <td>-0.092762</td>\n",
       "      <td>-0.029041</td>\n",
       "      <td>1.000000</td>\n",
       "      <td>-0.006603</td>\n",
       "      <td>-0.008976</td>\n",
       "      <td>0.032213</td>\n",
       "      <td>-0.015050</td>\n",
       "      <td>-0.007323</td>\n",
       "      <td>-0.006603</td>\n",
       "      <td>0.023912</td>\n",
       "      <td>-0.002685</td>\n",
       "      <td>0.024766</td>\n",
       "      <td>0.029944</td>\n",
       "    </tr>\n",
       "    <tr>\n",
       "      <td>ciclista</td>\n",
       "      <td>-0.086312</td>\n",
       "      <td>-0.000811</td>\n",
       "      <td>-0.006603</td>\n",
       "      <td>1.000000</td>\n",
       "      <td>-0.012724</td>\n",
       "      <td>-0.040220</td>\n",
       "      <td>-0.021334</td>\n",
       "      <td>-0.010381</td>\n",
       "      <td>-0.009360</td>\n",
       "      <td>0.135739</td>\n",
       "      <td>-0.003807</td>\n",
       "      <td>-0.029421</td>\n",
       "      <td>0.014385</td>\n",
       "    </tr>\n",
       "    <tr>\n",
       "      <td>pedestre</td>\n",
       "      <td>-0.167574</td>\n",
       "      <td>-0.026037</td>\n",
       "      <td>-0.008976</td>\n",
       "      <td>-0.012724</td>\n",
       "      <td>1.000000</td>\n",
       "      <td>-0.022833</td>\n",
       "      <td>-0.028999</td>\n",
       "      <td>-0.014111</td>\n",
       "      <td>-0.012724</td>\n",
       "      <td>0.205488</td>\n",
       "      <td>0.299169</td>\n",
       "      <td>-0.032019</td>\n",
       "      <td>-0.079851</td>\n",
       "    </tr>\n",
       "    <tr>\n",
       "      <td>onibus</td>\n",
       "      <td>-0.376630</td>\n",
       "      <td>-0.156281</td>\n",
       "      <td>0.032213</td>\n",
       "      <td>-0.040220</td>\n",
       "      <td>-0.022833</td>\n",
       "      <td>1.000000</td>\n",
       "      <td>-0.091666</td>\n",
       "      <td>-0.044604</td>\n",
       "      <td>-0.040220</td>\n",
       "      <td>-0.111431</td>\n",
       "      <td>-0.016356</td>\n",
       "      <td>0.016331</td>\n",
       "      <td>0.001323</td>\n",
       "    </tr>\n",
       "    <tr>\n",
       "      <td>caminhao</td>\n",
       "      <td>-0.196716</td>\n",
       "      <td>-0.093824</td>\n",
       "      <td>-0.015050</td>\n",
       "      <td>-0.021334</td>\n",
       "      <td>-0.028999</td>\n",
       "      <td>-0.091666</td>\n",
       "      <td>1.000000</td>\n",
       "      <td>-0.023659</td>\n",
       "      <td>0.055349</td>\n",
       "      <td>-0.077492</td>\n",
       "      <td>-0.008676</td>\n",
       "      <td>0.006478</td>\n",
       "      <td>-0.033302</td>\n",
       "    </tr>\n",
       "    <tr>\n",
       "      <td>viatura</td>\n",
       "      <td>-0.162527</td>\n",
       "      <td>0.014019</td>\n",
       "      <td>-0.007323</td>\n",
       "      <td>-0.010381</td>\n",
       "      <td>-0.014111</td>\n",
       "      <td>-0.044604</td>\n",
       "      <td>-0.023659</td>\n",
       "      <td>1.000000</td>\n",
       "      <td>-0.010381</td>\n",
       "      <td>-0.037706</td>\n",
       "      <td>-0.004221</td>\n",
       "      <td>-0.008775</td>\n",
       "      <td>-0.018625</td>\n",
       "    </tr>\n",
       "    <tr>\n",
       "      <td>outros</td>\n",
       "      <td>-0.108902</td>\n",
       "      <td>-0.000811</td>\n",
       "      <td>-0.006603</td>\n",
       "      <td>-0.009360</td>\n",
       "      <td>-0.012724</td>\n",
       "      <td>-0.040220</td>\n",
       "      <td>0.055349</td>\n",
       "      <td>-0.010381</td>\n",
       "      <td>1.000000</td>\n",
       "      <td>-0.000052</td>\n",
       "      <td>-0.003807</td>\n",
       "      <td>0.002842</td>\n",
       "      <td>0.093891</td>\n",
       "    </tr>\n",
       "    <tr>\n",
       "      <td>vitimas</td>\n",
       "      <td>-0.208665</td>\n",
       "      <td>0.420524</td>\n",
       "      <td>0.023912</td>\n",
       "      <td>0.135739</td>\n",
       "      <td>0.205488</td>\n",
       "      <td>-0.111431</td>\n",
       "      <td>-0.077492</td>\n",
       "      <td>-0.037706</td>\n",
       "      <td>-0.000052</td>\n",
       "      <td>1.000000</td>\n",
       "      <td>-0.013827</td>\n",
       "      <td>0.029857</td>\n",
       "      <td>0.013556</td>\n",
       "    </tr>\n",
       "    <tr>\n",
       "      <td>vitimasfatais</td>\n",
       "      <td>-0.035100</td>\n",
       "      <td>-0.016741</td>\n",
       "      <td>-0.002685</td>\n",
       "      <td>-0.003807</td>\n",
       "      <td>0.299169</td>\n",
       "      <td>-0.016356</td>\n",
       "      <td>-0.008676</td>\n",
       "      <td>-0.004221</td>\n",
       "      <td>-0.003807</td>\n",
       "      <td>-0.013827</td>\n",
       "      <td>1.000000</td>\n",
       "      <td>-0.038206</td>\n",
       "      <td>0.013457</td>\n",
       "    </tr>\n",
       "    <tr>\n",
       "      <td>ano</td>\n",
       "      <td>0.017544</td>\n",
       "      <td>0.012501</td>\n",
       "      <td>0.024766</td>\n",
       "      <td>-0.029421</td>\n",
       "      <td>-0.032019</td>\n",
       "      <td>0.016331</td>\n",
       "      <td>0.006478</td>\n",
       "      <td>-0.008775</td>\n",
       "      <td>0.002842</td>\n",
       "      <td>0.029857</td>\n",
       "      <td>-0.038206</td>\n",
       "      <td>1.000000</td>\n",
       "      <td>0.000266</td>\n",
       "    </tr>\n",
       "    <tr>\n",
       "      <td>mes</td>\n",
       "      <td>0.037598</td>\n",
       "      <td>0.023248</td>\n",
       "      <td>0.029944</td>\n",
       "      <td>0.014385</td>\n",
       "      <td>-0.079851</td>\n",
       "      <td>0.001323</td>\n",
       "      <td>-0.033302</td>\n",
       "      <td>-0.018625</td>\n",
       "      <td>0.093891</td>\n",
       "      <td>0.013556</td>\n",
       "      <td>0.013457</td>\n",
       "      <td>0.000266</td>\n",
       "      <td>1.000000</td>\n",
       "    </tr>\n",
       "  </tbody>\n",
       "</table>\n",
       "</div>"
      ],
      "text/plain": [
       "                   auto      moto    ciclom  ciclista  pedestre    onibus  \\\n",
       "auto           1.000000 -0.385010 -0.092762 -0.086312 -0.167574 -0.376630   \n",
       "moto          -0.385010  1.000000 -0.029041 -0.000811 -0.026037 -0.156281   \n",
       "ciclom        -0.092762 -0.029041  1.000000 -0.006603 -0.008976  0.032213   \n",
       "ciclista      -0.086312 -0.000811 -0.006603  1.000000 -0.012724 -0.040220   \n",
       "pedestre      -0.167574 -0.026037 -0.008976 -0.012724  1.000000 -0.022833   \n",
       "onibus        -0.376630 -0.156281  0.032213 -0.040220 -0.022833  1.000000   \n",
       "caminhao      -0.196716 -0.093824 -0.015050 -0.021334 -0.028999 -0.091666   \n",
       "viatura       -0.162527  0.014019 -0.007323 -0.010381 -0.014111 -0.044604   \n",
       "outros        -0.108902 -0.000811 -0.006603 -0.009360 -0.012724 -0.040220   \n",
       "vitimas       -0.208665  0.420524  0.023912  0.135739  0.205488 -0.111431   \n",
       "vitimasfatais -0.035100 -0.016741 -0.002685 -0.003807  0.299169 -0.016356   \n",
       "ano            0.017544  0.012501  0.024766 -0.029421 -0.032019  0.016331   \n",
       "mes            0.037598  0.023248  0.029944  0.014385 -0.079851  0.001323   \n",
       "\n",
       "               caminhao   viatura    outros   vitimas  vitimasfatais  \\\n",
       "auto          -0.196716 -0.162527 -0.108902 -0.208665      -0.035100   \n",
       "moto          -0.093824  0.014019 -0.000811  0.420524      -0.016741   \n",
       "ciclom        -0.015050 -0.007323 -0.006603  0.023912      -0.002685   \n",
       "ciclista      -0.021334 -0.010381 -0.009360  0.135739      -0.003807   \n",
       "pedestre      -0.028999 -0.014111 -0.012724  0.205488       0.299169   \n",
       "onibus        -0.091666 -0.044604 -0.040220 -0.111431      -0.016356   \n",
       "caminhao       1.000000 -0.023659  0.055349 -0.077492      -0.008676   \n",
       "viatura       -0.023659  1.000000 -0.010381 -0.037706      -0.004221   \n",
       "outros         0.055349 -0.010381  1.000000 -0.000052      -0.003807   \n",
       "vitimas       -0.077492 -0.037706 -0.000052  1.000000      -0.013827   \n",
       "vitimasfatais -0.008676 -0.004221 -0.003807 -0.013827       1.000000   \n",
       "ano            0.006478 -0.008775  0.002842  0.029857      -0.038206   \n",
       "mes           -0.033302 -0.018625  0.093891  0.013556       0.013457   \n",
       "\n",
       "                    ano       mes  \n",
       "auto           0.017544  0.037598  \n",
       "moto           0.012501  0.023248  \n",
       "ciclom         0.024766  0.029944  \n",
       "ciclista      -0.029421  0.014385  \n",
       "pedestre      -0.032019 -0.079851  \n",
       "onibus         0.016331  0.001323  \n",
       "caminhao       0.006478 -0.033302  \n",
       "viatura       -0.008775 -0.018625  \n",
       "outros         0.002842  0.093891  \n",
       "vitimas        0.029857  0.013556  \n",
       "vitimasfatais -0.038206  0.013457  \n",
       "ano            1.000000  0.000266  \n",
       "mes            0.000266  1.000000  "
      ]
     },
     "execution_count": 77,
     "metadata": {},
     "output_type": "execute_result"
    }
   ],
   "source": [
    "# conjunto de dados que possui o bairro Boa viagem e que tiveram o acidente durante a madrugada\n",
    "dataset[(dataset['bairro'] == 'BOA VIAGEM') & (dataset['periodo']=='MADRUGADA')].corr(method='pearson')"
   ]
  },
  {
   "cell_type": "code",
   "execution_count": 78,
   "metadata": {},
   "outputs": [
    {
     "data": {
      "text/html": [
       "<div>\n",
       "<style scoped>\n",
       "    .dataframe tbody tr th:only-of-type {\n",
       "        vertical-align: middle;\n",
       "    }\n",
       "\n",
       "    .dataframe tbody tr th {\n",
       "        vertical-align: top;\n",
       "    }\n",
       "\n",
       "    .dataframe thead th {\n",
       "        text-align: right;\n",
       "    }\n",
       "</style>\n",
       "<table border=\"1\" class=\"dataframe\">\n",
       "  <thead>\n",
       "    <tr style=\"text-align: right;\">\n",
       "      <th></th>\n",
       "      <th>auto</th>\n",
       "      <th>moto</th>\n",
       "      <th>ciclom</th>\n",
       "      <th>ciclista</th>\n",
       "      <th>pedestre</th>\n",
       "      <th>onibus</th>\n",
       "      <th>caminhao</th>\n",
       "      <th>viatura</th>\n",
       "      <th>outros</th>\n",
       "      <th>vitimas</th>\n",
       "      <th>vitimasfatais</th>\n",
       "      <th>ano</th>\n",
       "      <th>mes</th>\n",
       "    </tr>\n",
       "  </thead>\n",
       "  <tbody>\n",
       "    <tr>\n",
       "      <td>auto</td>\n",
       "      <td>1.000000</td>\n",
       "      <td>-0.432423</td>\n",
       "      <td>-0.051139</td>\n",
       "      <td>-0.134056</td>\n",
       "      <td>-0.182356</td>\n",
       "      <td>-0.328007</td>\n",
       "      <td>-0.237721</td>\n",
       "      <td>-0.113638</td>\n",
       "      <td>-0.060886</td>\n",
       "      <td>-0.314631</td>\n",
       "      <td>-0.058266</td>\n",
       "      <td>0.015881</td>\n",
       "      <td>0.007501</td>\n",
       "    </tr>\n",
       "    <tr>\n",
       "      <td>moto</td>\n",
       "      <td>-0.432423</td>\n",
       "      <td>1.000000</td>\n",
       "      <td>-0.030728</td>\n",
       "      <td>-0.009222</td>\n",
       "      <td>0.009797</td>\n",
       "      <td>-0.170327</td>\n",
       "      <td>-0.135344</td>\n",
       "      <td>-0.024344</td>\n",
       "      <td>-0.040923</td>\n",
       "      <td>0.458931</td>\n",
       "      <td>0.027844</td>\n",
       "      <td>-0.005621</td>\n",
       "      <td>0.004931</td>\n",
       "    </tr>\n",
       "    <tr>\n",
       "      <td>ciclom</td>\n",
       "      <td>-0.051139</td>\n",
       "      <td>-0.030728</td>\n",
       "      <td>1.000000</td>\n",
       "      <td>-0.008646</td>\n",
       "      <td>0.002872</td>\n",
       "      <td>-0.021324</td>\n",
       "      <td>-0.015557</td>\n",
       "      <td>-0.008178</td>\n",
       "      <td>-0.006813</td>\n",
       "      <td>0.073353</td>\n",
       "      <td>0.018018</td>\n",
       "      <td>-0.017209</td>\n",
       "      <td>-0.014899</td>\n",
       "    </tr>\n",
       "    <tr>\n",
       "      <td>ciclista</td>\n",
       "      <td>-0.134056</td>\n",
       "      <td>-0.009222</td>\n",
       "      <td>-0.008646</td>\n",
       "      <td>1.000000</td>\n",
       "      <td>-0.008724</td>\n",
       "      <td>0.017261</td>\n",
       "      <td>-0.024036</td>\n",
       "      <td>-0.013128</td>\n",
       "      <td>-0.010938</td>\n",
       "      <td>0.145540</td>\n",
       "      <td>0.014087</td>\n",
       "      <td>0.011970</td>\n",
       "      <td>0.011978</td>\n",
       "    </tr>\n",
       "    <tr>\n",
       "      <td>pedestre</td>\n",
       "      <td>-0.182356</td>\n",
       "      <td>0.009797</td>\n",
       "      <td>0.002872</td>\n",
       "      <td>-0.008724</td>\n",
       "      <td>1.000000</td>\n",
       "      <td>0.016648</td>\n",
       "      <td>-0.044507</td>\n",
       "      <td>-0.011331</td>\n",
       "      <td>-0.009990</td>\n",
       "      <td>0.224070</td>\n",
       "      <td>0.106457</td>\n",
       "      <td>-0.016758</td>\n",
       "      <td>0.013165</td>\n",
       "    </tr>\n",
       "    <tr>\n",
       "      <td>onibus</td>\n",
       "      <td>-0.328007</td>\n",
       "      <td>-0.170327</td>\n",
       "      <td>-0.021324</td>\n",
       "      <td>0.017261</td>\n",
       "      <td>0.016648</td>\n",
       "      <td>1.000000</td>\n",
       "      <td>-0.095919</td>\n",
       "      <td>-0.019926</td>\n",
       "      <td>-0.018138</td>\n",
       "      <td>-0.049993</td>\n",
       "      <td>0.014462</td>\n",
       "      <td>0.009733</td>\n",
       "      <td>-0.000430</td>\n",
       "    </tr>\n",
       "    <tr>\n",
       "      <td>caminhao</td>\n",
       "      <td>-0.237721</td>\n",
       "      <td>-0.135344</td>\n",
       "      <td>-0.015557</td>\n",
       "      <td>-0.024036</td>\n",
       "      <td>-0.044507</td>\n",
       "      <td>-0.095919</td>\n",
       "      <td>1.000000</td>\n",
       "      <td>-0.019011</td>\n",
       "      <td>-0.011732</td>\n",
       "      <td>-0.095355</td>\n",
       "      <td>0.010171</td>\n",
       "      <td>0.021946</td>\n",
       "      <td>-0.007327</td>\n",
       "    </tr>\n",
       "    <tr>\n",
       "      <td>viatura</td>\n",
       "      <td>-0.113638</td>\n",
       "      <td>-0.024344</td>\n",
       "      <td>-0.008178</td>\n",
       "      <td>-0.013128</td>\n",
       "      <td>-0.011331</td>\n",
       "      <td>-0.019926</td>\n",
       "      <td>-0.019011</td>\n",
       "      <td>1.000000</td>\n",
       "      <td>0.013916</td>\n",
       "      <td>-0.012901</td>\n",
       "      <td>-0.006125</td>\n",
       "      <td>0.009165</td>\n",
       "      <td>0.003799</td>\n",
       "    </tr>\n",
       "    <tr>\n",
       "      <td>outros</td>\n",
       "      <td>-0.060886</td>\n",
       "      <td>-0.040923</td>\n",
       "      <td>-0.006813</td>\n",
       "      <td>-0.010938</td>\n",
       "      <td>-0.009990</td>\n",
       "      <td>-0.018138</td>\n",
       "      <td>-0.011732</td>\n",
       "      <td>0.013916</td>\n",
       "      <td>1.000000</td>\n",
       "      <td>-0.009081</td>\n",
       "      <td>-0.005103</td>\n",
       "      <td>0.021757</td>\n",
       "      <td>0.008502</td>\n",
       "    </tr>\n",
       "    <tr>\n",
       "      <td>vitimas</td>\n",
       "      <td>-0.314631</td>\n",
       "      <td>0.458931</td>\n",
       "      <td>0.073353</td>\n",
       "      <td>0.145540</td>\n",
       "      <td>0.224070</td>\n",
       "      <td>-0.049993</td>\n",
       "      <td>-0.095355</td>\n",
       "      <td>-0.012901</td>\n",
       "      <td>-0.009081</td>\n",
       "      <td>1.000000</td>\n",
       "      <td>0.054448</td>\n",
       "      <td>-0.019677</td>\n",
       "      <td>0.000599</td>\n",
       "    </tr>\n",
       "    <tr>\n",
       "      <td>vitimasfatais</td>\n",
       "      <td>-0.058266</td>\n",
       "      <td>0.027844</td>\n",
       "      <td>0.018018</td>\n",
       "      <td>0.014087</td>\n",
       "      <td>0.106457</td>\n",
       "      <td>0.014462</td>\n",
       "      <td>0.010171</td>\n",
       "      <td>-0.006125</td>\n",
       "      <td>-0.005103</td>\n",
       "      <td>0.054448</td>\n",
       "      <td>1.000000</td>\n",
       "      <td>-0.009640</td>\n",
       "      <td>0.004271</td>\n",
       "    </tr>\n",
       "    <tr>\n",
       "      <td>ano</td>\n",
       "      <td>0.015881</td>\n",
       "      <td>-0.005621</td>\n",
       "      <td>-0.017209</td>\n",
       "      <td>0.011970</td>\n",
       "      <td>-0.016758</td>\n",
       "      <td>0.009733</td>\n",
       "      <td>0.021946</td>\n",
       "      <td>0.009165</td>\n",
       "      <td>0.021757</td>\n",
       "      <td>-0.019677</td>\n",
       "      <td>-0.009640</td>\n",
       "      <td>1.000000</td>\n",
       "      <td>-0.024534</td>\n",
       "    </tr>\n",
       "    <tr>\n",
       "      <td>mes</td>\n",
       "      <td>0.007501</td>\n",
       "      <td>0.004931</td>\n",
       "      <td>-0.014899</td>\n",
       "      <td>0.011978</td>\n",
       "      <td>0.013165</td>\n",
       "      <td>-0.000430</td>\n",
       "      <td>-0.007327</td>\n",
       "      <td>0.003799</td>\n",
       "      <td>0.008502</td>\n",
       "      <td>0.000599</td>\n",
       "      <td>0.004271</td>\n",
       "      <td>-0.024534</td>\n",
       "      <td>1.000000</td>\n",
       "    </tr>\n",
       "  </tbody>\n",
       "</table>\n",
       "</div>"
      ],
      "text/plain": [
       "                   auto      moto    ciclom  ciclista  pedestre    onibus  \\\n",
       "auto           1.000000 -0.432423 -0.051139 -0.134056 -0.182356 -0.328007   \n",
       "moto          -0.432423  1.000000 -0.030728 -0.009222  0.009797 -0.170327   \n",
       "ciclom        -0.051139 -0.030728  1.000000 -0.008646  0.002872 -0.021324   \n",
       "ciclista      -0.134056 -0.009222 -0.008646  1.000000 -0.008724  0.017261   \n",
       "pedestre      -0.182356  0.009797  0.002872 -0.008724  1.000000  0.016648   \n",
       "onibus        -0.328007 -0.170327 -0.021324  0.017261  0.016648  1.000000   \n",
       "caminhao      -0.237721 -0.135344 -0.015557 -0.024036 -0.044507 -0.095919   \n",
       "viatura       -0.113638 -0.024344 -0.008178 -0.013128 -0.011331 -0.019926   \n",
       "outros        -0.060886 -0.040923 -0.006813 -0.010938 -0.009990 -0.018138   \n",
       "vitimas       -0.314631  0.458931  0.073353  0.145540  0.224070 -0.049993   \n",
       "vitimasfatais -0.058266  0.027844  0.018018  0.014087  0.106457  0.014462   \n",
       "ano            0.015881 -0.005621 -0.017209  0.011970 -0.016758  0.009733   \n",
       "mes            0.007501  0.004931 -0.014899  0.011978  0.013165 -0.000430   \n",
       "\n",
       "               caminhao   viatura    outros   vitimas  vitimasfatais  \\\n",
       "auto          -0.237721 -0.113638 -0.060886 -0.314631      -0.058266   \n",
       "moto          -0.135344 -0.024344 -0.040923  0.458931       0.027844   \n",
       "ciclom        -0.015557 -0.008178 -0.006813  0.073353       0.018018   \n",
       "ciclista      -0.024036 -0.013128 -0.010938  0.145540       0.014087   \n",
       "pedestre      -0.044507 -0.011331 -0.009990  0.224070       0.106457   \n",
       "onibus        -0.095919 -0.019926 -0.018138 -0.049993       0.014462   \n",
       "caminhao       1.000000 -0.019011 -0.011732 -0.095355       0.010171   \n",
       "viatura       -0.019011  1.000000  0.013916 -0.012901      -0.006125   \n",
       "outros        -0.011732  0.013916  1.000000 -0.009081      -0.005103   \n",
       "vitimas       -0.095355 -0.012901 -0.009081  1.000000       0.054448   \n",
       "vitimasfatais  0.010171 -0.006125 -0.005103  0.054448       1.000000   \n",
       "ano            0.021946  0.009165  0.021757 -0.019677      -0.009640   \n",
       "mes           -0.007327  0.003799  0.008502  0.000599       0.004271   \n",
       "\n",
       "                    ano       mes  \n",
       "auto           0.015881  0.007501  \n",
       "moto          -0.005621  0.004931  \n",
       "ciclom        -0.017209 -0.014899  \n",
       "ciclista       0.011970  0.011978  \n",
       "pedestre      -0.016758  0.013165  \n",
       "onibus         0.009733 -0.000430  \n",
       "caminhao       0.021946 -0.007327  \n",
       "viatura        0.009165  0.003799  \n",
       "outros         0.021757  0.008502  \n",
       "vitimas       -0.019677  0.000599  \n",
       "vitimasfatais -0.009640  0.004271  \n",
       "ano            1.000000 -0.024534  \n",
       "mes           -0.024534  1.000000  "
      ]
     },
     "execution_count": 78,
     "metadata": {},
     "output_type": "execute_result"
    }
   ],
   "source": [
    "# conjunto de dados que tiveram o acidente com o status finalizado\n",
    "dataset[dataset.situacao=='FINALIZADA'].corr(method='pearson')"
   ]
  },
  {
   "cell_type": "markdown",
   "metadata": {},
   "source": [
    "### <a id='72'> Correlação de Spearman</a>   "
   ]
  },
  {
   "cell_type": "code",
   "execution_count": 79,
   "metadata": {},
   "outputs": [
    {
     "data": {
      "text/html": [
       "<div>\n",
       "<style scoped>\n",
       "    .dataframe tbody tr th:only-of-type {\n",
       "        vertical-align: middle;\n",
       "    }\n",
       "\n",
       "    .dataframe tbody tr th {\n",
       "        vertical-align: top;\n",
       "    }\n",
       "\n",
       "    .dataframe thead th {\n",
       "        text-align: right;\n",
       "    }\n",
       "</style>\n",
       "<table border=\"1\" class=\"dataframe\">\n",
       "  <thead>\n",
       "    <tr style=\"text-align: right;\">\n",
       "      <th></th>\n",
       "      <th>auto</th>\n",
       "      <th>moto</th>\n",
       "      <th>ciclom</th>\n",
       "      <th>ciclista</th>\n",
       "      <th>pedestre</th>\n",
       "      <th>onibus</th>\n",
       "      <th>caminhao</th>\n",
       "      <th>viatura</th>\n",
       "      <th>outros</th>\n",
       "      <th>vitimas</th>\n",
       "      <th>vitimasfatais</th>\n",
       "      <th>ano</th>\n",
       "      <th>mes</th>\n",
       "    </tr>\n",
       "  </thead>\n",
       "  <tbody>\n",
       "    <tr>\n",
       "      <td>auto</td>\n",
       "      <td>1.000000</td>\n",
       "      <td>-0.423792</td>\n",
       "      <td>-0.091763</td>\n",
       "      <td>-0.089185</td>\n",
       "      <td>-0.158982</td>\n",
       "      <td>-0.435177</td>\n",
       "      <td>-0.238890</td>\n",
       "      <td>-0.154169</td>\n",
       "      <td>-0.117446</td>\n",
       "      <td>-0.286028</td>\n",
       "      <td>-0.042625</td>\n",
       "      <td>0.014886</td>\n",
       "      <td>0.030671</td>\n",
       "    </tr>\n",
       "    <tr>\n",
       "      <td>moto</td>\n",
       "      <td>-0.423792</td>\n",
       "      <td>1.000000</td>\n",
       "      <td>-0.030024</td>\n",
       "      <td>0.000878</td>\n",
       "      <td>-0.025645</td>\n",
       "      <td>-0.162669</td>\n",
       "      <td>-0.096998</td>\n",
       "      <td>0.026017</td>\n",
       "      <td>0.000878</td>\n",
       "      <td>0.528533</td>\n",
       "      <td>-0.017307</td>\n",
       "      <td>-0.005182</td>\n",
       "      <td>0.026204</td>\n",
       "    </tr>\n",
       "    <tr>\n",
       "      <td>ciclom</td>\n",
       "      <td>-0.091763</td>\n",
       "      <td>-0.030024</td>\n",
       "      <td>1.000000</td>\n",
       "      <td>-0.006603</td>\n",
       "      <td>-0.008976</td>\n",
       "      <td>0.034316</td>\n",
       "      <td>-0.015050</td>\n",
       "      <td>-0.007637</td>\n",
       "      <td>-0.006603</td>\n",
       "      <td>0.036305</td>\n",
       "      <td>-0.002685</td>\n",
       "      <td>0.024766</td>\n",
       "      <td>0.030326</td>\n",
       "    </tr>\n",
       "    <tr>\n",
       "      <td>ciclista</td>\n",
       "      <td>-0.089185</td>\n",
       "      <td>0.000878</td>\n",
       "      <td>-0.006603</td>\n",
       "      <td>1.000000</td>\n",
       "      <td>-0.012724</td>\n",
       "      <td>-0.040860</td>\n",
       "      <td>-0.021334</td>\n",
       "      <td>-0.010825</td>\n",
       "      <td>-0.009360</td>\n",
       "      <td>0.148687</td>\n",
       "      <td>-0.003807</td>\n",
       "      <td>-0.029421</td>\n",
       "      <td>0.016424</td>\n",
       "    </tr>\n",
       "    <tr>\n",
       "      <td>pedestre</td>\n",
       "      <td>-0.158982</td>\n",
       "      <td>-0.025645</td>\n",
       "      <td>-0.008976</td>\n",
       "      <td>-0.012724</td>\n",
       "      <td>1.000000</td>\n",
       "      <td>-0.022361</td>\n",
       "      <td>-0.028999</td>\n",
       "      <td>-0.014715</td>\n",
       "      <td>-0.012724</td>\n",
       "      <td>0.283166</td>\n",
       "      <td>0.299169</td>\n",
       "      <td>-0.032019</td>\n",
       "      <td>-0.080166</td>\n",
       "    </tr>\n",
       "    <tr>\n",
       "      <td>onibus</td>\n",
       "      <td>-0.435177</td>\n",
       "      <td>-0.162669</td>\n",
       "      <td>0.034316</td>\n",
       "      <td>-0.040860</td>\n",
       "      <td>-0.022361</td>\n",
       "      <td>1.000000</td>\n",
       "      <td>-0.093126</td>\n",
       "      <td>-0.047255</td>\n",
       "      <td>-0.040860</td>\n",
       "      <td>-0.123439</td>\n",
       "      <td>-0.016616</td>\n",
       "      <td>0.005784</td>\n",
       "      <td>0.002997</td>\n",
       "    </tr>\n",
       "    <tr>\n",
       "      <td>caminhao</td>\n",
       "      <td>-0.238890</td>\n",
       "      <td>-0.096998</td>\n",
       "      <td>-0.015050</td>\n",
       "      <td>-0.021334</td>\n",
       "      <td>-0.028999</td>\n",
       "      <td>-0.093126</td>\n",
       "      <td>1.000000</td>\n",
       "      <td>-0.024672</td>\n",
       "      <td>0.055349</td>\n",
       "      <td>-0.089675</td>\n",
       "      <td>-0.008676</td>\n",
       "      <td>0.006478</td>\n",
       "      <td>-0.031941</td>\n",
       "    </tr>\n",
       "    <tr>\n",
       "      <td>viatura</td>\n",
       "      <td>-0.154169</td>\n",
       "      <td>0.026017</td>\n",
       "      <td>-0.007637</td>\n",
       "      <td>-0.010825</td>\n",
       "      <td>-0.014715</td>\n",
       "      <td>-0.047255</td>\n",
       "      <td>-0.024672</td>\n",
       "      <td>1.000000</td>\n",
       "      <td>-0.010825</td>\n",
       "      <td>-0.045503</td>\n",
       "      <td>-0.004402</td>\n",
       "      <td>-0.024481</td>\n",
       "      <td>-0.040626</td>\n",
       "    </tr>\n",
       "    <tr>\n",
       "      <td>outros</td>\n",
       "      <td>-0.117446</td>\n",
       "      <td>0.000878</td>\n",
       "      <td>-0.006603</td>\n",
       "      <td>-0.009360</td>\n",
       "      <td>-0.012724</td>\n",
       "      <td>-0.040860</td>\n",
       "      <td>0.055349</td>\n",
       "      <td>-0.010825</td>\n",
       "      <td>1.000000</td>\n",
       "      <td>0.006059</td>\n",
       "      <td>-0.003807</td>\n",
       "      <td>0.002842</td>\n",
       "      <td>0.094210</td>\n",
       "    </tr>\n",
       "    <tr>\n",
       "      <td>vitimas</td>\n",
       "      <td>-0.286028</td>\n",
       "      <td>0.528533</td>\n",
       "      <td>0.036305</td>\n",
       "      <td>0.148687</td>\n",
       "      <td>0.283166</td>\n",
       "      <td>-0.123439</td>\n",
       "      <td>-0.089675</td>\n",
       "      <td>-0.045503</td>\n",
       "      <td>0.006059</td>\n",
       "      <td>1.000000</td>\n",
       "      <td>-0.016001</td>\n",
       "      <td>0.004607</td>\n",
       "      <td>-0.004059</td>\n",
       "    </tr>\n",
       "    <tr>\n",
       "      <td>vitimasfatais</td>\n",
       "      <td>-0.042625</td>\n",
       "      <td>-0.017307</td>\n",
       "      <td>-0.002685</td>\n",
       "      <td>-0.003807</td>\n",
       "      <td>0.299169</td>\n",
       "      <td>-0.016616</td>\n",
       "      <td>-0.008676</td>\n",
       "      <td>-0.004402</td>\n",
       "      <td>-0.003807</td>\n",
       "      <td>-0.016001</td>\n",
       "      <td>1.000000</td>\n",
       "      <td>-0.038206</td>\n",
       "      <td>0.013746</td>\n",
       "    </tr>\n",
       "    <tr>\n",
       "      <td>ano</td>\n",
       "      <td>0.014886</td>\n",
       "      <td>-0.005182</td>\n",
       "      <td>0.024766</td>\n",
       "      <td>-0.029421</td>\n",
       "      <td>-0.032019</td>\n",
       "      <td>0.005784</td>\n",
       "      <td>0.006478</td>\n",
       "      <td>-0.024481</td>\n",
       "      <td>0.002842</td>\n",
       "      <td>0.004607</td>\n",
       "      <td>-0.038206</td>\n",
       "      <td>1.000000</td>\n",
       "      <td>-0.003408</td>\n",
       "    </tr>\n",
       "    <tr>\n",
       "      <td>mes</td>\n",
       "      <td>0.030671</td>\n",
       "      <td>0.026204</td>\n",
       "      <td>0.030326</td>\n",
       "      <td>0.016424</td>\n",
       "      <td>-0.080166</td>\n",
       "      <td>0.002997</td>\n",
       "      <td>-0.031941</td>\n",
       "      <td>-0.040626</td>\n",
       "      <td>0.094210</td>\n",
       "      <td>-0.004059</td>\n",
       "      <td>0.013746</td>\n",
       "      <td>-0.003408</td>\n",
       "      <td>1.000000</td>\n",
       "    </tr>\n",
       "  </tbody>\n",
       "</table>\n",
       "</div>"
      ],
      "text/plain": [
       "                   auto      moto    ciclom  ciclista  pedestre    onibus  \\\n",
       "auto           1.000000 -0.423792 -0.091763 -0.089185 -0.158982 -0.435177   \n",
       "moto          -0.423792  1.000000 -0.030024  0.000878 -0.025645 -0.162669   \n",
       "ciclom        -0.091763 -0.030024  1.000000 -0.006603 -0.008976  0.034316   \n",
       "ciclista      -0.089185  0.000878 -0.006603  1.000000 -0.012724 -0.040860   \n",
       "pedestre      -0.158982 -0.025645 -0.008976 -0.012724  1.000000 -0.022361   \n",
       "onibus        -0.435177 -0.162669  0.034316 -0.040860 -0.022361  1.000000   \n",
       "caminhao      -0.238890 -0.096998 -0.015050 -0.021334 -0.028999 -0.093126   \n",
       "viatura       -0.154169  0.026017 -0.007637 -0.010825 -0.014715 -0.047255   \n",
       "outros        -0.117446  0.000878 -0.006603 -0.009360 -0.012724 -0.040860   \n",
       "vitimas       -0.286028  0.528533  0.036305  0.148687  0.283166 -0.123439   \n",
       "vitimasfatais -0.042625 -0.017307 -0.002685 -0.003807  0.299169 -0.016616   \n",
       "ano            0.014886 -0.005182  0.024766 -0.029421 -0.032019  0.005784   \n",
       "mes            0.030671  0.026204  0.030326  0.016424 -0.080166  0.002997   \n",
       "\n",
       "               caminhao   viatura    outros   vitimas  vitimasfatais  \\\n",
       "auto          -0.238890 -0.154169 -0.117446 -0.286028      -0.042625   \n",
       "moto          -0.096998  0.026017  0.000878  0.528533      -0.017307   \n",
       "ciclom        -0.015050 -0.007637 -0.006603  0.036305      -0.002685   \n",
       "ciclista      -0.021334 -0.010825 -0.009360  0.148687      -0.003807   \n",
       "pedestre      -0.028999 -0.014715 -0.012724  0.283166       0.299169   \n",
       "onibus        -0.093126 -0.047255 -0.040860 -0.123439      -0.016616   \n",
       "caminhao       1.000000 -0.024672  0.055349 -0.089675      -0.008676   \n",
       "viatura       -0.024672  1.000000 -0.010825 -0.045503      -0.004402   \n",
       "outros         0.055349 -0.010825  1.000000  0.006059      -0.003807   \n",
       "vitimas       -0.089675 -0.045503  0.006059  1.000000      -0.016001   \n",
       "vitimasfatais -0.008676 -0.004402 -0.003807 -0.016001       1.000000   \n",
       "ano            0.006478 -0.024481  0.002842  0.004607      -0.038206   \n",
       "mes           -0.031941 -0.040626  0.094210 -0.004059       0.013746   \n",
       "\n",
       "                    ano       mes  \n",
       "auto           0.014886  0.030671  \n",
       "moto          -0.005182  0.026204  \n",
       "ciclom         0.024766  0.030326  \n",
       "ciclista      -0.029421  0.016424  \n",
       "pedestre      -0.032019 -0.080166  \n",
       "onibus         0.005784  0.002997  \n",
       "caminhao       0.006478 -0.031941  \n",
       "viatura       -0.024481 -0.040626  \n",
       "outros         0.002842  0.094210  \n",
       "vitimas        0.004607 -0.004059  \n",
       "vitimasfatais -0.038206  0.013746  \n",
       "ano            1.000000 -0.003408  \n",
       "mes           -0.003408  1.000000  "
      ]
     },
     "execution_count": 79,
     "metadata": {},
     "output_type": "execute_result"
    }
   ],
   "source": [
    "dataset[(dataset['bairro'] == 'BOA VIAGEM') & (dataset['periodo']=='MADRUGADA')].corr(method='spearman')"
   ]
  },
  {
   "cell_type": "code",
   "execution_count": 80,
   "metadata": {},
   "outputs": [
    {
     "data": {
      "text/html": [
       "<div>\n",
       "<style scoped>\n",
       "    .dataframe tbody tr th:only-of-type {\n",
       "        vertical-align: middle;\n",
       "    }\n",
       "\n",
       "    .dataframe tbody tr th {\n",
       "        vertical-align: top;\n",
       "    }\n",
       "\n",
       "    .dataframe thead th {\n",
       "        text-align: right;\n",
       "    }\n",
       "</style>\n",
       "<table border=\"1\" class=\"dataframe\">\n",
       "  <thead>\n",
       "    <tr style=\"text-align: right;\">\n",
       "      <th></th>\n",
       "      <th>auto</th>\n",
       "      <th>moto</th>\n",
       "      <th>ciclom</th>\n",
       "      <th>ciclista</th>\n",
       "      <th>pedestre</th>\n",
       "      <th>onibus</th>\n",
       "      <th>caminhao</th>\n",
       "      <th>viatura</th>\n",
       "      <th>outros</th>\n",
       "      <th>vitimas</th>\n",
       "      <th>vitimasfatais</th>\n",
       "      <th>ano</th>\n",
       "      <th>mes</th>\n",
       "    </tr>\n",
       "  </thead>\n",
       "  <tbody>\n",
       "    <tr>\n",
       "      <td>auto</td>\n",
       "      <td>1.000000</td>\n",
       "      <td>-0.463006</td>\n",
       "      <td>-0.058207</td>\n",
       "      <td>-0.133224</td>\n",
       "      <td>-0.183497</td>\n",
       "      <td>-0.354604</td>\n",
       "      <td>-0.260715</td>\n",
       "      <td>-0.122751</td>\n",
       "      <td>-0.066623</td>\n",
       "      <td>-0.385494</td>\n",
       "      <td>-0.061587</td>\n",
       "      <td>0.010646</td>\n",
       "      <td>0.007716</td>\n",
       "    </tr>\n",
       "    <tr>\n",
       "      <td>moto</td>\n",
       "      <td>-0.463006</td>\n",
       "      <td>1.000000</td>\n",
       "      <td>-0.031365</td>\n",
       "      <td>-0.006066</td>\n",
       "      <td>0.013500</td>\n",
       "      <td>-0.175087</td>\n",
       "      <td>-0.141893</td>\n",
       "      <td>-0.030335</td>\n",
       "      <td>-0.042195</td>\n",
       "      <td>0.555779</td>\n",
       "      <td>0.023747</td>\n",
       "      <td>-0.007847</td>\n",
       "      <td>0.003037</td>\n",
       "    </tr>\n",
       "    <tr>\n",
       "      <td>ciclom</td>\n",
       "      <td>-0.058207</td>\n",
       "      <td>-0.031365</td>\n",
       "      <td>1.000000</td>\n",
       "      <td>-0.008751</td>\n",
       "      <td>0.003744</td>\n",
       "      <td>-0.021398</td>\n",
       "      <td>-0.015534</td>\n",
       "      <td>-0.008952</td>\n",
       "      <td>-0.006927</td>\n",
       "      <td>0.087948</td>\n",
       "      <td>0.021019</td>\n",
       "      <td>-0.016732</td>\n",
       "      <td>-0.013719</td>\n",
       "    </tr>\n",
       "    <tr>\n",
       "      <td>ciclista</td>\n",
       "      <td>-0.133224</td>\n",
       "      <td>-0.006066</td>\n",
       "      <td>-0.008751</td>\n",
       "      <td>1.000000</td>\n",
       "      <td>-0.011558</td>\n",
       "      <td>0.018382</td>\n",
       "      <td>-0.025259</td>\n",
       "      <td>-0.014409</td>\n",
       "      <td>-0.011149</td>\n",
       "      <td>0.184298</td>\n",
       "      <td>0.016917</td>\n",
       "      <td>0.012260</td>\n",
       "      <td>0.012256</td>\n",
       "    </tr>\n",
       "    <tr>\n",
       "      <td>pedestre</td>\n",
       "      <td>-0.183497</td>\n",
       "      <td>0.013500</td>\n",
       "      <td>0.003744</td>\n",
       "      <td>-0.011558</td>\n",
       "      <td>1.000000</td>\n",
       "      <td>0.021242</td>\n",
       "      <td>-0.046073</td>\n",
       "      <td>-0.012146</td>\n",
       "      <td>-0.010189</td>\n",
       "      <td>0.268077</td>\n",
       "      <td>0.117847</td>\n",
       "      <td>-0.014733</td>\n",
       "      <td>0.012865</td>\n",
       "    </tr>\n",
       "    <tr>\n",
       "      <td>onibus</td>\n",
       "      <td>-0.354604</td>\n",
       "      <td>-0.175087</td>\n",
       "      <td>-0.021398</td>\n",
       "      <td>0.018382</td>\n",
       "      <td>0.021242</td>\n",
       "      <td>1.000000</td>\n",
       "      <td>-0.096794</td>\n",
       "      <td>-0.019843</td>\n",
       "      <td>-0.017952</td>\n",
       "      <td>-0.081440</td>\n",
       "      <td>0.019092</td>\n",
       "      <td>0.008457</td>\n",
       "      <td>0.000805</td>\n",
       "    </tr>\n",
       "    <tr>\n",
       "      <td>caminhao</td>\n",
       "      <td>-0.260715</td>\n",
       "      <td>-0.141893</td>\n",
       "      <td>-0.015534</td>\n",
       "      <td>-0.025259</td>\n",
       "      <td>-0.046073</td>\n",
       "      <td>-0.096794</td>\n",
       "      <td>1.000000</td>\n",
       "      <td>-0.019406</td>\n",
       "      <td>-0.014684</td>\n",
       "      <td>-0.115891</td>\n",
       "      <td>0.010885</td>\n",
       "      <td>0.021861</td>\n",
       "      <td>-0.007563</td>\n",
       "    </tr>\n",
       "    <tr>\n",
       "      <td>viatura</td>\n",
       "      <td>-0.122751</td>\n",
       "      <td>-0.030335</td>\n",
       "      <td>-0.008952</td>\n",
       "      <td>-0.014409</td>\n",
       "      <td>-0.012146</td>\n",
       "      <td>-0.019843</td>\n",
       "      <td>-0.019406</td>\n",
       "      <td>1.000000</td>\n",
       "      <td>0.017131</td>\n",
       "      <td>-0.027827</td>\n",
       "      <td>-0.006972</td>\n",
       "      <td>0.007507</td>\n",
       "      <td>0.009123</td>\n",
       "    </tr>\n",
       "    <tr>\n",
       "      <td>outros</td>\n",
       "      <td>-0.066623</td>\n",
       "      <td>-0.042195</td>\n",
       "      <td>-0.006927</td>\n",
       "      <td>-0.011149</td>\n",
       "      <td>-0.010189</td>\n",
       "      <td>-0.017952</td>\n",
       "      <td>-0.014684</td>\n",
       "      <td>0.017131</td>\n",
       "      <td>1.000000</td>\n",
       "      <td>-0.012060</td>\n",
       "      <td>-0.005394</td>\n",
       "      <td>0.021158</td>\n",
       "      <td>0.007597</td>\n",
       "    </tr>\n",
       "    <tr>\n",
       "      <td>vitimas</td>\n",
       "      <td>-0.385494</td>\n",
       "      <td>0.555779</td>\n",
       "      <td>0.087948</td>\n",
       "      <td>0.184298</td>\n",
       "      <td>0.268077</td>\n",
       "      <td>-0.081440</td>\n",
       "      <td>-0.115891</td>\n",
       "      <td>-0.027827</td>\n",
       "      <td>-0.012060</td>\n",
       "      <td>1.000000</td>\n",
       "      <td>0.023288</td>\n",
       "      <td>-0.014928</td>\n",
       "      <td>-0.000585</td>\n",
       "    </tr>\n",
       "    <tr>\n",
       "      <td>vitimasfatais</td>\n",
       "      <td>-0.061587</td>\n",
       "      <td>0.023747</td>\n",
       "      <td>0.021019</td>\n",
       "      <td>0.016917</td>\n",
       "      <td>0.117847</td>\n",
       "      <td>0.019092</td>\n",
       "      <td>0.010885</td>\n",
       "      <td>-0.006972</td>\n",
       "      <td>-0.005394</td>\n",
       "      <td>0.023288</td>\n",
       "      <td>1.000000</td>\n",
       "      <td>-0.008057</td>\n",
       "      <td>0.001163</td>\n",
       "    </tr>\n",
       "    <tr>\n",
       "      <td>ano</td>\n",
       "      <td>0.010646</td>\n",
       "      <td>-0.007847</td>\n",
       "      <td>-0.016732</td>\n",
       "      <td>0.012260</td>\n",
       "      <td>-0.014733</td>\n",
       "      <td>0.008457</td>\n",
       "      <td>0.021861</td>\n",
       "      <td>0.007507</td>\n",
       "      <td>0.021158</td>\n",
       "      <td>-0.014928</td>\n",
       "      <td>-0.008057</td>\n",
       "      <td>1.000000</td>\n",
       "      <td>-0.022778</td>\n",
       "    </tr>\n",
       "    <tr>\n",
       "      <td>mes</td>\n",
       "      <td>0.007716</td>\n",
       "      <td>0.003037</td>\n",
       "      <td>-0.013719</td>\n",
       "      <td>0.012256</td>\n",
       "      <td>0.012865</td>\n",
       "      <td>0.000805</td>\n",
       "      <td>-0.007563</td>\n",
       "      <td>0.009123</td>\n",
       "      <td>0.007597</td>\n",
       "      <td>-0.000585</td>\n",
       "      <td>0.001163</td>\n",
       "      <td>-0.022778</td>\n",
       "      <td>1.000000</td>\n",
       "    </tr>\n",
       "  </tbody>\n",
       "</table>\n",
       "</div>"
      ],
      "text/plain": [
       "                   auto      moto    ciclom  ciclista  pedestre    onibus  \\\n",
       "auto           1.000000 -0.463006 -0.058207 -0.133224 -0.183497 -0.354604   \n",
       "moto          -0.463006  1.000000 -0.031365 -0.006066  0.013500 -0.175087   \n",
       "ciclom        -0.058207 -0.031365  1.000000 -0.008751  0.003744 -0.021398   \n",
       "ciclista      -0.133224 -0.006066 -0.008751  1.000000 -0.011558  0.018382   \n",
       "pedestre      -0.183497  0.013500  0.003744 -0.011558  1.000000  0.021242   \n",
       "onibus        -0.354604 -0.175087 -0.021398  0.018382  0.021242  1.000000   \n",
       "caminhao      -0.260715 -0.141893 -0.015534 -0.025259 -0.046073 -0.096794   \n",
       "viatura       -0.122751 -0.030335 -0.008952 -0.014409 -0.012146 -0.019843   \n",
       "outros        -0.066623 -0.042195 -0.006927 -0.011149 -0.010189 -0.017952   \n",
       "vitimas       -0.385494  0.555779  0.087948  0.184298  0.268077 -0.081440   \n",
       "vitimasfatais -0.061587  0.023747  0.021019  0.016917  0.117847  0.019092   \n",
       "ano            0.010646 -0.007847 -0.016732  0.012260 -0.014733  0.008457   \n",
       "mes            0.007716  0.003037 -0.013719  0.012256  0.012865  0.000805   \n",
       "\n",
       "               caminhao   viatura    outros   vitimas  vitimasfatais  \\\n",
       "auto          -0.260715 -0.122751 -0.066623 -0.385494      -0.061587   \n",
       "moto          -0.141893 -0.030335 -0.042195  0.555779       0.023747   \n",
       "ciclom        -0.015534 -0.008952 -0.006927  0.087948       0.021019   \n",
       "ciclista      -0.025259 -0.014409 -0.011149  0.184298       0.016917   \n",
       "pedestre      -0.046073 -0.012146 -0.010189  0.268077       0.117847   \n",
       "onibus        -0.096794 -0.019843 -0.017952 -0.081440       0.019092   \n",
       "caminhao       1.000000 -0.019406 -0.014684 -0.115891       0.010885   \n",
       "viatura       -0.019406  1.000000  0.017131 -0.027827      -0.006972   \n",
       "outros        -0.014684  0.017131  1.000000 -0.012060      -0.005394   \n",
       "vitimas       -0.115891 -0.027827 -0.012060  1.000000       0.023288   \n",
       "vitimasfatais  0.010885 -0.006972 -0.005394  0.023288       1.000000   \n",
       "ano            0.021861  0.007507  0.021158 -0.014928      -0.008057   \n",
       "mes           -0.007563  0.009123  0.007597 -0.000585       0.001163   \n",
       "\n",
       "                    ano       mes  \n",
       "auto           0.010646  0.007716  \n",
       "moto          -0.007847  0.003037  \n",
       "ciclom        -0.016732 -0.013719  \n",
       "ciclista       0.012260  0.012256  \n",
       "pedestre      -0.014733  0.012865  \n",
       "onibus         0.008457  0.000805  \n",
       "caminhao       0.021861 -0.007563  \n",
       "viatura        0.007507  0.009123  \n",
       "outros         0.021158  0.007597  \n",
       "vitimas       -0.014928 -0.000585  \n",
       "vitimasfatais -0.008057  0.001163  \n",
       "ano            1.000000 -0.022778  \n",
       "mes           -0.022778  1.000000  "
      ]
     },
     "execution_count": 80,
     "metadata": {},
     "output_type": "execute_result"
    }
   ],
   "source": [
    "dataset[dataset.situacao=='FINALIZADA'].corr(method='spearman')"
   ]
  },
  {
   "cell_type": "markdown",
   "metadata": {},
   "source": [
    "## <a id='8'> Distribuição de Poisson</a>   "
   ]
  },
  {
   "cell_type": "markdown",
   "metadata": {},
   "source": [
    "Por estar utilizando uma base de dados de acidentes podemos utilizar a distribuição Poisson, distribuição aleatória de probabilidade para eventos que não possuem dependência entre si, consequentemente mostra o número provável de vezes que um evento poderá ocorrer dentro de um período de tempo predeterminado. \n",
    "\n",
    "Assim a distribuição de Poisson consegue obter uma representação de um modelo adequado para o estudo onde ocorrem fenomenos com grande número de observáveis, tais como: chamadas telefônicas por unidade de tempo, clientes entrando ou saindo de supermercado por unidade de tempo, entre outros. Além disso, também pode ser representado a acidentes por unidade de tempo, o que engloba a proposta do trabalho. \n",
    "\n",
    "Desta forma, será aplicado a distribuição de poisson que pode ser representado da seguinte forma:\n",
    "\n",
    "\n",
    "\\begin{equation*}\n",
    "f(k;\\lambda )={\\frac {e^{-\\lambda }\\lambda ^{k}}{k!}}\\!\\end{equation*}\n",
    "\n",
    "onde:\n",
    "\n",
    "- e representa o logaritmo natural.\n",
    "- k! é o fatorial de k.\n",
    "- λ é o número de ocorrências que ocorrem em um determinado intervalo de tempo.\n"
   ]
  },
  {
   "cell_type": "code",
   "execution_count": 81,
   "metadata": {},
   "outputs": [],
   "source": [
    "import math\n",
    "def poisson_probability(actual, mean):\n",
    "    p = math.exp(-mean)\n",
    "    for i in range(actual):\n",
    "        p *= mean\n",
    "        p /= i+1\n",
    "    return p"
   ]
  },
  {
   "cell_type": "code",
   "execution_count": 82,
   "metadata": {},
   "outputs": [
    {
     "data": {
      "text/html": [
       "<div>\n",
       "<style scoped>\n",
       "    .dataframe tbody tr th:only-of-type {\n",
       "        vertical-align: middle;\n",
       "    }\n",
       "\n",
       "    .dataframe tbody tr th {\n",
       "        vertical-align: top;\n",
       "    }\n",
       "\n",
       "    .dataframe thead th {\n",
       "        text-align: right;\n",
       "    }\n",
       "</style>\n",
       "<table border=\"1\" class=\"dataframe\">\n",
       "  <thead>\n",
       "    <tr style=\"text-align: right;\">\n",
       "      <th></th>\n",
       "      <th>auto</th>\n",
       "      <th>moto</th>\n",
       "      <th>ciclom</th>\n",
       "      <th>ciclista</th>\n",
       "      <th>pedestre</th>\n",
       "      <th>onibus</th>\n",
       "      <th>caminhao</th>\n",
       "      <th>viatura</th>\n",
       "      <th>outros</th>\n",
       "      <th>vitimas</th>\n",
       "      <th>vitimasfatais</th>\n",
       "      <th>ano</th>\n",
       "      <th>mes</th>\n",
       "    </tr>\n",
       "  </thead>\n",
       "  <tbody>\n",
       "    <tr>\n",
       "      <td>count</td>\n",
       "      <td>23112.000000</td>\n",
       "      <td>23112.000000</td>\n",
       "      <td>23112.000000</td>\n",
       "      <td>23112.000000</td>\n",
       "      <td>23112.000000</td>\n",
       "      <td>23112.000000</td>\n",
       "      <td>23112.000000</td>\n",
       "      <td>23112.000000</td>\n",
       "      <td>23112.000000</td>\n",
       "      <td>23112.00000</td>\n",
       "      <td>23112.000000</td>\n",
       "      <td>23112.000000</td>\n",
       "      <td>23112.000000</td>\n",
       "    </tr>\n",
       "    <tr>\n",
       "      <td>mean</td>\n",
       "      <td>1.430512</td>\n",
       "      <td>0.250736</td>\n",
       "      <td>0.005928</td>\n",
       "      <td>0.012894</td>\n",
       "      <td>0.020639</td>\n",
       "      <td>0.154422</td>\n",
       "      <td>0.104145</td>\n",
       "      <td>0.013716</td>\n",
       "      <td>0.009129</td>\n",
       "      <td>0.21504</td>\n",
       "      <td>0.002899</td>\n",
       "      <td>2017.488145</td>\n",
       "      <td>6.645985</td>\n",
       "    </tr>\n",
       "    <tr>\n",
       "      <td>std</td>\n",
       "      <td>0.756733</td>\n",
       "      <td>0.468468</td>\n",
       "      <td>0.077326</td>\n",
       "      <td>0.114342</td>\n",
       "      <td>0.149878</td>\n",
       "      <td>0.370349</td>\n",
       "      <td>0.313149</td>\n",
       "      <td>0.129010</td>\n",
       "      <td>0.096468</td>\n",
       "      <td>0.53695</td>\n",
       "      <td>0.058394</td>\n",
       "      <td>0.499870</td>\n",
       "      <td>3.483728</td>\n",
       "    </tr>\n",
       "    <tr>\n",
       "      <td>min</td>\n",
       "      <td>0.000000</td>\n",
       "      <td>0.000000</td>\n",
       "      <td>0.000000</td>\n",
       "      <td>0.000000</td>\n",
       "      <td>0.000000</td>\n",
       "      <td>0.000000</td>\n",
       "      <td>0.000000</td>\n",
       "      <td>0.000000</td>\n",
       "      <td>0.000000</td>\n",
       "      <td>0.00000</td>\n",
       "      <td>0.000000</td>\n",
       "      <td>2017.000000</td>\n",
       "      <td>1.000000</td>\n",
       "    </tr>\n",
       "    <tr>\n",
       "      <td>25%</td>\n",
       "      <td>1.000000</td>\n",
       "      <td>0.000000</td>\n",
       "      <td>0.000000</td>\n",
       "      <td>0.000000</td>\n",
       "      <td>0.000000</td>\n",
       "      <td>0.000000</td>\n",
       "      <td>0.000000</td>\n",
       "      <td>0.000000</td>\n",
       "      <td>0.000000</td>\n",
       "      <td>0.00000</td>\n",
       "      <td>0.000000</td>\n",
       "      <td>2017.000000</td>\n",
       "      <td>4.000000</td>\n",
       "    </tr>\n",
       "    <tr>\n",
       "      <td>50%</td>\n",
       "      <td>1.000000</td>\n",
       "      <td>0.000000</td>\n",
       "      <td>0.000000</td>\n",
       "      <td>0.000000</td>\n",
       "      <td>0.000000</td>\n",
       "      <td>0.000000</td>\n",
       "      <td>0.000000</td>\n",
       "      <td>0.000000</td>\n",
       "      <td>0.000000</td>\n",
       "      <td>0.00000</td>\n",
       "      <td>0.000000</td>\n",
       "      <td>2017.000000</td>\n",
       "      <td>7.000000</td>\n",
       "    </tr>\n",
       "    <tr>\n",
       "      <td>75%</td>\n",
       "      <td>2.000000</td>\n",
       "      <td>0.000000</td>\n",
       "      <td>0.000000</td>\n",
       "      <td>0.000000</td>\n",
       "      <td>0.000000</td>\n",
       "      <td>0.000000</td>\n",
       "      <td>0.000000</td>\n",
       "      <td>0.000000</td>\n",
       "      <td>0.000000</td>\n",
       "      <td>0.00000</td>\n",
       "      <td>0.000000</td>\n",
       "      <td>2018.000000</td>\n",
       "      <td>10.000000</td>\n",
       "    </tr>\n",
       "    <tr>\n",
       "      <td>max</td>\n",
       "      <td>6.000000</td>\n",
       "      <td>3.000000</td>\n",
       "      <td>2.000000</td>\n",
       "      <td>2.000000</td>\n",
       "      <td>3.000000</td>\n",
       "      <td>3.000000</td>\n",
       "      <td>2.000000</td>\n",
       "      <td>8.000000</td>\n",
       "      <td>3.000000</td>\n",
       "      <td>24.00000</td>\n",
       "      <td>3.000000</td>\n",
       "      <td>2018.000000</td>\n",
       "      <td>12.000000</td>\n",
       "    </tr>\n",
       "  </tbody>\n",
       "</table>\n",
       "</div>"
      ],
      "text/plain": [
       "               auto          moto        ciclom      ciclista      pedestre  \\\n",
       "count  23112.000000  23112.000000  23112.000000  23112.000000  23112.000000   \n",
       "mean       1.430512      0.250736      0.005928      0.012894      0.020639   \n",
       "std        0.756733      0.468468      0.077326      0.114342      0.149878   \n",
       "min        0.000000      0.000000      0.000000      0.000000      0.000000   \n",
       "25%        1.000000      0.000000      0.000000      0.000000      0.000000   \n",
       "50%        1.000000      0.000000      0.000000      0.000000      0.000000   \n",
       "75%        2.000000      0.000000      0.000000      0.000000      0.000000   \n",
       "max        6.000000      3.000000      2.000000      2.000000      3.000000   \n",
       "\n",
       "             onibus      caminhao       viatura        outros      vitimas  \\\n",
       "count  23112.000000  23112.000000  23112.000000  23112.000000  23112.00000   \n",
       "mean       0.154422      0.104145      0.013716      0.009129      0.21504   \n",
       "std        0.370349      0.313149      0.129010      0.096468      0.53695   \n",
       "min        0.000000      0.000000      0.000000      0.000000      0.00000   \n",
       "25%        0.000000      0.000000      0.000000      0.000000      0.00000   \n",
       "50%        0.000000      0.000000      0.000000      0.000000      0.00000   \n",
       "75%        0.000000      0.000000      0.000000      0.000000      0.00000   \n",
       "max        3.000000      2.000000      8.000000      3.000000     24.00000   \n",
       "\n",
       "       vitimasfatais           ano           mes  \n",
       "count   23112.000000  23112.000000  23112.000000  \n",
       "mean        0.002899   2017.488145      6.645985  \n",
       "std         0.058394      0.499870      3.483728  \n",
       "min         0.000000   2017.000000      1.000000  \n",
       "25%         0.000000   2017.000000      4.000000  \n",
       "50%         0.000000   2017.000000      7.000000  \n",
       "75%         0.000000   2018.000000     10.000000  \n",
       "max         3.000000   2018.000000     12.000000  "
      ]
     },
     "execution_count": 82,
     "metadata": {},
     "output_type": "execute_result"
    }
   ],
   "source": [
    "dataset.describe()"
   ]
  },
  {
   "cell_type": "code",
   "execution_count": 83,
   "metadata": {},
   "outputs": [
    {
     "data": {
      "text/plain": [
       "0.8065091791649444"
      ]
     },
     "execution_count": 83,
     "metadata": {},
     "output_type": "execute_result"
    }
   ],
   "source": [
    "# Qual seria a probabilidade de ocorrer nenhum acidente com vítimas fatais\n",
    "poisson_probability(0, 0.21504) "
   ]
  },
  {
   "cell_type": "code",
   "execution_count": 84,
   "metadata": {},
   "outputs": [
    {
     "data": {
      "text/plain": [
       "0.9971051980428115"
      ]
     },
     "execution_count": 84,
     "metadata": {},
     "output_type": "execute_result"
    }
   ],
   "source": [
    "# Qual seria a probabilidade de ocorrer nenhum acidente com vítimas\n",
    "poisson_probability(0, 0.002899)"
   ]
  },
  {
   "cell_type": "code",
   "execution_count": 85,
   "metadata": {},
   "outputs": [
    {
     "data": {
      "text/plain": [
       "0.2391864274369122"
      ]
     },
     "execution_count": 85,
     "metadata": {},
     "output_type": "execute_result"
    }
   ],
   "source": [
    "# Qual seria a probabilidade de ocorrer nenhum acidente com carro\n",
    "poisson_probability(0, 1.430512)"
   ]
  },
  {
   "cell_type": "markdown",
   "metadata": {},
   "source": [
    "Durante dois anos ocorreram a seguinte quantidade de acidentes:"
   ]
  },
  {
   "cell_type": "code",
   "execution_count": 86,
   "metadata": {},
   "outputs": [
    {
     "data": {
      "text/plain": [
       "(23112, 23)"
      ]
     },
     "execution_count": 86,
     "metadata": {},
     "output_type": "execute_result"
    }
   ],
   "source": [
    "dataset.shape"
   ]
  },
  {
   "cell_type": "markdown",
   "metadata": {},
   "source": [
    "Ocorreram 23112 acidentes em 2 anos, o que nos leva a seguinte média diária:"
   ]
  },
  {
   "cell_type": "code",
   "execution_count": 87,
   "metadata": {},
   "outputs": [
    {
     "name": "stdout",
     "output_type": "stream",
     "text": [
      "Média de acidentes diários:  31.660273972602738\n"
     ]
    }
   ],
   "source": [
    "print('Média de acidentes diários: ', 23112 / ( 365 * 2))"
   ]
  },
  {
   "cell_type": "markdown",
   "metadata": {},
   "source": [
    "Logo, a média semanal é: "
   ]
  },
  {
   "cell_type": "code",
   "execution_count": 88,
   "metadata": {},
   "outputs": [
    {
     "name": "stdout",
     "output_type": "stream",
     "text": [
      "Média de acidentes semanal:  221.62191780821917\n"
     ]
    }
   ],
   "source": [
    "print('Média de acidentes semanal: ', (31.660273972602738) * 7  ) "
   ]
  },
  {
   "cell_type": "code",
   "execution_count": 89,
   "metadata": {},
   "outputs": [
    {
     "name": "stdout",
     "output_type": "stream",
     "text": [
      "A probabilidade de que em uma semana a média de acidentes seja 200 é:  0.009127067608482937\n"
     ]
    }
   ],
   "source": [
    "print('A probabilidade de que em uma semana a média de acidentes seja 200 é: ', poisson_probability(200, 222 )   ) "
   ]
  },
  {
   "cell_type": "code",
   "execution_count": 90,
   "metadata": {},
   "outputs": [
    {
     "data": {
      "text/plain": [
       "[Text(0, 0.5, 'Frequency'), Text(0.5, 0, 'Poisson')]"
      ]
     },
     "execution_count": 90,
     "metadata": {},
     "output_type": "execute_result"
    },
    {
     "data": {
      "image/png": "[encoded data removed]",
      "text/plain": [
       "<Figure size 432x288 with 1 Axes>"
      ]
     },
     "metadata": {
      "needs_background": "light"
     },
     "output_type": "display_data"
    }
   ],
   "source": [
    "from scipy.stats import poisson\n",
    "import seaborn as sb\n",
    "ax = sb.distplot(dataset['vitimas'],\n",
    "                  kde=True,\n",
    "                  color='blue',\n",
    "                  hist_kws={\"linewidth\": 25,'alpha':1})\n",
    "ax.set(xlabel='Poisson', ylabel='Frequencia')"
   ]
  },
  {
   "cell_type": "code",
   "execution_count": 92,
   "metadata": {},
   "outputs": [
    {
     "data": {
      "text/plain": [
       "[Text(0, 0.5, 'Frequencia'), Text(0.5, 0, 'Poisson')]"
      ]
     },
     "execution_count": 92,
     "metadata": {},
     "output_type": "execute_result"
    },
    {
     "data": {
      "image/png": "[encoded data removed]",
      "text/plain": [
       "<Figure size 432x288 with 1 Axes>"
      ]
     },
     "metadata": {
      "needs_background": "light"
     },
     "output_type": "display_data"
    }
   ],
   "source": [
    "from scipy.stats import poisson\n",
    "import seaborn as sb\n",
    "ax = sb.distplot(dataset['vitimasfatais'],\n",
    "                  kde=True,\n",
    "                  color='blue',\n",
    "                  hist_kws={\"linewidth\": 25,'alpha':1})\n",
    "ax.set(xlabel='Poisson', ylabel='Frequencia')"
   ]
  },
  {
   "cell_type": "code",
   "execution_count": null,
   "metadata": {},
   "outputs": [],
   "source": []
  }
 ],
 "metadata": {
  "kernelspec": {
   "display_name": "Python 3",
   "language": "python",
   "name": "python3"
  },
  "language_info": {
   "codemirror_mode": {
    "name": "ipython",
    "version": 3
   },
   "file_extension": ".py",
   "mimetype": "text/x-python",
   "name": "python",
   "nbconvert_exporter": "python",
   "pygments_lexer": "ipython3",
   "version": "3.7.4"
  }
 },
 "nbformat": 4,
 "nbformat_minor": 4
}
